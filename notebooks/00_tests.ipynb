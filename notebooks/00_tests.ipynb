{
 "cells": [
  {
   "cell_type": "raw",
   "metadata": {},
   "source": [
    "---\n",
    "title: \"Tests\"\n",
    "format: html\n",
    "---"
   ]
  },
  {
   "attachments": {},
   "cell_type": "markdown",
   "metadata": {},
   "source": [
    "# eval_bml"
   ]
  },
  {
   "cell_type": "code",
   "execution_count": 1,
   "metadata": {},
   "outputs": [
    {
     "name": "stdout",
     "output_type": "stream",
     "text": [
      "    Metric  Memory (MB)  CompTime (s)\n",
      "0      NaN     0.023171      0.002966\n",
      "1     10.0     0.011221      0.001363\n",
      "2     11.0     0.007612      0.001470\n",
      "3     12.0     0.007498      0.001274\n",
      "4     13.0     0.007460      0.001209\n",
      "5     14.0     0.007330      0.001203\n",
      "6     15.0     0.007307      0.001149\n",
      "7     16.0     0.007269      0.001198\n",
      "8     17.0     0.007246      0.001151\n",
      "9     18.0     0.007223      0.001164\n",
      "10    19.0     0.007200      0.001151\n",
      "    y  Prediction  Difference\n",
      "0  10        20.0       -10.0\n",
      "1  11        22.0       -11.0\n",
      "2  12        24.0       -12.0\n",
      "3  13        26.0       -13.0\n",
      "4  14        28.0       -14.0\n",
      "5  15        30.0       -15.0\n",
      "6  16        32.0       -16.0\n",
      "7  17        34.0       -17.0\n",
      "8  18        36.0       -18.0\n",
      "9  19        38.0       -19.0\n"
     ]
    },
    {
     "name": "stderr",
     "output_type": "stream",
     "text": [
      "/Users/bartz/miniforge3/envs/spotCondaEnv/lib/python3.11/site-packages/spotRiver/evaluation/eval_bml.py:223: FutureWarning: The behavior of DataFrame concatenation with empty or all-NA entries is deprecated. In a future version, this will no longer exclude empty or all-NA columns when determining the result dtypes. To retain the old behavior, exclude the relevant entries before the concat operation.\n",
      "  df_eval.loc[batch_number + 1] = pd.Series(\n"
     ]
    }
   ],
   "source": [
    "import pandas as pd\n",
    "from sklearn.linear_model import LinearRegression\n",
    "from spotRiver.evaluation.eval_bml import eval_bml_horizon, eval_bml_landmark, eval_bml_window, eval_oml_horizon\n",
    "from sklearn.metrics import mean_absolute_error\n",
    "metric=mean_absolute_error\n",
    "\n",
    "model = LinearRegression()\n",
    "\n",
    "X_train = list(range(10))\n",
    "y_train = [2*x for x in X_train]\n",
    "\n",
    "X_test = list(range(10, 20))\n",
    "y_test = [x for x in X_test]\n",
    "\n",
    "train = pd.DataFrame(X_train, columns=[\"x1\"])\n",
    "train[\"y\"] = y_train\n",
    "\n",
    "test = pd.DataFrame(X_test, columns=[\"x1\"])\n",
    "test[\"y\"] = y_test\n",
    "\n",
    "target_column = \"y\"\n",
    "horizon = 1\n",
    "df_eval , df_true = eval_bml_horizon(model , train , test , target_column, horizon, metric=metric)\n",
    "print (df_eval )\n",
    "print (df_true )"
   ]
  },
  {
   "attachments": {},
   "cell_type": "markdown",
   "metadata": {},
   "source": [
    "# eval_bml_landmark"
   ]
  },
  {
   "cell_type": "code",
   "execution_count": 2,
   "metadata": {},
   "outputs": [
    {
     "name": "stdout",
     "output_type": "stream",
     "text": [
      "       Metric  Memory (MB)  CompTime (s)\n",
      "0         NaN     0.014942      0.002408\n",
      "1   10.000000     0.016403      0.003969\n",
      "2    7.363636     0.015350      0.003704\n",
      "3    5.454545     0.014977      0.003658\n",
      "4    4.038462     0.015015      0.003471\n",
      "5    2.967033     0.015053      0.003238\n",
      "6    2.142857     0.015091      0.003369\n",
      "7    1.500000     0.015129      0.003289\n",
      "8    0.992647     0.015167      0.003253\n",
      "9    0.588235     0.015205      0.003189\n",
      "10   0.263158     0.015244      0.003773\n",
      "    y  Prediction  Difference\n",
      "0  10   20.000000  -10.000000\n",
      "1  11   18.363636   -7.363636\n",
      "2  12   17.454545   -5.454545\n",
      "3  13   17.038462   -4.038462\n",
      "4  14   16.967033   -2.967033\n",
      "5  15   17.142857   -2.142857\n",
      "6  16   17.500000   -1.500000\n",
      "7  17   17.992647   -0.992647\n",
      "8  18   18.588235   -0.588235\n",
      "9  19   19.263158   -0.263158\n"
     ]
    },
    {
     "name": "stderr",
     "output_type": "stream",
     "text": [
      "/Users/bartz/miniforge3/envs/spotCondaEnv/lib/python3.11/site-packages/spotRiver/evaluation/eval_bml.py:313: FutureWarning: The behavior of DataFrame concatenation with empty or all-NA entries is deprecated. In a future version, this will no longer exclude empty or all-NA columns when determining the result dtypes. To retain the old behavior, exclude the relevant entries before the concat operation.\n",
      "  df_eval.loc[i + 1] = pd.Series(\n"
     ]
    }
   ],
   "source": [
    "import pandas as pd\n",
    "from sklearn.linear_model import LinearRegression\n",
    "from spotRiver.evaluation.eval_bml import eval_bml_landmark\n",
    "\n",
    "model = LinearRegression()\n",
    "\n",
    "X_train = list(range(10))\n",
    "y_train = [2*x for x in X_train]\n",
    "\n",
    "X_test = list(range(10, 20))\n",
    "y_test = [x for x in X_test]\n",
    "\n",
    "train = pd.DataFrame(X_train, columns=[\"x1\"])\n",
    "train[\"y\"] = y_train\n",
    "\n",
    "test = pd.DataFrame(X_test, columns=[\"x1\"])\n",
    "test[\"y\"] = y_test\n",
    "\n",
    "target_column = \"y\"\n",
    "horizon = 1\n",
    "df_eval , df_true = eval_bml_landmark(model , train , test , target_column, horizon, metric=metric)\n",
    "print (df_eval )\n",
    "print (df_true )"
   ]
  },
  {
   "attachments": {},
   "cell_type": "markdown",
   "metadata": {},
   "source": [
    "# eval_bml_window"
   ]
  },
  {
   "cell_type": "code",
   "execution_count": 3,
   "metadata": {},
   "outputs": [
    {
     "name": "stdout",
     "output_type": "stream",
     "text": [
      "       Metric  Memory (MB)  CompTime (s)\n",
      "0         NaN     0.015895      0.002726\n",
      "1   10.000000     0.014961      0.003466\n",
      "2    7.000000     0.013290      0.003969\n",
      "3    4.266667     0.013184      0.003126\n",
      "4    1.866667     0.013184      0.003474\n",
      "5    0.133333     0.013184      0.003304\n",
      "6    1.666667     0.013184      0.003395\n",
      "7    2.666667     0.013184      0.003036\n",
      "8    3.066667     0.013184      0.003007\n",
      "9    2.800000     0.013184      0.003518\n",
      "10   1.800000     0.013184      0.003563\n",
      "    y  Prediction  Difference\n",
      "0  10   20.000000  -10.000000\n",
      "1  11   18.000000   -7.000000\n",
      "2  12   16.266667   -4.266667\n",
      "3  13   14.866667   -1.866667\n",
      "4  14   13.866667    0.133333\n",
      "5  15   13.333333    1.666667\n",
      "6  16   13.333333    2.666667\n",
      "7  17   13.933333    3.066667\n",
      "8  18   15.200000    2.800000\n",
      "9  19   17.200000    1.800000\n"
     ]
    },
    {
     "name": "stderr",
     "output_type": "stream",
     "text": [
      "/Users/bartz/miniforge3/envs/spotCondaEnv/lib/python3.11/site-packages/spotRiver/evaluation/eval_bml.py:420: FutureWarning: The behavior of DataFrame concatenation with empty or all-NA entries is deprecated. In a future version, this will no longer exclude empty or all-NA columns when determining the result dtypes. To retain the old behavior, exclude the relevant entries before the concat operation.\n",
      "  df_eval.loc[i + 1] = pd.Series(\n"
     ]
    }
   ],
   "source": [
    "import pandas as pd\n",
    "from sklearn.linear_model import LinearRegression\n",
    "from spotRiver.evaluation.eval_bml import eval_bml_window\n",
    "\n",
    "model = LinearRegression()\n",
    "\n",
    "X_train = list(range(10))\n",
    "y_train = [2*x for x in X_train]\n",
    "\n",
    "X_test = list(range(10, 20))\n",
    "y_test = [x for x in X_test]\n",
    "\n",
    "train = pd.DataFrame(X_train, columns=[\"x1\"])\n",
    "train[\"y\"] = y_train\n",
    "\n",
    "test = pd.DataFrame(X_test, columns=[\"x1\"])\n",
    "test[\"y\"] = y_test\n",
    "\n",
    "target_column = \"y\"\n",
    "horizon = 1\n",
    "df_eval , df_true = eval_bml_window(model , train , test , target_column, horizon, metric=metric)\n",
    "print (df_eval )\n",
    "print (df_true )"
   ]
  },
  {
   "attachments": {},
   "cell_type": "markdown",
   "metadata": {},
   "source": [
    "# eval_oml_horizon"
   ]
  },
  {
   "cell_type": "code",
   "execution_count": 4,
   "metadata": {},
   "outputs": [
    {
     "data": {
      "text/html": [
       "<div><div class=\"river-component river-pipeline\"><details class=\"river-component river-estimator\"><summary class=\"river-summary\"><pre class=\"river-estimator-name\">StandardScaler</pre></summary><code class=\"river-estimator-params\">StandardScaler (\n",
       "  with_std=True\n",
       ")\n",
       "</code></details><details class=\"river-component river-estimator\"><summary class=\"river-summary\"><pre class=\"river-estimator-name\">LinearRegression</pre></summary><code class=\"river-estimator-params\">LinearRegression (\n",
       "  optimizer=SGD (\n",
       "    lr=Constant (\n",
       "      learning_rate=0.01\n",
       "    )\n",
       "  )\n",
       "  loss=Squared ()\n",
       "  l2=0.\n",
       "  l1=0.\n",
       "  intercept_init=0.\n",
       "  intercept_lr=Constant (\n",
       "    learning_rate=0.01\n",
       "  )\n",
       "  clip_gradient=1e+12\n",
       "  initializer=Zeros ()\n",
       ")\n",
       "</code></details></div><style scoped>\n",
       ".river-estimator {\n",
       "    padding: 1em;\n",
       "    border-style: solid;\n",
       "    background: white;\n",
       "    max-width: max-content;\n",
       "}\n",
       "\n",
       ".river-pipeline {\n",
       "    display: flex;\n",
       "    flex-direction: column;\n",
       "    align-items: center;\n",
       "    background: linear-gradient(#000, #000) no-repeat center / 1.5px 100%;\n",
       "}\n",
       "\n",
       ".river-union {\n",
       "    display: flex;\n",
       "    flex-direction: row;\n",
       "    align-items: center;\n",
       "    justify-content: center;\n",
       "    padding: 1em;\n",
       "    border-style: solid;\n",
       "    background: white;\n",
       "}\n",
       "\n",
       ".river-wrapper {\n",
       "    display: flex;\n",
       "    flex-direction: column;\n",
       "    align-items: center;\n",
       "    justify-content: center;\n",
       "    padding: 1em;\n",
       "    border-style: solid;\n",
       "    background: white;\n",
       "}\n",
       "\n",
       ".river-wrapper > .river-estimator {\n",
       "    margin-top: 1em;\n",
       "}\n",
       "\n",
       "/* Vertical spacing between steps */\n",
       "\n",
       ".river-component + .river-component {\n",
       "    margin-top: 2em;\n",
       "}\n",
       "\n",
       ".river-union > .river-estimator {\n",
       "    margin-top: 0;\n",
       "}\n",
       "\n",
       ".river-union > .river-component {\n",
       "    margin-top: 0;\n",
       "}\n",
       "\n",
       ".river-union > .pipeline {\n",
       "    margin-top: 0;\n",
       "}\n",
       "\n",
       "/* Spacing within a union of estimators */\n",
       "\n",
       ".river-union > .river-component + .river-component {\n",
       "    margin-left: 1em;\n",
       "}\n",
       "\n",
       "/* Typography */\n",
       "\n",
       ".river-estimator-params {\n",
       "    display: block;\n",
       "    white-space: pre-wrap;\n",
       "    font-size: 110%;\n",
       "    margin-top: 1em;\n",
       "}\n",
       "\n",
       ".river-estimator > .river-estimator-params,\n",
       ".river-wrapper > .river-details > river-estimator-params {\n",
       "    background-color: white !important;\n",
       "}\n",
       "\n",
       ".river-wrapper > .river-details {\n",
       "    margin-bottom: 1em;\n",
       "}\n",
       "\n",
       ".river-estimator-name {\n",
       "    display: inline;\n",
       "    margin: 0;\n",
       "    font-size: 110%;\n",
       "}\n",
       "\n",
       "/* Toggle */\n",
       "\n",
       ".river-summary {\n",
       "    display: flex;\n",
       "    align-items:center;\n",
       "    cursor: pointer;\n",
       "}\n",
       "\n",
       ".river-summary > div {\n",
       "    width: 100%;\n",
       "}\n",
       "</style></div>"
      ],
      "text/plain": [
       "Pipeline (\n",
       "  StandardScaler (\n",
       "    with_std=True\n",
       "  ),\n",
       "  LinearRegression (\n",
       "    optimizer=SGD (\n",
       "      lr=Constant (\n",
       "        learning_rate=0.01\n",
       "      )\n",
       "    )\n",
       "    loss=Squared ()\n",
       "    l2=0.\n",
       "    l1=0.\n",
       "    intercept_init=0.\n",
       "    intercept_lr=Constant (\n",
       "      learning_rate=0.01\n",
       "    )\n",
       "    clip_gradient=1e+12\n",
       "    initializer=Zeros ()\n",
       "  )\n",
       ")"
      ]
     },
     "execution_count": 4,
     "metadata": {},
     "output_type": "execute_result"
    }
   ],
   "source": [
    "import pandas as pd\n",
    "import numpy as np\n",
    "from river import linear_model\n",
    "from river import preprocessing,datasets\n",
    "model = preprocessing.StandardScaler() | linear_model.LinearRegression()\n",
    "model"
   ]
  },
  {
   "cell_type": "code",
   "execution_count": 5,
   "metadata": {},
   "outputs": [
    {
     "name": "stdout",
     "output_type": "stream",
     "text": [
      "train: (10, 2), test: (10, 2)\n"
     ]
    }
   ],
   "source": [
    "X_train = list(range(10))\n",
    "y_train = [2*x for x in X_train]\n",
    "X_test = list(range(10, 20))\n",
    "y_test = [x for x in X_test]\n",
    "train = pd.DataFrame(X_train, columns=[\"x1\"])\n",
    "train[\"y\"] = y_train\n",
    "test = pd.DataFrame(X_test, columns=[\"x1\"])\n",
    "test[\"y\"] = y_test\n",
    "target_column = \"y\"\n",
    "horizon = 1\n",
    "print(f\"train: {train.shape}, test: {test.shape}\")\n"
   ]
  },
  {
   "cell_type": "code",
   "execution_count": 6,
   "metadata": {},
   "outputs": [
    {
     "name": "stdout",
     "output_type": "stream",
     "text": [
      "       Metric  Memory (MB)  CompTime (s)\n",
      "0         NaN     0.020391      0.000669\n",
      "1    9.640000     0.006208      0.000321\n",
      "2    9.868800     0.006587      0.000243\n",
      "3   10.158053     0.006058      0.000155\n",
      "4   10.400682     0.006058      0.000147\n",
      "5   10.604331     0.006058      0.000135\n",
      "6   10.776086     0.006058      0.000186\n",
      "7   10.921452     0.006058      0.000136\n",
      "8   11.044717     0.006058      0.000119\n",
      "9   11.149290     0.006058      0.000125\n",
      "10  11.237931     0.006058      0.000118\n",
      "    y  Prediction  Difference\n",
      "0  10    0.360000    9.640000\n",
      "1  11    1.131200    9.868800\n",
      "2  12    1.841947   10.158053\n",
      "3  13    2.599318   10.400682\n",
      "4  14    3.395669   10.604331\n",
      "5  15    4.223914   10.776086\n",
      "6  16    5.078548   10.921452\n",
      "7  17    5.955283   11.044717\n",
      "8  18    6.850710   11.149290\n",
      "9  19    7.762069   11.237931\n"
     ]
    }
   ],
   "source": [
    "df_eval, df_preds = eval_oml_horizon(model, train, test, target_column, horizon, metric=metric) \n",
    "print(df_eval)\n",
    "print(df_preds)"
   ]
  },
  {
   "cell_type": "code",
   "execution_count": 7,
   "metadata": {},
   "outputs": [],
   "source": [
    "from river import linear_model, datasets, preprocessing\n",
    "from spotRiver.evaluation.eval_bml import eval_oml_horizon\n",
    "from spotRiver.utils.data_conversion import convert_to_df\n",
    "model = preprocessing.StandardScaler() | linear_model.LinearRegression()\n",
    "dataset = datasets.TrumpApproval()\n",
    "target_column = \"Approve\"\n",
    "df = convert_to_df(dataset, target_column)\n",
    "train = df[:500]\n",
    "test = df[500:]\n",
    "horizon = 1\n",
    "df_eval, df_preds = eval_oml_horizon(model, train, test, target_column, horizon, metric=metric)"
   ]
  },
  {
   "cell_type": "code",
   "execution_count": 8,
   "metadata": {},
   "outputs": [
    {
     "data": {
      "image/png": "[encoded data removed]",
      "text/plain": [
       "<Figure size 1000x500 with 3 Axes>"
      ]
     },
     "metadata": {},
     "output_type": "display_data"
    },
    {
     "data": {
      "image/png": "[encoded data removed]",
      "text/plain": [
       "<Figure size 1000x500 with 1 Axes>"
      ]
     },
     "metadata": {},
     "output_type": "display_data"
    }
   ],
   "source": [
    "from spotRiver.evaluation.eval_bml import plot_bml_oml_horizon_metrics, plot_bml_oml_horizon_predictions\n",
    "plot_bml_oml_horizon_metrics(df_eval, metric=metric)\n",
    "plot_bml_oml_horizon_predictions(df_preds, target_column=target_column)"
   ]
  },
  {
   "cell_type": "code",
   "execution_count": 9,
   "metadata": {},
   "outputs": [
    {
     "data": {
      "text/html": [
       "<div>\n",
       "<style scoped>\n",
       "    .dataframe tbody tr th:only-of-type {\n",
       "        vertical-align: middle;\n",
       "    }\n",
       "\n",
       "    .dataframe tbody tr th {\n",
       "        vertical-align: top;\n",
       "    }\n",
       "\n",
       "    .dataframe thead th {\n",
       "        text-align: right;\n",
       "    }\n",
       "</style>\n",
       "<table border=\"1\" class=\"dataframe\">\n",
       "  <thead>\n",
       "    <tr style=\"text-align: right;\">\n",
       "      <th></th>\n",
       "      <th>Metric</th>\n",
       "      <th>Memory (MB)</th>\n",
       "      <th>CompTime (s)</th>\n",
       "    </tr>\n",
       "  </thead>\n",
       "  <tbody>\n",
       "    <tr>\n",
       "      <th>0</th>\n",
       "      <td>NaN</td>\n",
       "      <td>0.008492</td>\n",
       "      <td>0.000311</td>\n",
       "    </tr>\n",
       "    <tr>\n",
       "      <th>1</th>\n",
       "      <td>41.190521</td>\n",
       "      <td>0.007668</td>\n",
       "      <td>0.000261</td>\n",
       "    </tr>\n",
       "    <tr>\n",
       "      <th>2</th>\n",
       "      <td>37.071469</td>\n",
       "      <td>0.007660</td>\n",
       "      <td>0.000244</td>\n",
       "    </tr>\n",
       "    <tr>\n",
       "      <th>3</th>\n",
       "      <td>32.911692</td>\n",
       "      <td>0.007790</td>\n",
       "      <td>0.000322</td>\n",
       "    </tr>\n",
       "    <tr>\n",
       "      <th>4</th>\n",
       "      <td>22.808685</td>\n",
       "      <td>0.007881</td>\n",
       "      <td>0.000275</td>\n",
       "    </tr>\n",
       "    <tr>\n",
       "      <th>...</th>\n",
       "      <td>...</td>\n",
       "      <td>...</td>\n",
       "      <td>...</td>\n",
       "    </tr>\n",
       "    <tr>\n",
       "      <th>497</th>\n",
       "      <td>0.353178</td>\n",
       "      <td>0.008095</td>\n",
       "      <td>0.000269</td>\n",
       "    </tr>\n",
       "    <tr>\n",
       "      <th>498</th>\n",
       "      <td>0.280880</td>\n",
       "      <td>0.008095</td>\n",
       "      <td>0.000213</td>\n",
       "    </tr>\n",
       "    <tr>\n",
       "      <th>499</th>\n",
       "      <td>0.219902</td>\n",
       "      <td>0.008095</td>\n",
       "      <td>0.000222</td>\n",
       "    </tr>\n",
       "    <tr>\n",
       "      <th>500</th>\n",
       "      <td>0.180577</td>\n",
       "      <td>0.008095</td>\n",
       "      <td>0.000212</td>\n",
       "    </tr>\n",
       "    <tr>\n",
       "      <th>501</th>\n",
       "      <td>0.010497</td>\n",
       "      <td>0.008095</td>\n",
       "      <td>0.000215</td>\n",
       "    </tr>\n",
       "  </tbody>\n",
       "</table>\n",
       "<p>502 rows × 3 columns</p>\n",
       "</div>"
      ],
      "text/plain": [
       "        Metric  Memory (MB)  CompTime (s)\n",
       "0          NaN     0.008492      0.000311\n",
       "1    41.190521     0.007668      0.000261\n",
       "2    37.071469     0.007660      0.000244\n",
       "3    32.911692     0.007790      0.000322\n",
       "4    22.808685     0.007881      0.000275\n",
       "..         ...          ...           ...\n",
       "497   0.353178     0.008095      0.000269\n",
       "498   0.280880     0.008095      0.000213\n",
       "499   0.219902     0.008095      0.000222\n",
       "500   0.180577     0.008095      0.000212\n",
       "501   0.010497     0.008095      0.000215\n",
       "\n",
       "[502 rows x 3 columns]"
      ]
     },
     "execution_count": 9,
     "metadata": {},
     "output_type": "execute_result"
    }
   ],
   "source": [
    "df_eval"
   ]
  },
  {
   "attachments": {},
   "cell_type": "markdown",
   "metadata": {},
   "source": [
    "# eval_oml_iter_progressive"
   ]
  },
  {
   "cell_type": "code",
   "execution_count": 10,
   "metadata": {},
   "outputs": [],
   "source": [
    "from river import datasets\n",
    "from spotRiver.evaluation.eval_oml import eval_oml_iter_progressive, plot_oml_iter_progressive\n",
    "from river import metrics as river_metrics\n",
    "from river import tree as river_tree\n",
    "from river import preprocessing as river_preprocessing\n",
    "dataset = datasets.TrumpApproval()"
   ]
  },
  {
   "cell_type": "code",
   "execution_count": 11,
   "metadata": {},
   "outputs": [],
   "source": [
    "model =  (river_preprocessing.StandardScaler() | river_tree.HoeffdingAdaptiveTreeRegressor(seed=1))\n",
    "\n",
    "res_num = eval_oml_iter_progressive(\n",
    "    dataset = list(dataset),\n",
    "    step = 1,\n",
    "    metric = river_metrics.MAE(),\n",
    "    models =\n",
    "    {\n",
    "        \"HATR\": model,\n",
    "    }\n",
    ")"
   ]
  },
  {
   "cell_type": "code",
   "execution_count": 12,
   "metadata": {},
   "outputs": [
    {
     "data": {
      "image/png": "[encoded data removed]",
      "text/plain": [
       "<Figure size 3000x1500 with 3 Axes>"
      ]
     },
     "execution_count": 12,
     "metadata": {},
     "output_type": "execute_result"
    }
   ],
   "source": [
    "plot_oml_iter_progressive(res_num)"
   ]
  },
  {
   "cell_type": "code",
   "execution_count": 13,
   "metadata": {},
   "outputs": [
    {
     "data": {
      "text/plain": [
       "array([ 0,  0,  0,  0,  0,  0,  0,  1,  1,  1,  1,  1,  1,  1,  2,  2,  2,\n",
       "        2,  2,  2,  2,  3,  3,  3,  3,  3,  3,  3,  4,  4,  4,  4,  4,  4,\n",
       "        4,  5,  5,  5,  5,  5,  5,  5,  6,  6,  6,  6,  6,  6,  6,  7,  7,\n",
       "        7,  7,  7,  7,  7,  8,  8,  8,  8,  8,  8,  8,  9,  9,  9,  9,  9,\n",
       "        9,  9, 10, 10, 10, 10, 10, 10, 10, 11, 11, 11, 11, 11, 11, 11, 12,\n",
       "       12, 12, 12, 12, 12, 12, 13, 13, 13, 13, 13, 13, 13, 14, 14])"
      ]
     },
     "execution_count": 13,
     "metadata": {},
     "output_type": "execute_result"
    }
   ],
   "source": [
    "import numpy as np\n",
    "np.arange(100) // 7"
   ]
  },
  {
   "cell_type": "code",
   "execution_count": 14,
   "metadata": {},
   "outputs": [
    {
     "data": {
      "text/plain": [
       "array([0, 1, 2, 3, 4, 5, 6, 0, 1, 2, 3, 4, 5, 6, 0, 1, 2, 3, 4, 5, 6, 0,\n",
       "       1, 2, 3, 4, 5, 6, 0, 1, 2, 3, 4, 5, 6, 0, 1, 2, 3, 4, 5, 6, 0, 1,\n",
       "       2, 3, 4, 5, 6, 0, 1, 2, 3, 4, 5, 6, 0, 1, 2, 3, 4, 5, 6, 0, 1, 2,\n",
       "       3, 4, 5, 6, 0, 1, 2, 3, 4, 5, 6, 0, 1, 2, 3, 4, 5, 6, 0, 1, 2, 3,\n",
       "       4, 5, 6, 0, 1, 2, 3, 4, 5, 6, 0, 1])"
      ]
     },
     "execution_count": 14,
     "metadata": {},
     "output_type": "execute_result"
    }
   ],
   "source": [
    "np.arange(100) % 7"
   ]
  },
  {
   "cell_type": "code",
   "execution_count": 15,
   "metadata": {},
   "outputs": [
    {
     "data": {
      "text/plain": [
       "1"
      ]
     },
     "execution_count": 15,
     "metadata": {},
     "output_type": "execute_result"
    }
   ],
   "source": [
    "100 % 3"
   ]
  },
  {
   "cell_type": "code",
   "execution_count": 16,
   "metadata": {},
   "outputs": [],
   "source": [
    "arr = np.arange(100) // 7\n",
    "# Remove the last two entries\n",
    "rem = 100 % 7\n",
    "arr = arr[:-rem]"
   ]
  },
  {
   "cell_type": "code",
   "execution_count": 17,
   "metadata": {},
   "outputs": [
    {
     "data": {
      "text/plain": [
       "array([ 0,  0,  0,  0,  0,  0,  0,  1,  1,  1,  1,  1,  1,  1,  2,  2,  2,\n",
       "        2,  2,  2,  2,  3,  3,  3,  3,  3,  3,  3,  4,  4,  4,  4,  4,  4,\n",
       "        4,  5,  5,  5,  5,  5,  5,  5,  6,  6,  6,  6,  6,  6,  6,  7,  7,\n",
       "        7,  7,  7,  7,  7,  8,  8,  8,  8,  8,  8,  8,  9,  9,  9,  9,  9,\n",
       "        9,  9, 10, 10, 10, 10, 10, 10, 10, 11, 11, 11, 11, 11, 11, 11, 12,\n",
       "       12, 12, 12, 12, 12, 12, 13, 13, 13, 13, 13, 13, 13])"
      ]
     },
     "execution_count": 17,
     "metadata": {},
     "output_type": "execute_result"
    }
   ],
   "source": [
    "arr"
   ]
  },
  {
   "cell_type": "code",
   "execution_count": 18,
   "metadata": {},
   "outputs": [
    {
     "data": {
      "text/html": [
       "<div>\n",
       "<style scoped>\n",
       "    .dataframe tbody tr th:only-of-type {\n",
       "        vertical-align: middle;\n",
       "    }\n",
       "\n",
       "    .dataframe tbody tr th {\n",
       "        vertical-align: top;\n",
       "    }\n",
       "\n",
       "    .dataframe thead th {\n",
       "        text-align: right;\n",
       "    }\n",
       "</style>\n",
       "<table border=\"1\" class=\"dataframe\">\n",
       "  <thead>\n",
       "    <tr style=\"text-align: right;\">\n",
       "      <th></th>\n",
       "      <th>Metric</th>\n",
       "      <th>Memory (MB)</th>\n",
       "      <th>CompTime (s)</th>\n",
       "    </tr>\n",
       "  </thead>\n",
       "  <tbody>\n",
       "    <tr>\n",
       "      <th>0</th>\n",
       "      <td>NaN</td>\n",
       "      <td>0.009781</td>\n",
       "      <td>0.001101</td>\n",
       "    </tr>\n",
       "    <tr>\n",
       "      <th>1</th>\n",
       "      <td>9.446653</td>\n",
       "      <td>0.009338</td>\n",
       "      <td>0.001323</td>\n",
       "    </tr>\n",
       "    <tr>\n",
       "      <th>2</th>\n",
       "      <td>13.311050</td>\n",
       "      <td>0.009308</td>\n",
       "      <td>0.001193</td>\n",
       "    </tr>\n",
       "    <tr>\n",
       "      <th>3</th>\n",
       "      <td>2.802979</td>\n",
       "      <td>0.009308</td>\n",
       "      <td>0.001328</td>\n",
       "    </tr>\n",
       "    <tr>\n",
       "      <th>4</th>\n",
       "      <td>4.015155</td>\n",
       "      <td>0.009254</td>\n",
       "      <td>0.001462</td>\n",
       "    </tr>\n",
       "  </tbody>\n",
       "</table>\n",
       "</div>"
      ],
      "text/plain": [
       "      Metric  Memory (MB)  CompTime (s)\n",
       "0        NaN     0.009781      0.001101\n",
       "1   9.446653     0.009338      0.001323\n",
       "2  13.311050     0.009308      0.001193\n",
       "3   2.802979     0.009308      0.001328\n",
       "4   4.015155     0.009254      0.001462"
      ]
     },
     "execution_count": 18,
     "metadata": {},
     "output_type": "execute_result"
    }
   ],
   "source": [
    "import pandas as pd\n",
    "import numpy as np\n",
    "from river import linear_model, datasets\n",
    "from river import preprocessing\n",
    "from spotRiver.evaluation.eval_bml import eval_oml_horizon\n",
    "from spotRiver.utils.data_conversion import convert_to_df\n",
    "dataset = datasets.TrumpApproval()\n",
    "target_column = \"Approval\"\n",
    "df = convert_to_df(dataset, target_column)\n",
    "train = df[:500]\n",
    "test = df[500:]\n",
    "model = preprocessing.StandardScaler() | linear_model.LinearRegression()\n",
    "\n",
    "horizon = 10\n",
    "oml_grace_period = 10\n",
    "df_eval, df_preds = eval_oml_horizon(model, train, test, target_column, horizon, oml_grace_period, metric=metric)\n",
    "df_eval.head()"
   ]
  },
  {
   "cell_type": "code",
   "execution_count": 19,
   "metadata": {},
   "outputs": [
    {
     "data": {
      "text/plain": [
       "1.3936595321012555"
      ]
     },
     "execution_count": 19,
     "metadata": {},
     "output_type": "execute_result"
    }
   ],
   "source": [
    "# take the mean of the MAEs of the predicted values and ignore the NaN values\n",
    "df_eval = df_eval.dropna()\n",
    "y = df_eval[\"Metric\"].mean()\n",
    "y"
   ]
  },
  {
   "cell_type": "code",
   "execution_count": 20,
   "metadata": {},
   "outputs": [
    {
     "data": {
      "text/html": [
       "<div>\n",
       "<style scoped>\n",
       "    .dataframe tbody tr th:only-of-type {\n",
       "        vertical-align: middle;\n",
       "    }\n",
       "\n",
       "    .dataframe tbody tr th {\n",
       "        vertical-align: top;\n",
       "    }\n",
       "\n",
       "    .dataframe thead th {\n",
       "        text-align: right;\n",
       "    }\n",
       "</style>\n",
       "<table border=\"1\" class=\"dataframe\">\n",
       "  <thead>\n",
       "    <tr style=\"text-align: right;\">\n",
       "      <th></th>\n",
       "      <th>Approval</th>\n",
       "      <th>Prediction</th>\n",
       "      <th>Difference</th>\n",
       "    </tr>\n",
       "  </thead>\n",
       "  <tbody>\n",
       "    <tr>\n",
       "      <th>0</th>\n",
       "      <td>42.03181</td>\n",
       "      <td>31.458548</td>\n",
       "      <td>10.573262</td>\n",
       "    </tr>\n",
       "    <tr>\n",
       "      <th>1</th>\n",
       "      <td>42.03181</td>\n",
       "      <td>33.080299</td>\n",
       "      <td>8.951511</td>\n",
       "    </tr>\n",
       "    <tr>\n",
       "      <th>2</th>\n",
       "      <td>42.12241</td>\n",
       "      <td>23.189917</td>\n",
       "      <td>18.932493</td>\n",
       "    </tr>\n",
       "    <tr>\n",
       "      <th>3</th>\n",
       "      <td>42.05090</td>\n",
       "      <td>17.108422</td>\n",
       "      <td>24.942478</td>\n",
       "    </tr>\n",
       "    <tr>\n",
       "      <th>4</th>\n",
       "      <td>41.76017</td>\n",
       "      <td>47.412818</td>\n",
       "      <td>-5.652648</td>\n",
       "    </tr>\n",
       "  </tbody>\n",
       "</table>\n",
       "</div>"
      ],
      "text/plain": [
       "   Approval  Prediction  Difference\n",
       "0  42.03181   31.458548   10.573262\n",
       "1  42.03181   33.080299    8.951511\n",
       "2  42.12241   23.189917   18.932493\n",
       "3  42.05090   17.108422   24.942478\n",
       "4  41.76017   47.412818   -5.652648"
      ]
     },
     "execution_count": 20,
     "metadata": {},
     "output_type": "execute_result"
    }
   ],
   "source": [
    "df_preds.head()"
   ]
  },
  {
   "cell_type": "code",
   "execution_count": 21,
   "metadata": {},
   "outputs": [
    {
     "data": {
      "text/plain": [
       "5952.380952380952"
      ]
     },
     "execution_count": 21,
     "metadata": {},
     "output_type": "execute_result"
    }
   ],
   "source": [
    "1_000_000 / (7*24)"
   ]
  },
  {
   "cell_type": "code",
   "execution_count": 22,
   "metadata": {},
   "outputs": [
    {
     "data": {
      "text/plain": [
       "1488.095238095238"
      ]
     },
     "execution_count": 22,
     "metadata": {},
     "output_type": "execute_result"
    }
   ],
   "source": [
    "250000/(7*24)"
   ]
  },
  {
   "attachments": {},
   "cell_type": "markdown",
   "metadata": {},
   "source": [
    "## Evaluate Model"
   ]
  },
  {
   "cell_type": "code",
   "execution_count": 23,
   "metadata": {},
   "outputs": [],
   "source": [
    "import numpy as np\n",
    "def evaluate_model(y_true: np.ndarray, y_pred: np.ndarray, memory: float, r_time: float, metric) -> dict:\n",
    "    \"\"\"\n",
    "    Evaluate a model's performance based on its predictions and ground truth values.\n",
    "\n",
    "    Parameters\n",
    "    ----------\n",
    "    y_true: Ground truth values as a numpy array.\n",
    "    y_pred: Predicted values as a numpy array.\n",
    "    memory: Memory usage in MB.\n",
    "    r_time: Computation time in seconds.\n",
    "    metric: A function that takes in two arguments (y_true and y_pred) and returns a score.\n",
    "\n",
    "    Returns\n",
    "    -------\n",
    "    A dictionary containing the evaluation results including the metric score, memory usage and computation time.\n",
    "\n",
    "    Example\n",
    "    ------\n",
    "    from sklearn.metrics import mean_squared_error\n",
    "        import numpy as np\n",
    "        y_true = np.array([1.0, 2.0, 3.0])\n",
    "        y_pred = np.array([1.1, 2.1, 2.9])\n",
    "        memory = 100\n",
    "        r_time = 0.5\n",
    "        result = evaluate_model(y_true=y_true,\n",
    "                                y_pred=y_pred,\n",
    "                                memory=memory,\n",
    "                                r_time=r_time,\n",
    "                                metric=mean_squared_error)\n",
    "        print(result)\n",
    "\n",
    "        # Output:\n",
    "        # {'Metric': 0.00666666666666671, 'Memory (MB)': 100, 'CompTime (s)': 0.5}\n",
    "    \"\"\"\n",
    "    if len(y_true) != len(y_pred):\n",
    "        raise ValueError(\"y_true and y_pred must have the same size\")\n",
    "    if (len(y_true) == 0) or (len(y_pred) == 0):\n",
    "        res_dict = {\n",
    "            \"Metric\": None,\n",
    "            \"Memory (MB)\": memory,\n",
    "            \"CompTime (s)\": r_time,\n",
    "        }\n",
    "        return res_dict\n",
    "    score = metric(y_true, y_pred)\n",
    "    res_dict = {\"Metric\": score, \"Memory (MB)\": memory, \"CompTime (s)\": r_time}\n",
    "    return res_dict"
   ]
  },
  {
   "cell_type": "code",
   "execution_count": 24,
   "metadata": {},
   "outputs": [
    {
     "name": "stdout",
     "output_type": "stream",
     "text": [
      "{'Metric': 0.010000000000000018, 'Memory (MB)': 100, 'CompTime (s)': 0.5}\n"
     ]
    }
   ],
   "source": [
    "from sklearn.metrics import mean_squared_error\n",
    "import numpy as np\n",
    "y_true = np.array([1.0, 2.0, 3.0])\n",
    "y_pred = np.array([1.1, 2.1, 2.9])\n",
    "memory = 100\n",
    "r_time = 0.5\n",
    "result = evaluate_model(y_true=y_true,\n",
    "                        y_pred=y_pred,\n",
    "                        memory=memory,\n",
    "                        r_time=r_time,\n",
    "                        metric=mean_squared_error)\n",
    "print(result)"
   ]
  },
  {
   "attachments": {},
   "cell_type": "markdown",
   "metadata": {},
   "source": [
    "## expect a ValueError:"
   ]
  },
  {
   "cell_type": "code",
   "execution_count": 25,
   "metadata": {},
   "outputs": [],
   "source": [
    "def test_evaluate_model():\n",
    "    y_true = np.array([1.0, 2.0])\n",
    "    y_pred = np.array([1.1, 2.1, 2.9])\n",
    "    memory = 100\n",
    "    r_time = 0.5\n",
    "\n",
    "    try:\n",
    "        result = evaluate_model(y_true=y_true,\n",
    "                                y_pred=y_pred,\n",
    "                                memory=memory,\n",
    "                                r_time=r_time,\n",
    "                                metric=mean_squared_error)\n",
    "    except ValueError as e:\n",
    "        assert str(e) == \"y_true and y_pred must have the same size\"\n",
    "\n",
    "test_evaluate_model()"
   ]
  },
  {
   "attachments": {},
   "cell_type": "markdown",
   "metadata": {},
   "source": [
    "# Class ResourceMonitor"
   ]
  },
  {
   "cell_type": "code",
   "execution_count": 26,
   "metadata": {},
   "outputs": [],
   "source": [
    "from typing import Optional\n",
    "import tracemalloc\n",
    "import time\n",
    "from dataclasses import dataclass\n",
    "class ResourceMonitorError(Exception):\n",
    "    pass\n",
    "\n",
    "@dataclass\n",
    "class ResourceUsage:\n",
    "    name: Optional[str]  # Description of Usage\n",
    "    r_time: float  # Measured in seconds\n",
    "    memory: float  # Measured in bytes\n",
    "\n",
    "    def __str__(self):\n",
    "        if self.name is None:\n",
    "            res = [f\"Resource usage for {self.name}:\"]\n",
    "        else:\n",
    "            res = [\"Resource usage:\"]\n",
    "        res.append(f\"  Time [s]: {self.r_time}\")\n",
    "        res.append(f\"  Memory [b]: {self.memory}\")\n",
    "        return \"\\n\".join(res)\n",
    "\n",
    "    def __repr__(self):\n",
    "        return str(self)\n",
    "\n",
    "class ResourceMonitor:\n",
    "    def __init__(self, name: Optional[str] = None):\n",
    "        self.name = name\n",
    "        self.r_time = None\n",
    "        self.memory = None\n",
    "        self.current_memory = None\n",
    "        self.peak_memory = None\n",
    "        self._start = None\n",
    "\n",
    "    def __enter__(self):\n",
    "        if tracemalloc.is_tracing():\n",
    "            raise ResourceMonitorError(\"Already tracing memory usage!\")\n",
    "        tracemalloc.start()\n",
    "        tracemalloc.reset_peak()\n",
    "        self._start = time.perf_counter_ns()\n",
    "\n",
    "    def __exit__(self, type, value, traceback):\n",
    "        self.r_time = (time.perf_counter_ns() - self._start) / 1.0e9\n",
    "        _, peak = tracemalloc.get_traced_memory()\n",
    "        self.memory = peak / (1024 * 1024)\n",
    "        tracemalloc.stop()\n",
    "\n",
    "    def result(self):\n",
    "        if self.r_time is None or self.memory is None:\n",
    "            raise ResourceMonitorError(\"No resources monitored yet.\")\n",
    "        return ResourceUsage(name=self.name, r_time=self.r_time, memory=self.memory)"
   ]
  },
  {
   "cell_type": "code",
   "execution_count": 27,
   "metadata": {},
   "outputs": [
    {
     "name": "stdout",
     "output_type": "stream",
     "text": [
      "Resource usage for None:\n",
      "  Time [s]: 2.875e-06\n",
      "  Memory [b]: 8.7738037109375e-05\n"
     ]
    }
   ],
   "source": [
    "rm = ResourceMonitor()\n",
    "with rm:\n",
    "    x = 10 ** 6\n",
    "print(rm.result())\n",
    "# Output:\n",
    "# Resource usage for None:\n",
    "#   Time [s]: 2.917e-06\n",
    "#   Memory [b]: 8.7738037109375e-05"
   ]
  },
  {
   "attachments": {},
   "cell_type": "markdown",
   "metadata": {},
   "source": [
    "# Eval_bml Horizon Default"
   ]
  },
  {
   "cell_type": "code",
   "execution_count": 28,
   "metadata": {},
   "outputs": [],
   "source": [
    "import numpy as np\n",
    "import pandas as pd\n",
    "from sklearn.metrics import mean_absolute_error\n",
    "\n",
    "def eval_bml_horizon_default(\n",
    "    model: object,\n",
    "    train: pd.DataFrame,\n",
    "    test: pd.DataFrame,\n",
    "    target_column: str,\n",
    "    horizon: int,\n",
    "    include_remainder: bool = True,\n",
    "    metric: object = None,\n",
    ") -> tuple:\n",
    "    train = train.reset_index(drop=True)\n",
    "    test = test.reset_index(drop=True)\n",
    "    series_preds = pd.Series(dtype=float)\n",
    "    series_diffs = pd.Series(dtype=float)\n",
    "    rm = ResourceMonitor()\n",
    "    with rm:\n",
    "        model.fit(train.loc[:, train.columns != target_column], train[target_column])\n",
    "    df_eval = pd.DataFrame.from_dict(\n",
    "        [evaluate_model(y_true=np.array([]), y_pred=np.array([]), memory=rm.memory, r_time=rm.r_time, metric=metric)]\n",
    "    )\n",
    "    if include_remainder is False:\n",
    "        rem = len(test) % horizon\n",
    "        if rem > 0:\n",
    "            test = test[:-rem]\n",
    "    for batch_number, batch_df in test.groupby(np.arange(len(test)) // horizon):\n",
    "        rm = ResourceMonitor()\n",
    "        with rm:\n",
    "            preds = pd.Series(model.predict(batch_df.loc[:, batch_df.columns != target_column]))\n",
    "        diffs = batch_df[target_column].values - preds\n",
    "        df_eval.loc[batch_number + 1] = pd.Series(\n",
    "            evaluate_model(\n",
    "                y_true=batch_df[target_column],\n",
    "                y_pred=preds,\n",
    "                memory=rm.memory,\n",
    "                r_time=rm.r_time,\n",
    "                metric=metric,\n",
    "            )\n",
    "        )\n",
    "        series_preds = pd.concat([series_preds, preds], ignore_index=True)\n",
    "        series_diffs = pd.concat([series_diffs, diffs], ignore_index=True)\n",
    "    df_true = pd.DataFrame(test[target_column])\n",
    "    df_true[\"Prediction\"] = series_preds\n",
    "    df_true[\"Difference\"] = series_diffs\n",
    "    return df_eval, df_true"
   ]
  },
  {
   "attachments": {},
   "cell_type": "markdown",
   "metadata": {},
   "source": [
    "# Eval BML New:"
   ]
  },
  {
   "cell_type": "code",
   "execution_count": 29,
   "metadata": {},
   "outputs": [],
   "source": [
    "def eval_bml_horizon(\n",
    "    model: object,\n",
    "    train: pd.DataFrame,\n",
    "    test: pd.DataFrame,\n",
    "    target_column: str,\n",
    "    horizon: int,\n",
    "    include_remainder: bool = True,\n",
    "    metric: object = None,\n",
    ") -> tuple:\n",
    "    # Reset index of train and test dataframes\n",
    "    train = train.reset_index(drop=True)\n",
    "    test = test.reset_index(drop=True)\n",
    "    # Initialize lists for predictions and differences\n",
    "    preds_list = []\n",
    "    diffs_list = []\n",
    "    # Fit the model on the training data\n",
    "    rm = ResourceMonitor()\n",
    "    with rm:\n",
    "        model.fit(train.loc[:, train.columns != target_column], train[target_column])\n",
    "    # Evaluate the model on empty arrays to get initial resource usage\n",
    "    df_eval = pd.DataFrame.from_dict(\n",
    "        [evaluate_model(y_true=np.array([]), y_pred=np.array([]), memory=rm.memory, r_time=rm.r_time, metric=metric)]\n",
    "    )\n",
    "    # If include_remainder is False, remove remainder rows from test dataframe\n",
    "    if include_remainder is False:\n",
    "        remainder = len(test) % horizon\n",
    "        if remainder > 0:\n",
    "            test = test[:-remainder]\n",
    "    # Evaluate the model on batches of size horizon from the test dataframe\n",
    "    for batch_number, batch_df in test.groupby(np.arange(len(test)) // horizon):\n",
    "        rm = ResourceMonitor()\n",
    "        with rm:\n",
    "            preds = model.predict(batch_df.loc[:, batch_df.columns != target_column])\n",
    "        diffs = batch_df[target_column].values - preds\n",
    "        df_eval.loc[batch_number + 1] = pd.Series(\n",
    "            evaluate_model(\n",
    "                y_true=batch_df[target_column],\n",
    "                y_pred=preds,\n",
    "                memory=rm.memory,\n",
    "                r_time=rm.r_time,\n",
    "                metric=metric,\n",
    "            )\n",
    "        )\n",
    "        # Append predictions and differences to their respective lists\n",
    "        preds_list.append(preds)\n",
    "        diffs_list.append(diffs)\n",
    "\n",
    "    # Concatenate predictions and differences lists into series\n",
    "    series_preds = pd.Series(np.concatenate(preds_list))\n",
    "    series_diffs = pd.Series(np.concatenate(diffs_list))\n",
    "\n",
    "    # Create a dataframe with true values and add columns for predictions and differences\n",
    "    df_true = pd.DataFrame(test[target_column])\n",
    "    df_true[\"Prediction\"] = series_preds\n",
    "    df_true[\"Difference\"] = series_diffs\n",
    "    return df_eval, df_true"
   ]
  },
  {
   "attachments": {},
   "cell_type": "markdown",
   "metadata": {},
   "source": [
    "# Example Regresssion"
   ]
  },
  {
   "cell_type": "code",
   "execution_count": 30,
   "metadata": {},
   "outputs": [
    {
     "name": "stdout",
     "output_type": "stream",
     "text": [
      "        Metric  Memory (MB)  CompTime (s)\n",
      "0          NaN     0.021534      0.002511\n",
      "1    61.145799     0.007530      0.001454\n",
      "2    48.888731     0.007271      0.001463\n",
      "3   170.215872     0.007271      0.001435\n",
      "4    86.418710     0.007271      0.001172\n",
      "5    69.331193     0.007164      0.001154\n",
      "6    28.457417     0.007164      0.001127\n",
      "7    79.175338     0.007164      0.001121\n",
      "8    32.819476     0.007164      0.001279\n",
      "9   165.593804     0.007164      0.001345\n",
      "10   67.627711     0.007164      0.001187\n",
      "             y  Prediction  Difference\n",
      "0    80.977812   65.789519   15.188292\n",
      "1  -159.314235  -52.210930 -107.103305\n",
      "2   145.089460   49.374294   95.715166\n",
      "3   -71.365151  -69.302854   -2.062297\n",
      "4  -340.439073 -168.766902 -171.672171\n",
      "5  -292.772996 -124.013422 -168.759573\n",
      "6   -66.066944    3.785586  -69.852530\n",
      "7   143.081192   40.096303  102.984889\n",
      "8   -91.292927   19.436575 -110.729502\n",
      "9   -82.787105  -54.854221  -27.932884\n",
      "10    0.509059  -20.790212   21.299271\n",
      "11   65.330329  100.945893  -35.615564\n",
      "12  136.614814   -5.229958  141.844772\n",
      "13 -115.818011  -99.312108  -16.505903\n",
      "14   70.080589   51.233521   18.847068\n",
      "15  -22.251912  -69.043795   46.791883\n",
      "16 -244.113868  -76.988176 -167.125692\n",
      "17  312.219977  148.158061  164.061916\n",
      "18   91.541411   23.640140   67.901271\n",
      "19  221.694482  154.340331   67.354150\n"
     ]
    },
    {
     "name": "stderr",
     "output_type": "stream",
     "text": [
      "/var/folders/dw/pvtj6mt91znd0hftcztqb0k00000gn/T/ipykernel_20670/389606835.py:35: FutureWarning: The behavior of DataFrame concatenation with empty or all-NA entries is deprecated. In a future version, this will no longer exclude empty or all-NA columns when determining the result dtypes. To retain the old behavior, exclude the relevant entries before the concat operation.\n",
      "  df_eval.loc[batch_number + 1] = pd.Series(\n"
     ]
    }
   ],
   "source": [
    "import pandas as pd\n",
    "from sklearn.linear_model import LinearRegression\n",
    "from sklearn.datasets import make_regression\n",
    "from sklearn.metrics import mean_squared_error\n",
    "\n",
    "model = LinearRegression()\n",
    "\n",
    "# Create synthetic data for regression with 100 observations, 3 features and one target value\n",
    "X_train, y_train = make_regression(n_samples=80, n_features=3, n_targets=1)\n",
    "X_test, y_test = make_regression(n_samples=20, n_features=3, n_targets=1)\n",
    "\n",
    "# Convert the data into a pandas data frame\n",
    "train = pd.DataFrame(X_train, columns=[\"x1\", \"x2\", \"x3\"])\n",
    "train[\"y\"] = y_train\n",
    "\n",
    "test = pd.DataFrame(X_test, columns=[\"x1\", \"x2\", \"x3\"])\n",
    "test[\"y\"] = y_test\n",
    "\n",
    "target_column = \"y\"\n",
    "horizon = 2\n",
    "include_remainder = False\n",
    "metric = mean_absolute_error\n",
    "df_eval, df_true = eval_bml_horizon(model , train , test , target_column, horizon, include_remainder = include_remainder , metric=metric)\n",
    "print (df_eval )\n",
    "print (df_true )"
   ]
  },
  {
   "attachments": {},
   "cell_type": "markdown",
   "metadata": {},
   "source": [
    "# Example Classification"
   ]
  },
  {
   "cell_type": "code",
   "execution_count": 31,
   "metadata": {},
   "outputs": [
    {
     "name": "stdout",
     "output_type": "stream",
     "text": [
      "   Metric  Memory (MB)  CompTime (s)\n",
      "0     NaN     0.054500      0.006386\n",
      "1     1.0     0.008307      0.001604\n",
      "2     1.0     0.007255      0.001465\n",
      "3     1.0     0.007140      0.001378\n",
      "4     1.0     0.007087      0.001360\n",
      "5     0.5     0.007087      0.001330\n",
      "   y  Prediction  Difference\n",
      "0  1           1           0\n",
      "1  1           1           0\n",
      "2  0           0           0\n",
      "3  0           0           0\n",
      "4  0           0           0\n",
      "5  1           1           0\n",
      "6  0           0           0\n",
      "7  1           1           0\n",
      "8  1           0           1\n",
      "9  0           0           0\n"
     ]
    },
    {
     "name": "stderr",
     "output_type": "stream",
     "text": [
      "/var/folders/dw/pvtj6mt91znd0hftcztqb0k00000gn/T/ipykernel_20670/389606835.py:35: FutureWarning: The behavior of DataFrame concatenation with empty or all-NA entries is deprecated. In a future version, this will no longer exclude empty or all-NA columns when determining the result dtypes. To retain the old behavior, exclude the relevant entries before the concat operation.\n",
      "  df_eval.loc[batch_number + 1] = pd.Series(\n"
     ]
    }
   ],
   "source": [
    "import pandas as pd\n",
    "from sklearn.linear_model import LogisticRegression\n",
    "from sklearn.datasets import make_classification\n",
    "from sklearn.metrics import accuracy_score\n",
    "\n",
    "model = LogisticRegression()\n",
    "\n",
    "# Create synthetic data for classification with 10 observations and one target value\n",
    "X_train, y_train = make_classification(n_samples=10, n_features=2, n_informative=2,\n",
    "                           n_redundant=0, n_classes=2, random_state=0)\n",
    "X_test, y_test = make_classification(n_samples=10, n_features=2, n_informative=2,\n",
    "                           n_redundant=0, n_classes=2, random_state=2)\n",
    "\n",
    "# Convert the data into a pandas data frame\n",
    "train = pd.DataFrame(X_train, columns=['Feature 1', 'Feature 2'])\n",
    "train['y'] = y_train\n",
    "test = pd.DataFrame(X_test, columns=['Feature 1', 'Feature 2'])\n",
    "test['y'] = y_test\n",
    "\n",
    "target_column = \"y\"\n",
    "horizon = 2\n",
    "include_remainder = False\n",
    "metric = accuracy_score\n",
    "df_eval, df_true = eval_bml_horizon(model , train , test , target_column, horizon, include_remainder = include_remainder , metric=metric)\n",
    "print (df_eval )\n",
    "print (df_true )"
   ]
  },
  {
   "attachments": {},
   "cell_type": "markdown",
   "metadata": {},
   "source": [
    "## 2nd example classification"
   ]
  },
  {
   "cell_type": "code",
   "execution_count": 32,
   "metadata": {},
   "outputs": [
    {
     "name": "stderr",
     "output_type": "stream",
     "text": [
      "/var/folders/dw/pvtj6mt91znd0hftcztqb0k00000gn/T/ipykernel_20670/389606835.py:35: FutureWarning: The behavior of DataFrame concatenation with empty or all-NA entries is deprecated. In a future version, this will no longer exclude empty or all-NA columns when determining the result dtypes. To retain the old behavior, exclude the relevant entries before the concat operation.\n",
      "  df_eval.loc[batch_number + 1] = pd.Series(\n"
     ]
    },
    {
     "name": "stdout",
     "output_type": "stream",
     "text": [
      "   Metric  Memory (MB)  CompTime (s)\n",
      "0     NaN     0.295778      0.013276\n",
      "1     0.9     0.011481      0.001926\n",
      "2     0.6     0.010210      0.001816\n",
      "3     0.3     0.010210      0.001732\n",
      "4     0.7     0.010210      0.001647\n",
      "   target  Prediction  Difference\n",
      "0       0           0           0\n",
      "1       1           1           0\n",
      "2       1           1           0\n",
      "3       1           0           1\n",
      "4       1           1           0\n"
     ]
    }
   ],
   "source": [
    "from sklearn.datasets import make_classification\n",
    "from sklearn.tree import DecisionTreeClassifier\n",
    "from sklearn.metrics import accuracy_score\n",
    "\n",
    "# Generate synthetic data for classification\n",
    "X_train, y_train = make_classification(n_samples=1000)\n",
    "X_test, y_test = make_classification(n_samples=1000)\n",
    "\n",
    "# Convert to DataFrames and add target column\n",
    "train_df = pd.DataFrame(X_train)\n",
    "train_df['target'] = y_train\n",
    "\n",
    "test_df = pd.DataFrame(X_test)\n",
    "test_df['target'] = y_test\n",
    "\n",
    "# Initialize Decision Tree Classifier and evaluate using eval_bml_horizon function\n",
    "dtc = DecisionTreeClassifier()\n",
    "eval_results_df, true_preds_diffs_df = eval_bml_horizon(dtc, train_df,test_df,'target', 10, True, accuracy_score)\n",
    "\n",
    "# Print first 5 rows of evaluation results DataFrame\n",
    "print(eval_results_df.head())\n",
    "\n",
    "# Print first 5 rows of true values/predictions/differences DataFrame\n",
    "print(true_preds_diffs_df.head())"
   ]
  },
  {
   "attachments": {},
   "cell_type": "markdown",
   "metadata": {},
   "source": [
    "# BML Landmark"
   ]
  },
  {
   "cell_type": "code",
   "execution_count": 33,
   "metadata": {},
   "outputs": [],
   "source": [
    "from typing import Tuple, Generator\n",
    "def gen_sliding_window(\n",
    "    df: pd.DataFrame, horizon: int, include_remainder: bool = True\n",
    ") -> Generator[pd.DataFrame, None, None]:\n",
    "    i = 0\n",
    "    while True:\n",
    "        subset = df[i * horizon : (i + 1) * horizon]\n",
    "        if len(subset) == 0:\n",
    "            break\n",
    "        elif len(subset) < horizon:\n",
    "            if include_remainder:\n",
    "                yield subset\n",
    "            break\n",
    "        i += 1\n",
    "        yield subset"
   ]
  },
  {
   "cell_type": "code",
   "execution_count": 34,
   "metadata": {},
   "outputs": [],
   "source": [
    "def eval_bml_landmark(\n",
    "    model: object,\n",
    "    train: pd.DataFrame,\n",
    "    test: pd.DataFrame,\n",
    "    target_column: str,\n",
    "    horizon: int,\n",
    "    include_remainder: bool = True,\n",
    "    metric: object = None,\n",
    ") -> tuple:\n",
    "    train = train.reset_index(drop=True)\n",
    "    test = test.reset_index(drop=True)\n",
    "    series_preds = pd.Series(dtype=float)\n",
    "    series_diffs = pd.Series(dtype=float)\n",
    "    rm = ResourceMonitor()\n",
    "    with rm:\n",
    "        model.fit(train.loc[:, train.columns != target_column], train[target_column])\n",
    "    df_eval = pd.DataFrame.from_dict(\n",
    "        [evaluate_model(y_true=np.array([]), y_pred=np.array([]), memory=rm.memory, r_time=rm.r_time, metric=metric)]\n",
    "    )\n",
    "    if include_remainder is False:\n",
    "        rem = len(test) % horizon\n",
    "        if rem > 0:\n",
    "            test = test[:-rem]\n",
    "    # Landmark Evaluation\n",
    "    for i, new_df in enumerate(gen_sliding_window(test, horizon)):\n",
    "        train = pd.concat([train, new_df], ignore_index=True)\n",
    "        rm = ResourceMonitor()\n",
    "        with rm:\n",
    "            preds = pd.Series(model.predict(new_df.loc[:, new_df.columns != target_column]))\n",
    "            model.fit(train.loc[:, train.columns != target_column], train[target_column])\n",
    "\n",
    "        diffs = new_df[target_column].values - preds\n",
    "        df_eval.loc[i + 1] = pd.Series(\n",
    "            evaluate_model(\n",
    "                y_true=new_df[target_column],\n",
    "                y_pred=preds,\n",
    "                memory=rm.memory,\n",
    "                r_time=rm.r_time,\n",
    "                metric=metric,\n",
    "            )\n",
    "        )\n",
    "        series_preds = pd.concat([series_preds, preds], ignore_index=True)\n",
    "        series_diffs = pd.concat([series_diffs, diffs], ignore_index=True)\n",
    "    df_true = pd.DataFrame(test[target_column])\n",
    "    df_true[\"Prediction\"] = series_preds\n",
    "    df_true[\"Difference\"] = series_diffs\n",
    "    return df_eval, df_true"
   ]
  },
  {
   "attachments": {},
   "cell_type": "markdown",
   "metadata": {},
   "source": [
    "## Example Regression"
   ]
  },
  {
   "cell_type": "code",
   "execution_count": 35,
   "metadata": {},
   "outputs": [
    {
     "name": "stdout",
     "output_type": "stream",
     "text": [
      "       Metric  Memory (MB)  CompTime (s)\n",
      "0         NaN     0.023028      0.002518\n",
      "1   48.063724     0.023972      0.003753\n",
      "2   52.242071     0.023254      0.003716\n",
      "3   50.993642     0.023170      0.003877\n",
      "4   79.869798     0.023338      0.003932\n",
      "5   45.628129     0.023506      0.003459\n",
      "6   14.579097     0.023674      0.003461\n",
      "7    5.911886     0.023842      0.003712\n",
      "8   21.517998     0.024010      0.003120\n",
      "9   42.175416     0.024178      0.003614\n",
      "10  27.441944     0.024345      0.003148\n",
      "            y  Prediction  Difference\n",
      "0   45.987470  106.367723  -60.380253\n",
      "1   -0.456789  -36.203984   35.747195\n",
      "2  -87.249871 -145.459303   58.209431\n",
      "3   75.677829  121.952540  -46.274712\n",
      "4  -54.527446  -64.060693    9.533247\n",
      "5   29.076478  121.530514  -92.454036\n",
      "6  -47.554435 -129.423297   81.868862\n",
      "7  -35.372780 -113.243516   77.870735\n",
      "8  -64.948277  -80.866308   15.918031\n",
      "9   92.575061  167.913288  -75.338227\n",
      "10  16.060493   27.567522  -11.507029\n",
      "11 -13.299676    4.351488  -17.651164\n",
      "12 -22.493295  -29.222164    6.728868\n",
      "13  27.948742   22.853838    5.094904\n",
      "14  24.001659   23.433657    0.568002\n",
      "15 -75.384527 -117.852520   42.467993\n",
      "16  68.841793  111.345220  -42.503427\n",
      "17  -2.260934   39.586472  -41.847406\n",
      "18 -61.019626  -77.316531   16.296905\n",
      "19  74.179525  112.766508  -38.586982\n"
     ]
    },
    {
     "name": "stderr",
     "output_type": "stream",
     "text": [
      "/var/folders/dw/pvtj6mt91znd0hftcztqb0k00000gn/T/ipykernel_20670/3311240806.py:33: FutureWarning: The behavior of DataFrame concatenation with empty or all-NA entries is deprecated. In a future version, this will no longer exclude empty or all-NA columns when determining the result dtypes. To retain the old behavior, exclude the relevant entries before the concat operation.\n",
      "  df_eval.loc[i + 1] = pd.Series(\n"
     ]
    }
   ],
   "source": [
    "import pandas as pd\n",
    "from sklearn.linear_model import LinearRegression\n",
    "from sklearn.datasets import make_regression\n",
    "from sklearn.metrics import mean_squared_error\n",
    "\n",
    "model = LinearRegression()\n",
    "\n",
    "# Create synthetic data for regression with 100 observations, 3 features and one target value\n",
    "X_train, y_train = make_regression(n_samples=80, n_features=3, n_targets=1)\n",
    "X_test, y_test = make_regression(n_samples=20, n_features=3, n_targets=1)\n",
    "\n",
    "# Convert the data into a pandas data frame\n",
    "train = pd.DataFrame(X_train, columns=[\"x1\", \"x2\", \"x3\"])\n",
    "train[\"y\"] = y_train\n",
    "\n",
    "test = pd.DataFrame(X_test, columns=[\"x1\", \"x2\", \"x3\"])\n",
    "test[\"y\"] = y_test\n",
    "\n",
    "target_column = \"y\"\n",
    "horizon = 2\n",
    "include_remainder = False\n",
    "metric = mean_absolute_error\n",
    "df_eval, df_true = eval_bml_landmark(model , train , test , target_column, horizon, include_remainder = include_remainder , metric=metric)\n",
    "print (df_eval )\n",
    "print (df_true )"
   ]
  },
  {
   "attachments": {},
   "cell_type": "markdown",
   "metadata": {},
   "source": [
    "## Example Classification"
   ]
  },
  {
   "cell_type": "code",
   "execution_count": 36,
   "metadata": {},
   "outputs": [
    {
     "name": "stderr",
     "output_type": "stream",
     "text": [
      "/var/folders/dw/pvtj6mt91znd0hftcztqb0k00000gn/T/ipykernel_20670/3311240806.py:33: FutureWarning: The behavior of DataFrame concatenation with empty or all-NA entries is deprecated. In a future version, this will no longer exclude empty or all-NA columns when determining the result dtypes. To retain the old behavior, exclude the relevant entries before the concat operation.\n",
      "  df_eval.loc[i + 1] = pd.Series(\n",
      "/var/folders/dw/pvtj6mt91znd0hftcztqb0k00000gn/T/ipykernel_20670/3311240806.py:42: FutureWarning: The behavior of array concatenation with empty entries is deprecated. In a future version, this will no longer exclude empty items when determining the result dtype. To retain the old behavior, exclude the empty entries before the concat operation.\n",
      "  series_preds = pd.concat([series_preds, preds], ignore_index=True)\n",
      "/var/folders/dw/pvtj6mt91znd0hftcztqb0k00000gn/T/ipykernel_20670/3311240806.py:43: FutureWarning: The behavior of array concatenation with empty entries is deprecated. In a future version, this will no longer exclude empty items when determining the result dtype. To retain the old behavior, exclude the empty entries before the concat operation.\n",
      "  series_diffs = pd.concat([series_diffs, diffs], ignore_index=True)\n"
     ]
    },
    {
     "name": "stdout",
     "output_type": "stream",
     "text": [
      "   Metric  Memory (MB)  CompTime (s)\n",
      "0     NaN     0.294372      0.010484\n",
      "1    0.43     0.325263      0.015108\n",
      "2    0.58     0.352710      0.015008\n",
      "3    0.83     0.380874      0.015646\n",
      "4    0.78     0.409198      0.017934\n",
      "   target  Prediction  Difference\n",
      "0       0           1          -1\n",
      "1       1           1           0\n",
      "2       1           0           1\n",
      "3       1           0           1\n",
      "4       1           1           0\n"
     ]
    }
   ],
   "source": [
    "from sklearn.datasets import make_classification\n",
    "from sklearn.tree import DecisionTreeClassifier\n",
    "from sklearn.metrics import accuracy_score\n",
    "\n",
    "# Generate synthetic data for classification\n",
    "X_train, y_train = make_classification(n_samples=1000)\n",
    "X_test, y_test = make_classification(n_samples=1000)\n",
    "\n",
    "# Convert to DataFrames and add target column\n",
    "train_df = pd.DataFrame(X_train)\n",
    "train_df['target'] = y_train\n",
    "\n",
    "test_df = pd.DataFrame(X_test)\n",
    "test_df['target'] = y_test\n",
    "\n",
    "# Initialize Decision Tree Classifier and evaluate using eval_bml_landmark function \n",
    "dtc = DecisionTreeClassifier()\n",
    "eval_results_df, true_preds_diffs_df = eval_bml_landmark(dtc, train_df,test_df,'target', 100, True, accuracy_score)\n",
    "\n",
    "# Print first 5 rows of evaluation results DataFrame \n",
    "print(eval_results_df.head())\n",
    "\n",
    "# Print first 5 rows of true values/predictions/differences DataFrame \n",
    "print(true_preds_diffs_df.head())"
   ]
  },
  {
   "cell_type": "markdown",
   "metadata": {},
   "source": [
    "# Eval BML Window"
   ]
  },
  {
   "cell_type": "code",
   "execution_count": 37,
   "metadata": {},
   "outputs": [],
   "source": [
    "def gen_horizon_shifted_window(df, window_size, horizon):\n",
    "    i = 0\n",
    "    while True:\n",
    "        train_window = df[i * horizon : i * horizon + window_size]\n",
    "        test_window = df[i * horizon + window_size : (i + 1) * horizon + window_size]\n",
    "        if len(test_window) == 0:\n",
    "            break\n",
    "        elif len(test_window) < horizon:\n",
    "            yield train_window, test_window\n",
    "            break\n",
    "        i += 1\n",
    "        yield train_window, test_window"
   ]
  },
  {
   "cell_type": "code",
   "execution_count": 38,
   "metadata": {},
   "outputs": [],
   "source": [
    "def eval_bml_window(\n",
    "    model: object,\n",
    "    train: pd.DataFrame,\n",
    "    test: pd.DataFrame,\n",
    "    target_column: str,\n",
    "    horizon: int,\n",
    "    include_remainder: bool = True,\n",
    "    metric: object = None,\n",
    ") -> tuple:\n",
    "    train = train.reset_index(drop=True)\n",
    "    test = test.reset_index(drop=True)\n",
    "    df_all = pd.concat([train, test], ignore_index=True)\n",
    "    series_preds = pd.Series(dtype=float)\n",
    "    series_diffs = pd.Series(dtype=float)\n",
    "    rm = ResourceMonitor()\n",
    "    with rm:\n",
    "        model.fit(train.loc[:, train.columns != target_column], train[target_column])\n",
    "    df_eval = pd.DataFrame.from_dict(\n",
    "        [evaluate_model(y_true=np.array([]), y_pred=np.array([]), memory=rm.memory, r_time=rm.r_time, metric=metric)]\n",
    "    )\n",
    "    if include_remainder is False:\n",
    "        rem = len(test) % horizon\n",
    "        if rem > 0:\n",
    "            test = test[:-rem]\n",
    "    for i, (w_train, w_test) in enumerate(gen_horizon_shifted_window(df_all, len(train), horizon)):\n",
    "        rm = ResourceMonitor()\n",
    "        with rm:\n",
    "            model.fit(w_train.loc[:, w_train.columns != target_column], w_train[target_column])\n",
    "            preds = pd.Series(model.predict(w_test.loc[:, w_test.columns != target_column]))\n",
    "\n",
    "        diffs = w_test[target_column].values - preds\n",
    "        df_eval.loc[i + 1] = pd.Series(\n",
    "            evaluate_model(\n",
    "                y_true=w_test[target_column],\n",
    "                y_pred=preds,\n",
    "                memory=rm.memory,\n",
    "                r_time=rm.r_time,\n",
    "                metric=metric,\n",
    "            )\n",
    "        )\n",
    "\n",
    "        series_preds = pd.concat([series_preds, preds], ignore_index=True)\n",
    "        series_diffs = pd.concat([series_diffs, diffs], ignore_index=True)\n",
    "\n",
    "    df_true = pd.DataFrame(test[target_column])\n",
    "    df_true[\"Prediction\"] = series_preds\n",
    "    df_true[\"Difference\"] = series_diffs\n",
    "    return df_eval, df_true"
   ]
  },
  {
   "attachments": {},
   "cell_type": "markdown",
   "metadata": {},
   "source": [
    "## Example Regression"
   ]
  },
  {
   "cell_type": "code",
   "execution_count": 39,
   "metadata": {},
   "outputs": [
    {
     "name": "stderr",
     "output_type": "stream",
     "text": [
      "/var/folders/dw/pvtj6mt91znd0hftcztqb0k00000gn/T/ipykernel_20670/3509107134.py:32: FutureWarning: The behavior of DataFrame concatenation with empty or all-NA entries is deprecated. In a future version, this will no longer exclude empty or all-NA columns when determining the result dtypes. To retain the old behavior, exclude the relevant entries before the concat operation.\n",
      "  df_eval.loc[i + 1] = pd.Series(\n"
     ]
    },
    {
     "name": "stdout",
     "output_type": "stream",
     "text": [
      "        Metric  Memory (MB)  CompTime (s)\n",
      "0          NaN     0.022007      0.002499\n",
      "1    14.477254     0.022331      0.003726\n",
      "2     2.749400     0.020790      0.003629\n",
      "3    32.336753     0.021051      0.003898\n",
      "4    64.166424     0.024653      0.003850\n",
      "5     6.641561     0.020683      0.003562\n",
      "6   106.212175     0.020683      0.003537\n",
      "7    22.008173     0.020470      0.003808\n",
      "8    16.681133     0.020470      0.003385\n",
      "9    36.975884     0.020470      0.003379\n",
      "10   53.652061     0.020470      0.003482\n",
      "             y  Prediction  Difference\n",
      "0    89.185417  100.305165  -11.119749\n",
      "1    22.629180   40.463938  -17.834758\n",
      "2     3.628609    3.377706    0.250904\n",
      "3  -182.885271 -177.637375   -5.247896\n",
      "4   -54.741373    3.269904  -58.011277\n",
      "5    21.299455   27.961685   -6.662230\n",
      "6    84.685150   26.683990   58.001160\n",
      "7  -158.574636  -88.242949  -70.331687\n",
      "8   -47.568072  -45.085497   -2.482575\n",
      "9    11.471100   22.271647  -10.800547\n",
      "10  193.096137  111.187281   81.908856\n",
      "11 -267.912183 -137.396689 -130.515494\n",
      "12  151.908272  179.392392  -27.484120\n",
      "13 -111.582388  -95.050161  -16.532227\n",
      "14  138.003693  117.165480   20.838213\n",
      "15  107.658554  120.182608  -12.524054\n",
      "16 -363.981028 -292.713022  -71.268006\n",
      "17  -59.871899  -62.555661    2.683762\n",
      "18  112.380273   61.528614   50.851659\n",
      "19 -304.658285 -248.205822  -56.452463\n"
     ]
    }
   ],
   "source": [
    "import pandas as pd\n",
    "from sklearn.linear_model import LinearRegression\n",
    "from sklearn.datasets import make_regression\n",
    "from sklearn.metrics import mean_absolute_error\n",
    "\n",
    "model = LinearRegression()\n",
    "\n",
    "# Create synthetic data for regression with 100 observations, 3 features and one target value\n",
    "X_train, y_train = make_regression(n_samples=80, n_features=3, n_targets=1)\n",
    "X_test, y_test = make_regression(n_samples=20, n_features=3, n_targets=1)\n",
    "\n",
    "# Convert the data into a pandas data frame\n",
    "train = pd.DataFrame(X_train, columns=[\"x1\", \"x2\", \"x3\"])\n",
    "train[\"y\"] = y_train\n",
    "\n",
    "test = pd.DataFrame(X_test, columns=[\"x1\", \"x2\", \"x3\"])\n",
    "test[\"y\"] = y_test\n",
    "\n",
    "target_column = \"y\"\n",
    "horizon = 2\n",
    "include_remainder = False\n",
    "metric = mean_absolute_error\n",
    "df_eval, df_true = eval_bml_window(model , train , test , target_column, horizon, include_remainder = include_remainder , metric=metric)\n",
    "print (df_eval )\n",
    "print (df_true )"
   ]
  },
  {
   "attachments": {},
   "cell_type": "markdown",
   "metadata": {},
   "source": [
    "## Example Classification"
   ]
  },
  {
   "cell_type": "code",
   "execution_count": 40,
   "metadata": {},
   "outputs": [
    {
     "name": "stdout",
     "output_type": "stream",
     "text": [
      "   Metric  Memory (MB)  CompTime (s)\n",
      "0     NaN     0.294394      0.012476\n",
      "1    0.51     0.294032      0.015082\n",
      "2    0.65     0.293252      0.015687\n",
      "3    0.78     0.292644      0.014302\n",
      "4    0.85     0.292644      0.013907\n",
      "   target  Prediction  Difference\n",
      "0       1           0           1\n",
      "1       1           1           0\n",
      "2       1           0           1\n",
      "3       1           0           1\n",
      "4       0           1          -1\n"
     ]
    },
    {
     "name": "stderr",
     "output_type": "stream",
     "text": [
      "/var/folders/dw/pvtj6mt91znd0hftcztqb0k00000gn/T/ipykernel_20670/3509107134.py:32: FutureWarning: The behavior of DataFrame concatenation with empty or all-NA entries is deprecated. In a future version, this will no longer exclude empty or all-NA columns when determining the result dtypes. To retain the old behavior, exclude the relevant entries before the concat operation.\n",
      "  df_eval.loc[i + 1] = pd.Series(\n",
      "/var/folders/dw/pvtj6mt91znd0hftcztqb0k00000gn/T/ipykernel_20670/3509107134.py:42: FutureWarning: The behavior of array concatenation with empty entries is deprecated. In a future version, this will no longer exclude empty items when determining the result dtype. To retain the old behavior, exclude the empty entries before the concat operation.\n",
      "  series_preds = pd.concat([series_preds, preds], ignore_index=True)\n",
      "/var/folders/dw/pvtj6mt91znd0hftcztqb0k00000gn/T/ipykernel_20670/3509107134.py:43: FutureWarning: The behavior of array concatenation with empty entries is deprecated. In a future version, this will no longer exclude empty items when determining the result dtype. To retain the old behavior, exclude the empty entries before the concat operation.\n",
      "  series_diffs = pd.concat([series_diffs, diffs], ignore_index=True)\n"
     ]
    }
   ],
   "source": [
    "from sklearn.datasets import make_classification\n",
    "from sklearn.tree import DecisionTreeClassifier\n",
    "from sklearn.metrics import accuracy_score\n",
    "\n",
    "# Generate synthetic data for classification\n",
    "X_train, y_train = make_classification(n_samples=1000)\n",
    "X_test, y_test = make_classification(n_samples=1000)\n",
    "\n",
    "# Convert to DataFrames and add target column\n",
    "train_df = pd.DataFrame(X_train)\n",
    "train_df['target'] = y_train\n",
    "\n",
    "test_df = pd.DataFrame(X_test)\n",
    "test_df['target'] = y_test\n",
    "\n",
    "# Initialize Decision Tree Classifier and evaluate using eval_bml_landmark function \n",
    "dtc = DecisionTreeClassifier()\n",
    "eval_results_df, true_preds_diffs_df = eval_bml_window(dtc, train_df,test_df,'target', 100, True, accuracy_score)\n",
    "\n",
    "# Print first 5 rows of evaluation results DataFrame \n",
    "print(eval_results_df.head())\n",
    "\n",
    "# Print first 5 rows of true values/predictions/differences DataFrame \n",
    "print(true_preds_diffs_df.head())"
   ]
  },
  {
   "attachments": {},
   "cell_type": "markdown",
   "metadata": {},
   "source": [
    "# Eval OML Horizon"
   ]
  },
  {
   "cell_type": "code",
   "execution_count": 41,
   "metadata": {},
   "outputs": [],
   "source": [
    "from river import stream as river_stream\n",
    "def eval_oml_horizon(\n",
    "    model: object,\n",
    "    train: pd.DataFrame,\n",
    "    test: pd.DataFrame,\n",
    "    target_column: str,\n",
    "    horizon: int,\n",
    "    include_remainder: bool = True,\n",
    "    metric: object = None,\n",
    "    oml_grace_period: int = None,\n",
    ") -> Tuple[pd.DataFrame, pd.DataFrame]:\n",
    "    # Check if metric is None or null and raise ValueError if it is\n",
    "    if metric is None:\n",
    "        raise ValueError(\"The 'metric' parameter must not be None or null.\")\n",
    "    if oml_grace_period is None:\n",
    "        oml_grace_period = horizon\n",
    "    train = train.reset_index(drop=True)\n",
    "    test = test.reset_index(drop=True)\n",
    "    if include_remainder is False:\n",
    "        rem = len(test) % horizon\n",
    "        if rem > 0:\n",
    "            test = test[:-rem]\n",
    "    series_preds = pd.Series(dtype=float)\n",
    "    series_diffs = pd.Series(dtype=float)\n",
    "\n",
    "    # Initial Training on Train Data\n",
    "    # For OML, this is performed on a limited subset only (oml_grace_period).\n",
    "    train_X = train.loc[:, train.columns != target_column]\n",
    "    train_y = train[target_column]\n",
    "    train_X = train_X.tail(oml_grace_period)\n",
    "    train_y = train_y.tail(oml_grace_period)\n",
    "    rm = ResourceMonitor()\n",
    "    with rm:\n",
    "        for xi, yi in river_stream.iter_pandas(train_X, train_y):\n",
    "            # The following line returns y_pred, which is not used, therefore set to \"_\":\n",
    "            _ = model.predict_one(xi)\n",
    "            # metric = metric.update(yi, y_pred)\n",
    "            model = model.learn_one(xi, yi)\n",
    "    df_eval = pd.DataFrame.from_dict(\n",
    "        [evaluate_model(y_true=np.array([]), y_pred=np.array([]), memory=rm.memory, r_time=rm.r_time, metric=metric)]\n",
    "    )\n",
    "\n",
    "    # Test Data Evaluation\n",
    "    for i, new_df in enumerate(gen_sliding_window(test, horizon)):\n",
    "        preds = []\n",
    "        test_X = new_df.loc[:, new_df.columns != target_column]\n",
    "        test_y = new_df[target_column]\n",
    "        rm = ResourceMonitor()\n",
    "        with rm:\n",
    "            for xi, yi in river_stream.iter_pandas(test_X, test_y):\n",
    "                pred = model.predict_one(xi)\n",
    "                preds.append(pred)  # This is falsly measured with the ResourceMonitor\n",
    "                model = model.learn_one(xi, yi)\n",
    "        preds = pd.Series(preds)\n",
    "        diffs = new_df[target_column].values - preds\n",
    "        df_eval.loc[i + 1] = pd.Series(\n",
    "            evaluate_model(\n",
    "                y_true=new_df[target_column],\n",
    "                y_pred=preds,\n",
    "                memory=rm.memory,\n",
    "                r_time=rm.r_time,\n",
    "                metric=metric,\n",
    "            )\n",
    "        )\n",
    "        series_preds = pd.concat([series_preds, preds], ignore_index=True)\n",
    "        series_diffs = pd.concat([series_diffs, diffs], ignore_index=True)\n",
    "    df_true = pd.DataFrame(test[target_column])\n",
    "    df_true[\"Prediction\"] = series_preds\n",
    "    df_true[\"Difference\"] = series_diffs\n",
    "    return df_eval, df_true"
   ]
  },
  {
   "attachments": {},
   "cell_type": "markdown",
   "metadata": {},
   "source": [
    "## Example Regression"
   ]
  },
  {
   "cell_type": "code",
   "execution_count": 42,
   "metadata": {},
   "outputs": [
    {
     "ename": "AttributeError",
     "evalue": "'NoneType' object has no attribute 'predict_one'",
     "output_type": "error",
     "traceback": [
      "\u001b[0;31m---------------------------------------------------------------------------\u001b[0m",
      "\u001b[0;31mAttributeError\u001b[0m                            Traceback (most recent call last)",
      "Cell \u001b[0;32mIn[42], line 22\u001b[0m\n\u001b[1;32m     20\u001b[0m oml_grace_period \u001b[38;5;241m=\u001b[39m \u001b[38;5;241m5\u001b[39m\n\u001b[1;32m     21\u001b[0m include_remainder \u001b[38;5;241m=\u001b[39m \u001b[38;5;28;01mTrue\u001b[39;00m\n\u001b[0;32m---> 22\u001b[0m df_eval, df_preds \u001b[38;5;241m=\u001b[39m \u001b[43meval_oml_horizon\u001b[49m\u001b[43m(\u001b[49m\u001b[43mmodel\u001b[49m\u001b[38;5;241;43m=\u001b[39;49m\u001b[43mmodel\u001b[49m\u001b[43m,\u001b[49m\n\u001b[1;32m     23\u001b[0m \u001b[43m                                     \u001b[49m\u001b[43mtrain\u001b[49m\u001b[38;5;241;43m=\u001b[39;49m\u001b[43mtrain\u001b[49m\u001b[43m,\u001b[49m\n\u001b[1;32m     24\u001b[0m \u001b[43m                                     \u001b[49m\u001b[43mtest\u001b[49m\u001b[38;5;241;43m=\u001b[39;49m\u001b[43mtest\u001b[49m\u001b[43m,\u001b[49m\n\u001b[1;32m     25\u001b[0m \u001b[43m                                     \u001b[49m\u001b[43mtarget_column\u001b[49m\u001b[38;5;241;43m=\u001b[39;49m\u001b[43mtarget_column\u001b[49m\u001b[43m,\u001b[49m\n\u001b[1;32m     26\u001b[0m \u001b[43m                                     \u001b[49m\u001b[43mhorizon\u001b[49m\u001b[38;5;241;43m=\u001b[39;49m\u001b[43mhorizon\u001b[49m\u001b[43m,\u001b[49m\n\u001b[1;32m     27\u001b[0m \u001b[43m                                     \u001b[49m\u001b[43minclude_remainder\u001b[49m\u001b[38;5;241;43m=\u001b[39;49m\u001b[43minclude_remainder\u001b[49m\u001b[43m,\u001b[49m\n\u001b[1;32m     28\u001b[0m \u001b[43m                                     \u001b[49m\u001b[43mmetric\u001b[49m\u001b[38;5;241;43m=\u001b[39;49m\u001b[43m \u001b[49m\u001b[43mmean_absolute_error\u001b[49m\u001b[43m,\u001b[49m\n\u001b[1;32m     29\u001b[0m \u001b[43m                                     \u001b[49m\u001b[43moml_grace_period\u001b[49m\u001b[38;5;241;43m=\u001b[39;49m\u001b[43moml_grace_period\u001b[49m\u001b[43m)\u001b[49m\n\u001b[1;32m     30\u001b[0m df_eval\u001b[38;5;241m.\u001b[39mhead(\u001b[38;5;241m3\u001b[39m)\n",
      "Cell \u001b[0;32mIn[41], line 36\u001b[0m, in \u001b[0;36meval_oml_horizon\u001b[0;34m(model, train, test, target_column, horizon, include_remainder, metric, oml_grace_period)\u001b[0m\n\u001b[1;32m     33\u001b[0m \u001b[38;5;28;01mwith\u001b[39;00m rm:\n\u001b[1;32m     34\u001b[0m     \u001b[38;5;28;01mfor\u001b[39;00m xi, yi \u001b[38;5;129;01min\u001b[39;00m river_stream\u001b[38;5;241m.\u001b[39miter_pandas(train_X, train_y):\n\u001b[1;32m     35\u001b[0m         \u001b[38;5;66;03m# The following line returns y_pred, which is not used, therefore set to \"_\":\u001b[39;00m\n\u001b[0;32m---> 36\u001b[0m         _ \u001b[38;5;241m=\u001b[39m \u001b[43mmodel\u001b[49m\u001b[38;5;241;43m.\u001b[39;49m\u001b[43mpredict_one\u001b[49m(xi)\n\u001b[1;32m     37\u001b[0m         \u001b[38;5;66;03m# metric = metric.update(yi, y_pred)\u001b[39;00m\n\u001b[1;32m     38\u001b[0m         model \u001b[38;5;241m=\u001b[39m model\u001b[38;5;241m.\u001b[39mlearn_one(xi, yi)\n",
      "\u001b[0;31mAttributeError\u001b[0m: 'NoneType' object has no attribute 'predict_one'"
     ]
    }
   ],
   "source": [
    "import pandas as pd\n",
    "import numpy as np\n",
    "from river import linear_model, preprocessing, datasets\n",
    "model = preprocessing.StandardScaler() | linear_model.LinearRegression()\n",
    "from river import datasets\n",
    "import pandas as pd\n",
    "dataset = datasets.TrumpApproval()\n",
    "data_dict = {key: [] for key in list(dataset)[0][0].keys()}\n",
    "data_dict[\"Approval\"] = []\n",
    "for x in dataset:\n",
    "    for key, value in x[0].items():\n",
    "        data_dict[key].append(value)\n",
    "    data_dict[\"Approval\"].append(x[1])\n",
    "df = pd.DataFrame(data_dict)\n",
    "df.rename(columns={'date': 'ordinal_date', 'Gallup': 'gallup', 'Ipsos': 'ipsos', 'Morning Consult': 'morning_consult', 'Rasmussen': 'rasmussen', 'YouGov': 'you_gov'}, inplace=True)\n",
    "train = df[0:499]\n",
    "test = df[500:-1]\n",
    "target_column = \"Approval\"\n",
    "horizon = 10\n",
    "oml_grace_period = 5\n",
    "include_remainder = True\n",
    "df_eval, df_preds = eval_oml_horizon(model=model,\n",
    "                                     train=train,\n",
    "                                     test=test,\n",
    "                                     target_column=target_column,\n",
    "                                     horizon=horizon,\n",
    "                                     include_remainder=include_remainder,\n",
    "                                     metric= mean_absolute_error,\n",
    "                                     oml_grace_period=oml_grace_period)\n",
    "df_eval.head(3)\n"
   ]
  },
  {
   "cell_type": "code",
   "execution_count": null,
   "metadata": {},
   "outputs": [],
   "source": [
    "df_preds.head(3)"
   ]
  },
  {
   "attachments": {},
   "cell_type": "markdown",
   "metadata": {},
   "source": [
    "## Drift"
   ]
  },
  {
   "cell_type": "code",
   "execution_count": null,
   "metadata": {},
   "outputs": [],
   "source": [
    "horizon = 7*24\n",
    "k = 0.1\n",
    "n_total = int(k*100_000)\n",
    "p_1 = int(k*25_000)\n",
    "p_2 = int(k*50_000)\n",
    "position=(p_1, p_2)\n",
    "n_train = 1_000\n",
    "a = n_train + p_1 - 12\n",
    "b = a + 12"
   ]
  },
  {
   "cell_type": "code",
   "execution_count": null,
   "metadata": {},
   "outputs": [],
   "source": [
    "from river.datasets import synth\n",
    "dataset = synth.FriedmanDrift(\n",
    "   drift_type='gra',\n",
    "   position=position,\n",
    "     seed=123\n",
    ")\n",
    "data_dict = {key: [] for key in list(dataset.take(1))[0][0].keys()}\n",
    "data_dict[\"y\"] = []\n",
    "for x, y in dataset.take(n_total):\n",
    "    for key, value in x.items():\n",
    "        data_dict[key].append(value)\n",
    "    data_dict[\"y\"].append(y)\n",
    "df = pd.DataFrame(data_dict)\n",
    "# Add column names x1 until x10 to the first 10 columns of the dataframe and the column name y to the last column\n",
    "df.columns = [f\"x{i}\" for i in range(1, 11)] + [\"y\"]\n",
    "train = df[:n_train]\n",
    "test = df[n_train:]\n",
    "target_column = \"y\""
   ]
  },
  {
   "cell_type": "code",
   "execution_count": null,
   "metadata": {},
   "outputs": [],
   "source": [
    "oml_lm = preprocessing.StandardScaler()\n",
    "oml_lm |= linear_model.LinearRegression()\n",
    "\n",
    "df_eval_oml_lm, df_true_oml_lm = eval_oml_horizon(model=oml_lm, train=train, test=test, target_column=\"y\", horizon=horizon, metric=mean_absolute_error, oml_grace_period=horizon)"
   ]
  },
  {
   "cell_type": "code",
   "execution_count": null,
   "metadata": {},
   "outputs": [],
   "source": [
    "df_eval_oml_lm.head(3)"
   ]
  },
  {
   "cell_type": "code",
   "execution_count": null,
   "metadata": {},
   "outputs": [],
   "source": [
    "df_true_oml_lm.head(3)"
   ]
  },
  {
   "attachments": {},
   "cell_type": "markdown",
   "metadata": {},
   "source": [
    "## Example Classification"
   ]
  },
  {
   "cell_type": "code",
   "execution_count": null,
   "metadata": {},
   "outputs": [],
   "source": [
    "from river.datasets import synth\n",
    "dataset = synth.SEA(variant=0, seed=42)\n",
    "data_dict = {key: [] for key in list(dataset.take(1))[0][0].keys()}\n",
    "data_dict[\"y\"] = []\n",
    "for x, y in dataset.take(n_total):\n",
    "    for key, value in x.items():\n",
    "        data_dict[key].append(value)\n",
    "    data_dict[\"y\"].append(y)\n",
    "df = pd.DataFrame(data_dict)\n",
    "# Add column names x1 until x10 to the first 10 columns of the dataframe and the column name y to the last column\n",
    "df.columns = [f\"x{i}\" for i in range(1, 4)] + [\"y\"]\n",
    "df = df.apply(lambda x: x.astype(int) if x.dtype == bool else x)\n",
    "train = df[:n_train]\n",
    "test = df[n_train:]\n",
    "target_column = \"y\""
   ]
  },
  {
   "cell_type": "code",
   "execution_count": null,
   "metadata": {},
   "outputs": [],
   "source": [
    "train.head(3)"
   ]
  },
  {
   "cell_type": "code",
   "execution_count": null,
   "metadata": {},
   "outputs": [],
   "source": [
    "test.head(3)"
   ]
  },
  {
   "cell_type": "code",
   "execution_count": null,
   "metadata": {},
   "outputs": [],
   "source": [
    "oml_lm = preprocessing.StandardScaler()\n",
    "oml_lm |= linear_model.LogisticRegression()\n",
    "\n",
    "df_eval_oml_lm, df_true_oml_lm = eval_oml_horizon(model=oml_lm, train=train, test=test, target_column=\"y\", horizon=horizon, metric=accuracy_score, oml_grace_period=horizon)"
   ]
  },
  {
   "cell_type": "code",
   "execution_count": null,
   "metadata": {},
   "outputs": [],
   "source": [
    "df_eval_oml_lm.head(3)"
   ]
  },
  {
   "attachments": {},
   "cell_type": "markdown",
   "metadata": {},
   "source": [
    "# Plots"
   ]
  },
  {
   "cell_type": "code",
   "execution_count": null,
   "metadata": {},
   "outputs": [],
   "source": [
    "import copy\n",
    "import matplotlib.pyplot as plt\n",
    "def plot_bml_oml_horizon_metrics(\n",
    "    df_eval: list[pd.DataFrame] = None,\n",
    "    df_labels: list = None,\n",
    "    log_x=False,\n",
    "    log_y=False,\n",
    "    cumulative=True,\n",
    "    grid=True,\n",
    "    fig_width=16,\n",
    "    fig_height=5,\n",
    "    metric=None,\n",
    "    **kwargs,\n",
    ") -> None:\n",
    "    # Check if input dataframes are provided\n",
    "    if df_eval is not None:\n",
    "        df_list = copy.deepcopy(df_eval)\n",
    "        # Convert single dataframe input to a list if needed\n",
    "        if df_list.__class__ != list:\n",
    "            df_list = [df_list]\n",
    "        # Define metric names and titles\n",
    "        metric_name = metric.__class__.__name__\n",
    "        metrics = [\"Metric\", \"CompTime (s)\", \"Memory (MB)\"]\n",
    "        titles = [metric_name, \"Computation time (s)\", \"Memory (MB)\"]\n",
    "        # Create subplots with shared x-axis\n",
    "        fig, axes = plt.subplots(3, figsize=(fig_width, fig_height), constrained_layout=True, sharex=True)\n",
    "        # Loop over each dataframe in input list\n",
    "        for j, df in enumerate(df_list):\n",
    "            if cumulative:\n",
    "                # df.MAE = np.cumsum(df.MAE) / range(1, (1 + df.MAE.size))\n",
    "                df[\"Metric\"] = np.cumsum(df[\"Metric\"]) / range(1, (1 + df[\"Metric\"].size))\n",
    "                df[\"CompTime (s)\"] = np.cumsum(df[\"CompTime (s)\"])  # / range(1, (1 + df[\"CompTime (s)\"].size))\n",
    "                # df[\"Memory (MB)\"] = np.cumsum(df[\"Memory (MB)\"]) / range(1, (1 + df[\"Memory (MB)\"].size))\n",
    "            # Loop over each metric\n",
    "            for i in range(3):\n",
    "                # Assign label based on input or default value\n",
    "                if df_labels is None:\n",
    "                    label = f\"{j}\"\n",
    "                else:\n",
    "                    label = df_labels[j]\n",
    "                # Plot metric values against dataset names\n",
    "                axes[i].plot(df.index.values.tolist(), df[metrics[i]].values.tolist(), label=label, **kwargs)\n",
    "                # Set title and legend\n",
    "                axes[i].set_title(titles[i])\n",
    "                axes[i].legend(loc=\"upper right\")\n",
    "                axes[i].grid(grid)\n",
    "                # Set logarithmic scales if specified\n",
    "                if log_x:\n",
    "                    axes[i].set_xscale(\"log\")\n",
    "                if log_y:\n",
    "                    axes[i].set_yscale(\"log\")\n"
   ]
  },
  {
   "cell_type": "code",
   "execution_count": null,
   "metadata": {},
   "outputs": [],
   "source": [
    "df_labels=[\"oml\"]\n",
    "plot_bml_oml_horizon_metrics(df_eval = [df_eval_oml_lm], df_labels=df_labels, cumulative=True)"
   ]
  },
  {
   "cell_type": "code",
   "execution_count": null,
   "metadata": {},
   "outputs": [],
   "source": [
    "df_true_oml_lm = df_true_oml_lm.apply(lambda x: x.astype(int) if x.dtype == bool else x)\n",
    "df_true_oml_lm.head(3)"
   ]
  },
  {
   "cell_type": "code",
   "execution_count": null,
   "metadata": {},
   "outputs": [],
   "source": [
    "def plot_bml_oml_horizon_predictions(\n",
    "df_true: list[pd.DataFrame] = None,\n",
    "df_labels: list = None,\n",
    "target_column: str = \"Actual\",\n",
    "log_x=False,\n",
    "log_y=False,\n",
    "skip_first_n=0,\n",
    "grid=True,\n",
    "fig_width=16,\n",
    "fig_height=5,\n",
    "**kwargs,\n",
    ") -> None:\n",
    "    if df_true is not None:\n",
    "        df_plot = copy.deepcopy(df_true)\n",
    "    if df_plot.__class__ != list:\n",
    "        df_plot = [df_plot]\n",
    "    # plot actual vs predicted values\n",
    "    plt.figure(figsize=(fig_width, fig_height))\n",
    "    for j, df in enumerate(df_plot):\n",
    "        # Assign label based on input or default value\n",
    "        if df_labels is None:\n",
    "            label = f\"{j}\"\n",
    "        else:\n",
    "            label = df_labels[j]\n",
    "        # skip first n values\n",
    "        df[\"Prediction\"][range(skip_first_n)] = np.nan\n",
    "        plt.plot(df.index, df[\"Prediction\"], label=label, **kwargs)\n",
    "    # Plot the actual value only once:\n",
    "    plt.plot(df_plot[0].index, df_plot[0][target_column], label=\"Actual\", **kwargs)\n",
    "    plt.title(\"Actual vs Prediction\")\n",
    "    if log_x:\n",
    "        plt.xscale(\"log\")\n",
    "    if log_y:\n",
    "        plt.yscale(\"log\")\n",
    "    plt.grid(grid)\n",
    "    plt.legend()\n",
    "plt.show()\n"
   ]
  },
  {
   "cell_type": "code",
   "execution_count": null,
   "metadata": {},
   "outputs": [],
   "source": [
    "plot_bml_oml_horizon_predictions(df_true = [df_true_oml_lm[0:150]], target_column=target_column,  df_labels=df_labels)"
   ]
  },
  {
   "cell_type": "code",
   "execution_count": null,
   "metadata": {},
   "outputs": [],
   "source": [
    "import pandas as pd\n",
    "import numpy as np\n",
    "\n",
    "# Create a sample DataFrame\n",
    "data = {'abc': [1, 2, 3], 'B': [4, 5, 6]}\n",
    "df = pd.DataFrame(data)\n",
    "\n",
    "# Set the first n rows in column \"abc\" to np.nan\n",
    "n = 1\n",
    "df.loc[:n-1,'abc'] = np.nan\n",
    "\n",
    "print(df)"
   ]
  },
  {
   "cell_type": "code",
   "execution_count": null,
   "metadata": {},
   "outputs": [],
   "source": [
    "def plot_bml_oml_horizon_predictions(\n",
    "    df_true: list[pd.DataFrame] = None,\n",
    "    df_labels: list = None,\n",
    "    target_column: str = \"Actual\",\n",
    "    log_x=False,\n",
    "    log_y=False,\n",
    "    skip_first_n=0,\n",
    "    grid=True,\n",
    "    fig_width=16,\n",
    "    fig_height=5,\n",
    "    **kwargs,\n",
    ") -> None:\n",
    "    if df_true is not None:\n",
    "        df_plot = copy.deepcopy(df_true)\n",
    "        if df_plot.__class__ != list:\n",
    "            df_plot = [df_plot]\n",
    "        plt.figure(figsize=(fig_width, fig_height))\n",
    "        for j, df in enumerate(df_plot):\n",
    "            if df_labels is None:\n",
    "                label = f\"{j}\"\n",
    "            else:\n",
    "                label = df_labels[j]\n",
    "            df.loc[: skip_first_n - 1, \"Prediction\"] = np.nan\n",
    "            plt.plot(df.index, df[\"Prediction\"], label=label, **kwargs)\n",
    "        plt.plot(df_plot[0].index, df_plot[0][target_column], label=\"Actual\", **kwargs)\n",
    "        plt.title(\"Actual vs Prediction\")\n",
    "        if log_x:\n",
    "            plt.xscale(\"log\")\n",
    "        if log_y:\n",
    "            plt.yscale(\"log\")\n",
    "        plt.grid(grid)\n",
    "        plt.legend()\n",
    "    plt.show()"
   ]
  },
  {
   "attachments": {},
   "cell_type": "markdown",
   "metadata": {},
   "source": [
    "## Categorical II"
   ]
  },
  {
   "cell_type": "code",
   "execution_count": null,
   "metadata": {},
   "outputs": [],
   "source": [
    "import calendar\n",
    "import math\n",
    "import datetime as dt\n",
    "import numpy as np\n",
    "from math import inf\n",
    "from spotPython.spot import spot\n",
    "from spotRiver.fun.hyperriver import HyperRiver\n",
    "from spotRiver.utils.selectors import select_leaf_prediction, select_leaf_model\n",
    "from spotRiver import data\n",
    "from scipy.optimize import differential_evolution\n",
    "import matplotlib.pyplot as plt\n",
    "from river import datasets, time_series, utils, compose, linear_model, optim, preprocessing, evaluate, metrics, tree \n",
    "from river.datasets import synth\n",
    "import copy\n",
    "import warnings\n",
    "import numbers\n",
    "from sklearn.preprocessing import OneHotEncoder , MinMaxScaler\n",
    "from sklearn.linear_model import RidgeCV\n",
    "from sklearn.pipeline import make_pipeline , Pipeline\n",
    "from sklearn.preprocessing import OrdinalEncoder\n",
    "from sklearn.compose import ColumnTransformer\n",
    "from sklearn.ensemble import HistGradientBoostingRegressor\n",
    "from sklearn.model_selection import cross_validate\n",
    "from sklearn.datasets import fetch_openml\n",
    "import numpy as np\n",
    "warnings.filterwarnings(\"ignore\")"
   ]
  },
  {
   "attachments": {},
   "cell_type": "markdown",
   "metadata": {},
   "source": [
    "## Bike Sharing"
   ]
  },
  {
   "cell_type": "code",
   "execution_count": null,
   "metadata": {},
   "outputs": [],
   "source": [
    "from spotRiver.data.bike_sharing import get_bike_sharing_data\n",
    "import river.stream as river_stream\n",
    "import copy\n",
    "from spotRiver.fun.hyperriver import HyperRiver\n",
    "df, train, test = get_bike_sharing_data()\n",
    "target_column=\"count\"\n",
    "n_samples = df.shape[0]\n",
    "X = copy.deepcopy(train)\n",
    "y = X.pop(\"count\")\n",
    "data = river_stream.iter_pandas(X, y)\n",
    "dataset = list(data)\n",
    "#\n",
    "categorical_columns = [\n",
    "    \"weather\",\n",
    "    \"season\",\n",
    "    \"holiday\",\n",
    "    \"workingday\",\n",
    "]\n",
    "categories = [\n",
    "    [\"clear\", \"misty\", \"rain\"],\n",
    "    [\"spring\", \"summer\", \"fall\", \"winter\"],\n",
    "    [\"False\", \"True\"],\n",
    "    [\"False\", \"True\"],\n",
    "]\n",
    "\n",
    "m = test.shape[0]\n",
    "a = int(m/2)-100\n",
    "b = int(m/2)"
   ]
  },
  {
   "attachments": {},
   "cell_type": "markdown",
   "metadata": {},
   "source": [
    "## Trump Data"
   ]
  },
  {
   "cell_type": "code",
   "execution_count": null,
   "metadata": {},
   "outputs": [],
   "source": [
    "# from sklearn.metrics import mean_absolute_error as mae\n",
    "# import pandas as pd\n",
    "# import numpy as np\n",
    "# from river import linear_model\n",
    "# from river import preprocessing, datasets\n",
    "# from spotRiver.evaluation.eval_bml import eval_oml_horizon\n",
    "# from river import datasets\n",
    "# import pandas as pd\n",
    "# from spotRiver.utils.data_conversion import convert_to_df\n",
    "# dataset = datasets.TrumpApproval()\n",
    "# target_column = \"Approval\"\n",
    "# df = convert_to_df(dataset, target_column)\n",
    "# df.rename(columns={'date': 'ordinal_date', 'Gallup': 'gallup', 'Ipsos': 'ipsos', 'Morning Consult': 'morning_consult', 'Rasmussen': 'rasmussen', 'YouGov': 'you_gov'}, inplace=True)\n",
    "# train = df[0:499]\n",
    "# test = df[500:-1]\n",
    "## model = preprocessing.StandardScaler() | linear_model.LinearRegression()\n"
   ]
  },
  {
   "cell_type": "code",
   "execution_count": null,
   "metadata": {},
   "outputs": [],
   "source": [
    "from river.tree.splitter import EBSTSplitter, QOSplitter, TEBSTSplitter, GaussianSplitter, HistogramSplitter\n",
    "from river.linear_model import LinearRegression, PARegressor, Perceptron\n",
    "from river.tree import HoeffdingTreeRegressor\n",
    "from river.preprocessing import StandardScaler\n",
    "from river.compose import Pipeline\n",
    "from numpy import power\n",
    "from spotPython.utils.convert import class_for_name\n",
    "import json\n",
    "import numpy as np\n",
    "from spotRiver.data.river_hyper_dict import HyperDict\n",
    "from spotRiver.utils.assignments import assign_values, iterate_dict_values, convert_keys\n",
    "fun_control = {}\n",
    "# default hyper_dict for all algorithms, hyperparameters and levels\n",
    "# river_hyper_dict = HyperDict().load()\n",
    "# Load loacal hyper_dict:\n",
    "with open(\"river_hyper_dict.json\", \"r\") as f:\n",
    "         river_hyper_dict = json.load(f)\n",
    "core_model = HoeffdingTreeRegressor\n",
    "fun_control.update({\"core_model\": core_model})\n",
    "algorithm = \"HoeffdingTreeRegressor\"\n",
    "algorithm_hyper_dict = river_hyper_dict[algorithm]\n",
    "hyperparameter = \"leaf_prediction\"\n",
    "levels = [\"mean\", \"model\", \"adaptive\"]\n",
    "algorithm_hyper_dict[hyperparameter].update({\"levels\": levels})\n",
    "lower = 0\n",
    "upper = len(algorithm_hyper_dict[hyperparameter]) - 1\n",
    "fun_control.update({\"algorithm_hyper_dict\": algorithm_hyper_dict})\n",
    "fun_control.update({\"core_model_name\": algorithm})\n",
    "prep_model = StandardScaler()\n",
    "fun_control.update({\"prep_model\": prep_model})"
   ]
  },
  {
   "cell_type": "code",
   "execution_count": null,
   "metadata": {},
   "outputs": [],
   "source": [
    "# todo: generate lower and upper bounds for each hyperparameter\n",
    "# fun_control"
   ]
  },
  {
   "cell_type": "code",
   "execution_count": null,
   "metadata": {},
   "outputs": [],
   "source": [
    "# Write a python function that takes the dictionary d and a key and returns the length of the \"levels\" list of the key. If the key is not in the dictionary, throw a value error.\n",
    "def get_upper_bound(d, key):\n",
    "    if key in d:\n",
    "        return len(d[key][\"levels\"]) - 1\n",
    "    else:\n",
    "        raise ValueError(\"Key not in dictionary\")"
   ]
  },
  {
   "cell_type": "code",
   "execution_count": null,
   "metadata": {},
   "outputs": [],
   "source": [
    "# Write a python function that takes the dictionaries d and v and returns a new dictionary with the same keys as v but with the values of the levels of the keys from d. If the key value in the dictionary is 0, then take the first value from the list, if it is 1, take the second and so on. If a key is not in d, throw a value error. For example, if d= {\"HoeffdingTreeRegressor\": { \"leaf_prediction\": {\"levels\": [\"mean\", \"model\", \"adaptive\"],                           \"type\": \"factor\",   \"default\": \"mean\",                            \"river_parameter_type\": \"str\"},        \"leaf_model\": {\"levels\": [\"LinearRegression\", \"PARegressor\", \"Perceptron\"],                        \"type\": \"factor\",                        \"default\": \"LinearRegression\", \"river_parameter_type\": \"instance\"},        \"splitter\": {\"levels\": [\"EBSTSplitter\", \"TEBSTSplitter\", \"QOSplitter\"],     \"type\": \"factor\",\"default\": \"EBSTSplitter\",                        \"river_parameter_type\": \"instance()\"},        \"binary_split\": {\"levels\": [0, 1],                        \"type\": \"factor\",                        \"default\": 0,                        \"river_parameter_type\": \"bool\"},        \"stop_mem_management\": {\"levels\": [0, 1],                                \"type\": \"factor\",                                \"default\": 0,                                \"river_parameter_type\": \"bool\"}    }} and v is {'grace_period': 200, 'max_depth': 10, 'delta': 1e-07, 'tau': 0.05, 'leaf_prediction': 0, 'leaf_model': 0, 'model_selector_decay': 0.95, 'splitter': 1, 'min_samples_split': 9, 'binary_split': 0, 'max_size': 500.0} then the function should return {'grace_period': 200, 'max_depth': 10, 'delta': 1e-07, 'tau': 0.05, 'leaf_prediction': 'mean', 'leaf_model': 'LinearRegression', 'model_selector_decay': 0.95, 'splitter': 'TEBSTSplitter', 'min_samples_split': 9, 'binary_split': 0, 'max_size': 500.0}\n",
    "# def get_dict_with_levels(d, v):\n",
    "#     new_dict = {}\n",
    "#     for key, value in v.items():\n",
    "#         if key in d:\n",
    "#             new_dict[key] = d[key][\"levels\"][value]\n",
    "#         else:\n",
    "#             new_dict[key] = v[key]\n",
    "#     return new_dict"
   ]
  },
  {
   "cell_type": "code",
   "execution_count": null,
   "metadata": {},
   "outputs": [],
   "source": [
    "# Write a python function that takes the dictionaries d and v and returns a new dictionary with the same keys as v but with the values of the levels of the keys from d. If the key value in the dictionary is 0, then take the first value from the list, if it is 1, take the second and so on. If a key is not in d, take the key from v. If the river_parameter_type value is instance, return the class of the value from the module river via getattr(\"river\", value). For example, if d= {\"HoeffdingTreeRegressor\": { \"leaf_prediction\": {\"levels\": [\"mean\", \"model\", \"adaptive\"],                           \"type\": \"factor\",   \"default\": \"mean\",                            \"river_parameter_type\": \"str\"},        \"leaf_model\": {\"levels\": [\"linear_model.LinearRegression\", \"linear_model.PARegressor\", \"linear_model.Perceptron\"],                        \"type\": \"factor\",                        \"default\": \"LinearRegression\", \"river_parameter_type\": \"instance\"},        \"splitter\": {\"levels\": [\"EBSTSplitter\", \"TEBSTSplitter\", \"QOSplitter\"],     \"type\": \"factor\",\"default\": \"EBSTSplitter\",                        \"river_parameter_type\": \"instance()\"},        \"binary_split\": {\"levels\": [0, 1],                        \"type\": \"factor\",                        \"default\": 0,                        \"river_parameter_type\": \"bool\"},        \"stop_mem_management\": {\"levels\": [0, 1],                                \"type\": \"factor\",                                \"default\": 0,                                \"river_parameter_type\": \"bool\"}    }} and v is {'grace_period': 200, 'max_depth': 10, 'delta': 1e-07, 'tau': 0.05, 'leaf_prediction': 0, 'leaf_model': 0, 'model_selector_decay': 0.95, 'splitter': 1, 'min_samples_split': 9, 'binary_split': 0, 'max_size': 500.0} then the function should return {'grace_period': 200, 'max_depth': 10, 'delta': 1e-07, 'tau': 0.05, 'leaf_prediction': 'mean', 'leaf_model': linear_model.LinearRegression, 'model_selector_decay': 0.95, 'splitter': 'TEBSTSplitter', 'min_samples_split': 9, 'binary_split': 0, 'max_size': 500.0}.   Note that the value of the key \"leaf_model\" is a class and not a string.\n"
   ]
  },
  {
   "cell_type": "code",
   "execution_count": null,
   "metadata": {},
   "outputs": [],
   "source": [
    "# import importlib\n",
    "\n",
    "\n",
    "# def class_for_name(module_name, class_name) -> object:\n",
    "#     \"\"\"Returns a class for a given module and class name.\n",
    "\n",
    "#     Parameters:\n",
    "#         module_name (str): The name of the module.\n",
    "#         class_name (str): The name of the class.\n",
    "\n",
    "#     Returns:\n",
    "#         object: The class.\n",
    "\n",
    "#     Example:\n",
    "#         >>> from spotPython.utils.convert import class_for_name\n",
    "#             from scipy.optimize import rosen\n",
    "#             bounds = [(0,2), (0, 2), (0, 2), (0, 2), (0, 2)]\n",
    "#             shgo_class = class_for_name(\"scipy.optimize\", \"shgo\")\n",
    "#             result = shgo_class(rosen, bounds)\n",
    "#     \"\"\"\n",
    "#     m = importlib.import_module(module_name)\n",
    "#     print(m)\n",
    "#     c = getattr(m, class_name)\n",
    "#     print(c)\n",
    "#     return c"
   ]
  },
  {
   "cell_type": "code",
   "execution_count": null,
   "metadata": {},
   "outputs": [],
   "source": [
    "# from spotPython.utils.convert import class_for_name\n",
    "def get_dict_with_levels_and_types(d, v):\n",
    "    new_dict = {}\n",
    "    for key, value in v.items():\n",
    "        if key in d and d[key][\"type\"] == \"factor\":\n",
    "            if d[key][\"river_parameter_type\"] == \"instance\":\n",
    "                print(d[key][\"levels\"][value])\n",
    "                # remove the last part of [\"a.b.c\"] and unlist it. For example, [\"a.b.c\"] becomes \"a.b\"\n",
    "                # mdl = \".\".join(d[key][\"levels\"][value].split(\".\")[:-1])\n",
    "                # if d[key][\"class_name\"] exists, use it, otherwise skip the command\n",
    "                if \"class_name\" in d[key]:\n",
    "                    mdl = d[key][\"class_name\"]\n",
    "                print(\"mdl\", mdl)\n",
    "                # select the last part of the string \"a.b.c\"\n",
    "                ## c = d[key][\"levels\"][value].split(\".\")[-1]\n",
    "                c = d[key][\"levels\"][value]\n",
    "                print(\"c\", c)\n",
    "                new_dict[key] = class_for_name(mdl, c)\n",
    "            elif d[key][\"river_parameter_type\"] == \"instance()\":\n",
    "                # mdl = \".\".join(d[key][\"levels\"][value].split(\".\")[:-1])\n",
    "                mdl = d[key][\"class_name\"]\n",
    "                print(mdl)\n",
    "                # select the last part of the string \"a.b.c\"\n",
    "                # c = d[key][\"levels\"][value].split(\".\")[-1]\n",
    "                c = d[key][\"levels\"][value]\n",
    "                print(c)\n",
    "                k = class_for_name(mdl, c)\n",
    "                new_dict[key] = k()\n",
    "            else:\n",
    "                new_dict[key] = d[key][\"levels\"][value]\n",
    "        else:\n",
    "            new_dict[key] = v[key]\n",
    "    return new_dict"
   ]
  },
  {
   "cell_type": "code",
   "execution_count": null,
   "metadata": {},
   "outputs": [],
   "source": [
    "# get the values from the \"default\" keys  from the dictionary fun_control[\"algorithm_hyper_dict\"] as a list. if the key of the value has as \"type\" the value \"int\" or \"float\", convert the value to the corresponding type  \n",
    "def get_default_values_from_dict(d):\n",
    "    new_dict = {}\n",
    "    for key, value in d.items():\n",
    "        if value[\"type\"] == \"int\":\n",
    "            new_dict[key] = int(value[\"default\"])\n",
    "        elif value[\"type\"] == \"float\":\n",
    "            new_dict[key] = float(value[\"default\"])\n",
    "        else:\n",
    "            new_dict[key] = value[\"default\"]\n",
    "    return new_dict\n",
    "default_dict = get_default_values_from_dict(fun_control[\"algorithm_hyper_dict\"])\n",
    "\n",
    "\n"
   ]
  },
  {
   "cell_type": "code",
   "execution_count": null,
   "metadata": {},
   "outputs": [],
   "source": [
    "# X = np.array([[fun_control[\"algorithm_hyper_dict\"][key][\"default\"] for key in fun_control[\"algorithm_hyper_dict\"].keys()]])\n",
    "# X.shape[1]\n",
    "# X"
   ]
  },
  {
   "cell_type": "code",
   "execution_count": null,
   "metadata": {},
   "outputs": [],
   "source": [
    "#fun_control.update({\"var_name\": list(fun_control[\"algorithm_hyper_dict\"].keys()),\n",
    "#            \"var_type\": list(fun_control[\"algorithm_hyper_dict\"][key][\"type\"] for key in fun_control[\"algorithm_hyper_dict\"].keys())})\n"
   ]
  },
  {
   "cell_type": "code",
   "execution_count": null,
   "metadata": {},
   "outputs": [],
   "source": [
    "var_type = list(fun_control[\"algorithm_hyper_dict\"][key][\"type\"] for key in fun_control[\"algorithm_hyper_dict\"].keys())\n",
    "var_name = list(fun_control[\"algorithm_hyper_dict\"].keys())"
   ]
  },
  {
   "cell_type": "code",
   "execution_count": null,
   "metadata": {},
   "outputs": [],
   "source": [
    "from river import metrics\n",
    "n_samples = 500 # Trump train and test\n",
    "horizon = 7*24\n",
    "oml_grace_period = 2\n",
    "fun = HyperRiver(seed=123, log_level=50).fun_oml_horizon\n",
    "fun_control.update({\"data\": None, # dataset,\n",
    "               \"train\": train,\n",
    "               \"test\": test,\n",
    "               \"target_column\": target_column,\n",
    "               \"horizon\": horizon,\n",
    "               \"oml_grace_period\": oml_grace_period,\n",
    "               \"n_samples\": n_samples,\n",
    "               \"weights\": np.array([1, 1/1000, 1/1000])*10_000.0,\n",
    "               \"step\": 100,\n",
    "               \"log_level\": 50,\n",
    "               \"weight_coeff\": 1.0,\n",
    "               \"metric\": metrics.MAE(),\n",
    "               \"var_name\": var_name,\n",
    "               \"var_type\": var_type,\n",
    "               \"prep_model\": prep_model,\n",
    "               \"core_model\": HoeffdingTreeRegressor,\n",
    "               \"model_name\": \"HoeffdingTreeRegressor\",})"
   ]
  },
  {
   "cell_type": "code",
   "execution_count": null,
   "metadata": {},
   "outputs": [],
   "source": [
    "# Write a function that generates a list from a dictionary. It takes the values from the keys \"upper\" in the dictionary and returns a list of the values in the same order as the keys in the dictionary. For example if the dictionary is {\"a\": {\"upper\": 1}, \"b\": {\"upper\": 2}} the function should return the list [1, 2].\n",
    "def get_lower_values_from_dict(d):\n",
    "    lower = []\n",
    "    for key, value in d.items():\n",
    "        lower.append(value[\"lower\"])\n",
    "    return lower\n",
    "lower = get_lower_values_from_dict(fun_control[\"algorithm_hyper_dict\"])\n",
    "print(lower)\n",
    "def get_upper_values_from_dict(d):\n",
    "    upper = []\n",
    "    for key, value in d.items():\n",
    "        upper.append(value[\"upper\"])\n",
    "    return upper\n",
    "upper = get_upper_values_from_dict(fun_control[\"algorithm_hyper_dict\"])\n",
    "print(upper)\n",
    "\n",
    "\n"
   ]
  },
  {
   "cell_type": "code",
   "execution_count": null,
   "metadata": {},
   "outputs": [],
   "source": [
    "def get_transform_values_from_dict(d):\n",
    "    new_list = []\n",
    "    for key, value in d.items():\n",
    "        new_list.append(value[\"transform\"])\n",
    "    return new_list\n",
    "t_val = get_transform_values_from_dict(fun_control[\"algorithm_hyper_dict\"])"
   ]
  },
  {
   "cell_type": "code",
   "execution_count": null,
   "metadata": {},
   "outputs": [],
   "source": [
    "\n",
    "model = Pipeline(fun_control[\"prep_model\"], fun_control[\"core_model\"]())\n"
   ]
  },
  {
   "cell_type": "code",
   "execution_count": null,
   "metadata": {},
   "outputs": [],
   "source": [
    "fun_control.update({\"data\": None, # dataset,\n",
    "               \"train\": train,\n",
    "               \"test\": test,\n",
    "               \"target_column\": target_column,\n",
    "               \"horizon\": horizon,\n",
    "               \"oml_grace_period\": oml_grace_period,\n",
    "               \"n_samples\": n_samples,\n",
    "               \"weights\": np.array([1, 1/1000, 1/1000])*10_000.0,\n",
    "               \"step\": 100,\n",
    "               \"log_level\": 50,\n",
    "               \"weight_coeff\": 1.0,\n",
    "               \"metric\": metrics.MAE(),\n",
    "               \"var_name\": var_name,\n",
    "               \"var_type\": var_type,\n",
    "               \"prep_model\": prep_model,\n",
    "               \"core_model\": HoeffdingTreeRegressor,\n",
    "               \"model_name\": \"HoeffdingTreeRegressor\",})"
   ]
  },
  {
   "cell_type": "code",
   "execution_count": null,
   "metadata": {},
   "outputs": [],
   "source": [
    "lower"
   ]
  },
  {
   "cell_type": "code",
   "execution_count": null,
   "metadata": {},
   "outputs": [],
   "source": [
    "print(upper)"
   ]
  },
  {
   "cell_type": "code",
   "execution_count": null,
   "metadata": {},
   "outputs": [],
   "source": [
    "# Let lower = [10, 2, 1e-08, 0.01, 0, 0, 0.9, 0, 2, 0, 100, 0.01, 0, 100.0, 100000, 0, 0, 0] and upper = [1000, 20, 1e-06, 0.1, 2, 2, 0.99, 2, 10, 1, 500, 0.1, 1, 1000.0, 1000000, 1, 1, 0]. Find entries that are equal. The ouput should be a list where 0 represents that the values are not equal and 1 represents that are equal.\n",
    "def find_equal_in_lists(lower, upper):\n",
    "    equal = []\n",
    "    for i in range(len(lower)):\n",
    "        if lower[i] == upper[i]:\n",
    "            equal.append(1)\n",
    "        else:\n",
    "            equal.append(0)\n",
    "    return equal"
   ]
  },
  {
   "cell_type": "code",
   "execution_count": null,
   "metadata": {},
   "outputs": [],
   "source": [
    "horizon = 7*24\n",
    "oml_grace_period = 2\n",
    "fun = HyperRiver(seed=123, log_level=50).fun_oml_horizon\n",
    "from spotPython.spot import spot\n",
    "from math import inf\n",
    "spot_htr = spot.Spot(fun=fun,\n",
    "                   lower = lower,\n",
    "                   upper = upper,\n",
    "                   fun_evals = inf,\n",
    "                   fun_repeats = 1,\n",
    "                   max_time = 5,\n",
    "                   noise = False,\n",
    "                   tolerance_x = np.sqrt(np.spacing(1)),\n",
    "                   var_type=var_type,\n",
    "                   var_name=var_name,\n",
    "                   infill_criterion = \"y\",\n",
    "                   n_points = 1,\n",
    "                   seed=123,\n",
    "                   log_level = 50,\n",
    "                   show_models= False,\n",
    "                   show_progress= True,\n",
    "                   fun_control = fun_control,\n",
    "                   design_control={\"init_size\": 20,\n",
    "                                   \"repeats\": 1},\n",
    "                   surrogate_control={\"noise\": True,\n",
    "                                      \"cod_type\": \"norm\",\n",
    "                                      \"min_theta\": -4,\n",
    "                                      \"max_theta\": 3,\n",
    "                                      \"n_theta\": len(var_name),\n",
    "                                      \"model_optimizer\": differential_evolution,\n",
    "                                      \"model_fun_evals\": 10_000,\n",
    "                                      \"log_level\": 50\n",
    "                                      })\n",
    "spot_htr.run()"
   ]
  },
  {
   "cell_type": "code",
   "execution_count": null,
   "metadata": {},
   "outputs": [],
   "source": [
    "\n",
    "horizon = 10\n",
    "oml_grace_period = 2\n",
    "df_eval, df_preds = eval_oml_horizon(model, train, test, target_column, horizon, oml_grace_period, metric=metric)\n"
   ]
  },
  {
   "attachments": {},
   "cell_type": "markdown",
   "metadata": {},
   "source": [
    "## a new X arrives as a numerical value from SPOT"
   ]
  },
  {
   "cell_type": "code",
   "execution_count": null,
   "metadata": {},
   "outputs": [],
   "source": [
    "\n",
    "leaf_prediction_test_value = 0\n",
    "X = np.array([[fun_control[\"algorithm_hyper_dict\"][key][\"default\"] for key in fun_control[\"algorithm_hyper_dict\"].keys()]])\n",
    "# if entry in X is a \"string\" replace it with the numerical value zero (0)\n",
    "X = np.where(X == \"string\", 0, X)\n",
    "X.shape[1]\n",
    "print(\"X\", X)\n",
    "var_dict = assign_values(X, fun_control[\"var_name\"])\n",
    "for values in iterate_dict_values(var_dict):\n",
    "            values = convert_keys(values, fun_control[\"var_type\"])\n",
    "            print(fun_control[\"algorithm_hyper_dict\"])\n",
    "            print(\"values:\", values)\n",
    "            ## values = apply_selectors(values, fun_control[\"core_model\"].__name__, fun_control[\"algorithm_hyper_dict\"])\n",
    "            values = get_dict_with_levels_and_types(d=fun_control[\"algorithm_hyper_dict\"], v=values)\n",
    "            print(\"values:\", values)\n",
    "            ## model = river.compose.Pipeline(fun_control[\"prep_model\"], fun_control[\"core_model\"](**values))\n",
    "            model = Pipeline(fun_control[\"prep_model\"], fun_control[\"core_model\"]())\n",
    "            \n"
   ]
  },
  {
   "cell_type": "code",
   "execution_count": null,
   "metadata": {},
   "outputs": [],
   "source": [
    "values"
   ]
  },
  {
   "cell_type": "code",
   "execution_count": null,
   "metadata": {},
   "outputs": [],
   "source": [
    "# get_dict_with_levels(d=fun_control[\"algorithm_hyper_dict\"], v=values)"
   ]
  },
  {
   "cell_type": "code",
   "execution_count": null,
   "metadata": {},
   "outputs": [],
   "source": [
    "# values = get_dict_with_levels_and_types(d=fun_control[\"algorithm_hyper_dict\"], v=values)"
   ]
  },
  {
   "cell_type": "code",
   "execution_count": null,
   "metadata": {},
   "outputs": [],
   "source": [
    "from sklearn.metrics import mean_absolute_error as mae\n",
    "import pandas as pd\n",
    "import numpy as np\n",
    "from river import linear_model\n",
    "from river import preprocessing, datasets\n",
    "from spotRiver.evaluation.eval_bml import eval_oml_horizon\n",
    "from river import datasets\n",
    "import pandas as pd\n",
    "from spotRiver.utils.data_conversion import convert_to_df\n",
    "dataset = datasets.TrumpApproval()\n",
    "target_column = \"Approval\"\n",
    "df = convert_to_df(dataset, target_column)\n",
    "df.rename(columns={'date': 'ordinal_date', 'Gallup': 'gallup', 'Ipsos': 'ipsos', 'Morning Consult': 'morning_consult', 'Rasmussen': 'rasmussen', 'YouGov': 'you_gov'}, inplace=True)\n",
    "train = df[0:499]\n",
    "test = df[500:-1]\n",
    "## model = preprocessing.StandardScaler() | linear_model.LinearRegression()\n",
    "metric = mae\n",
    "horizon = 10\n",
    "oml_grace_period = 2\n",
    "df_eval, df_preds = eval_oml_horizon(model, train, test, target_column, horizon, oml_grace_period, metric=metric)"
   ]
  },
  {
   "attachments": {},
   "cell_type": "markdown",
   "metadata": {},
   "source": [
    "# Categorical"
   ]
  },
  {
   "cell_type": "code",
   "execution_count": null,
   "metadata": {},
   "outputs": [],
   "source": [
    "import numpy as np\n",
    "from spotRiver.data.river_hyper_dict import HyperDict\n",
    "from spotPython.hyperparameters.categorical import one_hot_encode, sum_encoded_values, get_one_hot, add_missing_elements,find_closest_key\n",
    "from spotRiver.utils.assignments import assign_values, iterate_dict_values, convert_keys\n",
    "river_hyper_dict = HyperDict().load()\n",
    "fun_control = {}\n",
    "hyper_dict = {}\n",
    "algorithm = \"HoeffdingTreeRegressor\"\n",
    "hyperparameter = \"leaf_prediction\"\n",
    "# leaf_prediction_dict = get_one_hot(algorithm, hyperparameter,filename=\"./river_hyper_dict.json\")\n",
    "leaf_prediction_dict = get_one_hot(algorithm, hyperparameter, d=river_hyper_dict)\n",
    "print(\"leaf_prediction_dict:\", leaf_prediction_dict)\n",
    "hyper_dict[hyperparameter] = leaf_prediction_dict\n",
    "print(\"hyper_dict:\", hyper_dict)\n",
    "fun_control[\"hyper_dict\"] = hyper_dict\n",
    "print(\"fun_control:\", fun_control)\n",
    "lb = [\"mean\"]\n",
    "ub = [\"adaptive\"]\n",
    "add_missing_elements(lb, ub)\n",
    "print(\"lb:\", lb)\n",
    "print(\"ub:\", ub)\n",
    "a = sum_encoded_values(lb, fun_control[\"hyper_dict\"][\"leaf_prediction\"])\n",
    "b = sum_encoded_values(ub, fun_control[\"hyper_dict\"][\"leaf_prediction\"])\n",
    "leaf_prediction_lower = min(a,b)\n",
    "leaf_prediction_upper = max(a,b)\n",
    "print(\"leaf_prediction_lower:\", leaf_prediction_lower)\n",
    "print(\"leaf_prediction_upper:\", leaf_prediction_upper)\n",
    "#\n",
    "leaf_prediction_test_value = 4\n",
    "X = np.array([200,\n",
    "                  6,\n",
    "                  1e-6,\n",
    "                  0.075,\n",
    "                  leaf_prediction_test_value,\n",
    "                  -1,\n",
    "                  0.975,\n",
    "                  -1,\n",
    "                  10,\n",
    "                  1,\n",
    "                  750.0])\n",
    "fun_control.update({\"var_name\": [\"grace_period\",\n",
    "          \"max_depth\",\n",
    "          \"delta\",\n",
    "          \"tau\",\n",
    "          \"leaf_prediction\",\n",
    "          \"leaf_model\",\n",
    "          \"model_selector_decay\",\n",
    "          \"splitter\",\n",
    "          \"min_samples_split\",\n",
    "          \"binary_split\",\n",
    "          \"max_size\"],\n",
    "            \"var_type\": [\"int\",\n",
    "            \"int\",\n",
    "            \"num\",\n",
    "            \"num\",\n",
    "            \"factor\",\n",
    "            \"factor\",\n",
    "            \"num\",\n",
    "            \"factor\",\n",
    "            \"int\",\n",
    "            \"factor\",\n",
    "            \"num\"]})\n",
    "print(\"fun_control\", fun_control)\n",
    "X = np.array([X])\n",
    "leaf_prediction_test_value = 6\n",
    "X = np.array([[200, 10, 1e-07, 0.05, leaf_prediction_test_value, 0, 0.95, 1, 9, 0, 500.0]])\n",
    "X.shape[1]\n",
    "# print(\"X:\", X)\n",
    "# print(\"fun_control[var_name]:\",fun_control[\"var_name\"])\n",
    "var_dict = assign_values(X, fun_control[\"var_name\"])\n",
    "for values in iterate_dict_values(var_dict):\n",
    "            values = convert_keys(values, fun_control[\"var_type\"])\n",
    "            ## values = apply_selectors(values, fun_control[\"core_model\"].__name__, fun_control[\"hyper_dict\"])\n",
    "d = values\n",
    "print(d)\n",
    "hyper_dict = fun_control[\"hyper_dict\"]\n",
    "d[\"leaf_prediction\"] = find_closest_key(d[\"leaf_prediction\"], hyper_dict[\"leaf_prediction\"])\n",
    "print(d[\"leaf_prediction\"])"
   ]
  },
  {
   "cell_type": "markdown",
   "metadata": {},
   "source": [
    "# Tests Hyperriver "
   ]
  },
  {
   "cell_type": "code",
   "execution_count": null,
   "metadata": {},
   "outputs": [],
   "source": [
    "import pandas as pd\n",
    "from spotRiver.fun.hyperriver import HyperRiver\n",
    "\n",
    "def test_compute_y():\n",
    "    # create a Hyperriver object\n",
    "    hr = HyperRiver()\n",
    "\n",
    "    # create a sample evaluation DataFrame\n",
    "    df_eval = pd.DataFrame({\n",
    "        \"Metric\": [0.1, 0.2, 0.3],\n",
    "        \"CompTime (s)\": [1.0, 2.0, 3.0],\n",
    "        \"Memory (MB)\": [10.0, 20.0, 30.0]\n",
    "    })\n",
    "\n",
    "    # set the weights\n",
    "    hr.fun_control[\"weights\"] = [1, 2, 3]\n",
    "\n",
    "    # compute the objective function value\n",
    "    y = hr.compute_y(df_eval)\n",
    "\n",
    "    # check that the result is correct\n",
    "    assert y == 0.1*1 + 0.2*2 + 0.3*3"
   ]
  },
  {
   "cell_type": "code",
   "execution_count": null,
   "metadata": {},
   "outputs": [],
   "source": [
    "test_compute_y()"
   ]
  },
  {
   "cell_type": "code",
   "execution_count": null,
   "metadata": {},
   "outputs": [],
   "source": [
    "from spotRiver.fun.hyperriver import HyperRiver\n",
    "import pandas as pd\n",
    "hr = HyperRiver()\n",
    "df_eval = pd.DataFrame( [[1, 2, 3], [3, 4, 5]], columns=['Metric', 'CompTime (s)', 'Memory (MB)'])\n",
    "hr.compute_y(df_eval)"
   ]
  },
  {
   "cell_type": "code",
   "execution_count": null,
   "metadata": {},
   "outputs": [],
   "source": [
    "import pandas as pd\n",
    "from spotRiver.evaluation.eval_bml import eval_oml_horizon\n",
    "from sklearn.metrics import mean_absolute_error\n",
    "from river import linear_model\n",
    "model = linear_model.LinearRegression(intercept_lr=.1)\n",
    "train = pd.DataFrame({\"x\": [1, 2, 3], \"y\": [2, 4, 6]})\n",
    "test = pd.DataFrame({\"x\": [4, 5], \"y\": [8, 10]})\n",
    "df_eval, df_true = eval_oml_horizon(model, train, test, \"y\", horizon=1, metric=mean_absolute_error)\n",
    "print(train)\n",
    "print(test)\n",
    "print(df_eval)"
   ]
  },
  {
   "cell_type": "code",
   "execution_count": null,
   "metadata": {},
   "outputs": [],
   "source": [
    "from river import stream as river_stream\n",
    "import pandas as pd\n",
    "from spotRiver.evaluation.eval_bml import evaluate_model, ResourceMonitor, gen_sliding_window\n",
    "from sklearn.metrics import mean_absolute_error\n",
    "import numpy as np\n",
    "from river import linear_model\n",
    "model = linear_model.LinearRegression(intercept_lr=.1)\n",
    "metric = mean_absolute_error\n",
    "horizon = 1\n",
    "train = pd.DataFrame({\"x\": [1, 2, 3], \"y\": [2, 4, 6]})\n",
    "test = pd.DataFrame({\"x\": [4, 5], \"y\": [8, 10]})\n",
    "series_preds = pd.Series(dtype=float)\n",
    "series_diffs = pd.Series(dtype=float)\n",
    "target_column = \"y\"\n",
    "train = train.reset_index(drop=True)\n",
    "test = test.reset_index(drop=True)\n",
    "train_X = train.loc[:, train.columns != target_column]\n",
    "train_y = train[target_column]\n",
    "rm = ResourceMonitor()\n",
    "with rm:\n",
    "    for xi, yi in river_stream.iter_pandas(train_X, train_y):\n",
    "        # The following line returns y_pred, which is not used, therefore set to \"_\":\n",
    "        _ = model.predict_one(xi)\n",
    "        # metric = metric.update(yi, y_pred)\n",
    "        model = model.learn_one(xi, yi)\n",
    "        print(model.intercept)\n",
    "        print(model.weights)\n"
   ]
  },
  {
   "cell_type": "code",
   "execution_count": null,
   "metadata": {},
   "outputs": [],
   "source": [
    "# Old version 0.1.5\n",
    "\n",
    "# df_eval = pd.DataFrame.from_dict(\n",
    "#     [evaluate_model(y_true=np.array([]), y_pred=np.array([]), memory=rm.memory, r_time=rm.r_time, metric=metric)]\n",
    "# )\n",
    "# df_eval\n",
    "# # Test Data Evaluation\n",
    "# for i, new_df in enumerate(gen_sliding_window(test, horizon)):\n",
    "#     preds = []\n",
    "#     test_X = new_df.loc[:, new_df.columns != target_column]\n",
    "#     test_y = new_df[target_column]\n",
    "#     rm = ResourceMonitor()\n",
    "#     with rm:\n",
    "#         for xi, yi in river_stream.iter_pandas(test_X, test_y):\n",
    "#             pred = model.predict_one(xi)\n",
    "#             preds.append(pred)  # This is falsely measured with the ResourceMonitor\n",
    "#             model = model.learn_one(xi, yi)\n",
    "#     preds = pd.Series(preds)\n",
    "#     diffs = new_df[target_column].values - preds\n",
    "#     df_eval.loc[i + 1] = pd.Series(\n",
    "#         evaluate_model(\n",
    "#             y_true=new_df[target_column],\n",
    "#             y_pred=preds,\n",
    "#             memory=rm.memory,\n",
    "#             r_time=rm.r_time,\n",
    "#             metric=metric,\n",
    "#         )\n",
    "#     )\n",
    "#     series_preds = pd.concat([series_preds, preds], ignore_index=True)\n",
    "#     series_diffs = pd.concat([series_diffs, diffs], ignore_index=True)\n",
    "# df_true = pd.DataFrame(test[target_column])\n",
    "# df_true[\"Prediction\"] = series_preds\n",
    "# df_true[\"Difference\"] = series_diffs\n",
    "# df_true"
   ]
  },
  {
   "cell_type": "code",
   "execution_count": null,
   "metadata": {},
   "outputs": [],
   "source": [
    "import copy\n",
    "import pandas as pd\n",
    "import numpy as np\n",
    "from river import stream as river_stream\n",
    "from river import linear_model\n",
    "from river import preprocessing\n",
    "from river import evaluate, stream\n",
    "from river import metrics\n",
    "from spotRiver.evaluation.eval_bml import evaluate_model, ResourceMonitor, gen_sliding_window\n",
    "from sklearn.metrics import mean_absolute_error\n",
    "\n",
    "# TODO: Check, why the lin model with scaling does not work\n",
    "# model = linear_model.LinearRegression(intercept_lr=.1)\n",
    "\n",
    "model = (\n",
    "    preprocessing.StandardScaler() |\n",
    "    linear_model.LinearRegression(intercept_lr=.5)\n",
    ")\n",
    "\n",
    "horizon = 10\n",
    "\n",
    "train = pd.DataFrame({\"x\": np.arange(1, 11), \"y\": np.arange(2, 22, 2)})\n",
    "print(f\"Size of train: {train.shape}\")\n",
    "test = pd.DataFrame({\"x\": np.arange(11, 111), \"y\": np.arange(22, 222, 2)})\n",
    "print(f\"Size of test: {test.shape}\")\n",
    "target_column = \"y\"\n",
    "train = train.reset_index(drop=True)\n",
    "test = test.reset_index(drop=True)\n",
    "train_X = train.loc[:, train.columns != target_column]\n",
    "train_y = train[target_column]\n",
    "\n",
    "# Fit the model on the train data\n",
    "# No predictions are made here, only the model is fitted\n",
    "# Memory and runtime are measured for the model fitting\n",
    "rm = ResourceMonitor()\n",
    "with rm:\n",
    "    for xi, yi in river_stream.iter_pandas(train_X, train_y):\n",
    "        # Before v0.19 we had to call predict_one before learn_one\n",
    "        # in order for the whole pipeline to be updated.\n",
    "        # Since v0.19, calling learn_one in a pipeline will update each part \n",
    "        # of the pipeline in turn. \n",
    "        # Before v0.19, predict_one has to be called for updating the unsupervised parts \n",
    "        # of the pipeline.\n",
    "        # The following line, which returns y_pred, which is not used after v0.19:\n",
    "        # _ = model.predict_one(xi)         \n",
    "        model = model.learn_one(xi, yi)\n",
    "\n",
    "# Create empty lists to collect data\n",
    "eval_data = []\n",
    "series_preds = []\n",
    "series_diffs = []\n",
    "\n",
    "# Add the evaluation of the model (memory and time, not predictions) on the train data to the eval_data list\n",
    "# A metric must not be passed to the evaluate_model function, because no predictions are made here\n",
    "# If a metric is passed, it will be ignored, because no predictions are passed to the evaluation function\n",
    "# So, metric=None and metric=mean_absolute_error will both work\n",
    "metric = mean_absolute_error\n",
    "eval_data.append(evaluate_model(y_true=np.array([]), y_pred=np.array([]), memory=rm.memory, r_time=rm.r_time, metric=metric))\n",
    "print(f\"eval_data: {eval_data}\")\n",
    "\n",
    "# Test Data Evaluation\n",
    "# A sliding window of length horizon is used to evaluate the model on the test data\n",
    "for i, new_df in enumerate(gen_sliding_window(test, horizon)):\n",
    "    print(\"i:\", i)\n",
    "    print(\"new_df:\", new_df)\n",
    "    preds = []\n",
    "    test_X = new_df.loc[:, new_df.columns != target_column]\n",
    "    test_y = new_df[target_column]\n",
    "    rm = ResourceMonitor()\n",
    "    with rm:\n",
    "        for xi, yi in river_stream.iter_pandas(test_X, test_y):\n",
    "            pred = model.predict_one(xi)\n",
    "            preds.append(pred)\n",
    "            model = model.learn_one(xi, yi)\n",
    "    preds = pd.Series(preds)\n",
    "    diffs = new_df[target_column].values - preds\n",
    "\n",
    "    # Collect data in lists\n",
    "    eval_data.append(evaluate_model(\n",
    "        y_true=new_df[target_column],\n",
    "        y_pred=preds,\n",
    "        memory=rm.memory,\n",
    "        r_time=rm.r_time,\n",
    "        metric=metric\n",
    "    ))\n",
    "    series_preds.extend(preds)\n",
    "    series_diffs.extend(diffs)\n",
    "\n",
    "# Create DataFrames from the collected data\n",
    "df_eval = pd.DataFrame(eval_data)\n",
    "df_true = pd.DataFrame(test[target_column])\n",
    "df_true[\"Prediction\"] = series_preds\n",
    "df_true[\"Difference\"] = series_diffs\n",
    "print(df_true)\n",
    "print(df_eval)"
   ]
  },
  {
   "cell_type": "code",
   "execution_count": null,
   "metadata": {},
   "outputs": [],
   "source": [
    "# make a deep copy of the test and assign it to X\n",
    "X = copy.deepcopy(test)\n",
    "y = X.pop('y')\n",
    "dataset = stream.iter_pandas(X, y)\n",
    "# for xi, yi in dataset:\n",
    "#     print(xi, yi)\n",
    "metric = metrics.MAE()\n",
    "evaluate.progressive_val_score(dataset, model, metric)"
   ]
  },
  {
   "cell_type": "code",
   "execution_count": null,
   "metadata": {},
   "outputs": [],
   "source": [
    "# make a deep copy of the test and assign it to X\n",
    "X = copy.deepcopy(test)\n",
    "y = X.pop('y')\n",
    "dataset = stream.iter_pandas(X, y)\n",
    "x, y = next(iter(dataset))\n",
    "report = model.debug_one(x)\n",
    "print(report)\n"
   ]
  },
  {
   "cell_type": "code",
   "execution_count": null,
   "metadata": {},
   "outputs": [],
   "source": [
    "x, y = next(iter(dataset))\n",
    "report = model.debug_one(x)\n",
    "print(report)"
   ]
  },
  {
   "cell_type": "code",
   "execution_count": null,
   "metadata": {},
   "outputs": [],
   "source": [
    "import pandas as pd\n",
    "import numpy as np\n",
    "from river import linear_model\n",
    "from river import preprocessing\n",
    "from sklearn.metrics import mean_absolute_error\n",
    "from spotRiver.evaluation.eval_bml import eval_oml_horizon\n",
    "metric = mean_absolute_error\n",
    "model = (\n",
    "        preprocessing.StandardScaler() |\n",
    "        linear_model.LinearRegression(intercept_lr=.5)\n",
    "    )\n",
    "horizon = 5\n",
    "train = pd.DataFrame({\"x\": np.arange(1, 11), \"y\": np.arange(2, 22, 2)})\n",
    "print(f\"Size of train: {train.shape}\")\n",
    "test = pd.DataFrame({\"x\": np.arange(11, 111), \"y\": np.arange(22, 222, 2)})\n",
    "print(f\"Size of test: {test.shape}\")\n",
    "target_column = \"y\"\n",
    "res, preds = eval_oml_horizon(\n",
    "    model = model,\n",
    "    train = train,\n",
    "    test = test,\n",
    "    target_column = target_column,\n",
    "    horizon = horizon,\n",
    "    include_remainder = True,\n",
    "    metric = metric,\n",
    "    oml_grace_period = horizon,\n",
    ")\n",
    "print(res.shape[0] == 1 + test.shape[0] // horizon)\n",
    "print(preds.shape == (test.shape[0],3))"
   ]
  },
  {
   "cell_type": "markdown",
   "metadata": {},
   "source": [
    "# Evaluation: eval_oml_horizon()"
   ]
  },
  {
   "cell_type": "code",
   "execution_count": null,
   "metadata": {},
   "outputs": [],
   "source": [
    "import numpy as np\n",
    "from sklearn.metrics import accuracy_score\n",
    "from river import preprocessing\n",
    "from river.forest import AMFClassifier\n",
    "from river.datasets import Bananas, CreditCard, Phishing\n",
    "from math import inf\n",
    "\n",
    "from spotRiver.data.river_hyper_dict import RiverHyperDict\n",
    "from spotRiver.utils.data_conversion import convert_to_df\n",
    "from spotRiver.evaluation.eval_bml import eval_oml_horizon\n",
    "from spotRiver.fun.hyperriver import HyperRiver\n",
    "from spotRiver.evaluation.eval_bml import plot_bml_oml_horizon_metrics\n",
    "from spotPython.plot.validation import plot_roc_from_dataframes\n",
    "from spotPython.plot.validation import plot_confusion_matrix\n",
    "from spotRiver.evaluation.eval_bml import plot_bml_oml_horizon_metrics\n",
    "\n",
    "\n",
    "from spotPython.hyperparameters.values import add_core_model_to_fun_control\n",
    "from spotPython.utils.init import fun_control_init\n",
    "from spotPython.utils.file import get_spot_tensorboard_path\n",
    "from spotPython.utils.file import get_experiment_name\n",
    "from spotPython.hyperparameters.values import modify_hyper_parameter_bounds\n",
    "from spotPython.hyperparameters.values import get_one_core_model_from_X\n",
    "from spotPython.hyperparameters.values import get_default_hyperparameters_as_array\n",
    "from spotPython.spot import spot\n",
    "from spotPython.hyperparameters.values import (\n",
    "    get_var_type,\n",
    "    get_var_name,\n",
    "    get_bound_values\n",
    "    )\n",
    "from spotPython.utils.eda import gen_design_table\n",
    "from spotPython.hyperparameters.values import get_one_core_model_from_X\n",
    "from spotPython.hyperparameters.values import get_default_hyperparameters_as_array\n",
    "from spotPython.utils.tensorboard import start_tensorboard, stop_tensorboard\n",
    "\n",
    "MAX_TIME = 1\n",
    "INIT_SIZE = 5\n",
    "PREFIX=\"0000-river\"\n",
    "horizon = 30\n",
    "n_samples = 1250\n",
    "n_train = 500\n",
    "oml_grace_period = n_train\n",
    "# data_set = \"Bananas\"\n",
    "# data_set = \"CreditCard\"\n",
    "data_set = \"Phishing\"\n",
    "\n",
    "experiment_name = get_experiment_name(prefix=PREFIX)\n",
    "fun_control = fun_control_init(\n",
    "    spot_tensorboard_path=get_spot_tensorboard_path(experiment_name),\n",
    "    TENSORBOARD_CLEAN=True)\n",
    "#fun_control\n",
    "if data_set == \"Bananas\":\n",
    "    dataset = Bananas()\n",
    "elif data_set == \"CreditCard\":\n",
    "    dataset = CreditCard()\n",
    "elif data_set == \"Phishing\":\n",
    "    dataset = Phishing()\n",
    "else:\n",
    "    raise ValueError(\"data_set must be 'Bananas' or 'ConceptDriftStream'\")\n",
    "target_column = \"y\"\n",
    "weights = np.array([- 1, 1/1000, 1/1000])*10_000.0\n",
    "weight_coeff = 1.0\n",
    "df = convert_to_df(dataset, target_column=target_column, n_total=n_samples)\n",
    "df.columns = [f\"x{i}\" for i in range(1, dataset.n_features+1)] + [\"y\"]\n",
    "df[\"y\"] = df[\"y\"].astype(int)\n",
    "if prepmodel == \"StandardScaler\":\n",
    "    prep_model = preprocessing.StandardScaler()\n",
    "elif prepmodel == \"MinMaxScaler\":\n",
    "    prep_model = preprocessing.MinMaxScaler()\n",
    "else:\n",
    "    prep_model = None\n",
    "fun_control.update({\"train\":  df[:n_train],\n",
    "                    \"oml_grace_period\": oml_grace_period,\n",
    "                    \"test\":  df[n_train:],\n",
    "                    \"n_samples\": n_samples,\n",
    "                    \"target_column\": target_column,\n",
    "                    \"prep_model\": prep_model,\n",
    "                    \"horizon\": horizon,\n",
    "                    \"oml_grace_period\": oml_grace_period,\n",
    "                    \"weights\": weights,\n",
    "                    \"weight_coeff\": weight_coeff,\n",
    "                    \"metric_sklearn\": accuracy_score\n",
    "                    })\n",
    "add_core_model_to_fun_control(core_model=AMFClassifier,\n",
    "                              fun_control=fun_control,\n",
    "                              hyper_dict=RiverHyperDict,\n",
    "                              filename=None)\n",
    "modify_hyper_parameter_bounds(fun_control, \"n_estimators\", bounds=[2,20])\n",
    "modify_hyper_parameter_bounds(fun_control, \"step\", bounds=[0.5,2])\n",
    "\n",
    "\n",
    "X_start = get_default_hyperparameters_as_array(fun_control)\n",
    "fun = HyperRiver(log_level=50).fun_oml_horizon\n",
    "var_type = get_var_type(fun_control)\n",
    "var_name = get_var_name(fun_control)\n",
    "lower = get_bound_values(fun_control, \"lower\")\n",
    "upper = get_bound_values(fun_control, \"upper\")\n",
    "\n",
    "p_open = start_tensorboard()\n",
    "spot_tuner = spot.Spot(fun=fun,\n",
    "                   lower = lower,\n",
    "                   upper = upper,\n",
    "                   fun_evals = inf,\n",
    "                   max_time = MAX_TIME,\n",
    "                   tolerance_x = np.sqrt(np.spacing(1)),\n",
    "                   var_type = var_type,\n",
    "                   var_name = var_name,\n",
    "                   show_progress= True,\n",
    "                   fun_control = fun_control,\n",
    "                   design_control={\"init_size\": INIT_SIZE},\n",
    "                   surrogate_control={\"noise\": False,\n",
    "                                      \"cod_type\": \"norm\",\n",
    "                                      \"min_theta\": -4,\n",
    "                                      \"max_theta\": 3,\n",
    "                                      \"n_theta\": len(var_name),\n",
    "                                      \"model_fun_evals\": 10_000},\n",
    "                                      log_level=50)\n",
    "spot_tuner.run(X_start=X_start)\n",
    "\n",
    "\n"
   ]
  },
  {
   "cell_type": "code",
   "execution_count": null,
   "metadata": {},
   "outputs": [],
   "source": [
    "stop_tensorboard(p_open)"
   ]
  },
  {
   "cell_type": "code",
   "execution_count": null,
   "metadata": {},
   "outputs": [],
   "source": [
    "spot_tuner.plot_progress(log_y=False, filename=None)\n",
    "print(gen_design_table(fun_control=fun_control, spot=spot_tuner))\n",
    "spot_tuner.plot_importance(threshold=0.0025, filename=None)\n",
    "X = spot_tuner.to_all_dim(spot_tuner.min_X.reshape(1,-1))\n",
    "model_spot = get_one_core_model_from_X(X, fun_control)\n",
    "df_eval_spot, df_true_spot = eval_oml_horizon(\n",
    "                    model=model_spot,\n",
    "                    train=fun_control[\"train\"],\n",
    "                    test=fun_control[\"test\"],\n",
    "                    target_column=fun_control[\"target_column\"],\n",
    "                    horizon=fun_control[\"horizon\"],\n",
    "                    oml_grace_period=fun_control[\"oml_grace_period\"],\n",
    "                    metric=fun_control[\"metric_sklearn\"],\n",
    "                )\n",
    "X_start = get_default_hyperparameters_as_array(fun_control)\n",
    "model_default = get_one_core_model_from_X(X_start, fun_control)\n",
    "df_eval_default, df_true_default = eval_oml_horizon(\n",
    "                    model=model_default,\n",
    "                    train=fun_control[\"train\"],\n",
    "                    test=fun_control[\"test\"],\n",
    "                    target_column=fun_control[\"target_column\"],\n",
    "                    horizon=fun_control[\"horizon\"],\n",
    "                    oml_grace_period=fun_control[\"oml_grace_period\"],\n",
    "                    metric=fun_control[\"metric_sklearn\"],\n",
    "                )\n",
    "\n",
    "df_labels=[\"default\", \"spot\"]\n",
    "plot_bml_oml_horizon_metrics(df_eval = [df_eval_default, df_eval_spot], log_y=False, df_labels=df_labels, metric=fun_control[\"metric_sklearn\"], filename=None)\n",
    "\n",
    "spot_tuner.plot_important_hyperparameter_contour(filename=None)"
   ]
  },
  {
   "cell_type": "markdown",
   "metadata": {},
   "source": []
  },
  {
   "cell_type": "code",
   "execution_count": null,
   "metadata": {},
   "outputs": [],
   "source": [
    "\n",
    "model_default = get_one_core_model_from_X(X_start, fun_control)\n",
    "df_eval_default, df_true_default = eval_oml_horizon(\n",
    "                    model=model_default,\n",
    "                    train=fun_control[\"train\"],\n",
    "                    test=fun_control[\"test\"],\n",
    "                    target_column=fun_control[\"target_column\"],\n",
    "                    horizon=fun_control[\"horizon\"],\n",
    "                    oml_grace_period=fun_control[\"oml_grace_period\"],\n",
    "                    metric=fun_control[\"metric_sklearn\"],\n",
    "                )\n",
    "df_eval_default.shape == ((n_samples - n_train) // horizon + 1,3)"
   ]
  },
  {
   "cell_type": "code",
   "execution_count": null,
   "metadata": {},
   "outputs": [],
   "source": [
    "import numpy as np\n",
    "import pandas as pd\n",
    "from sklearn.metrics import accuracy_score\n",
    "from river import preprocessing\n",
    "from river.forest import AMFClassifier\n",
    "from river.datasets import Bananas, synth\n",
    "from math import inf\n",
    "\n",
    "from spotRiver.data.river_hyper_dict import RiverHyperDict\n",
    "from spotRiver.utils.data_conversion import convert_to_df\n",
    "from spotRiver.evaluation.eval_bml import eval_oml_horizon\n",
    "from spotRiver.fun.hyperriver import HyperRiver\n",
    "\n",
    "from spotPython.hyperparameters.values import add_core_model_to_fun_control\n",
    "from spotPython.utils.init import fun_control_init\n",
    "from spotPython.utils.file import get_spot_tensorboard_path\n",
    "from spotPython.utils.file import get_experiment_name\n",
    "from spotPython.hyperparameters.values import modify_hyper_parameter_bounds\n",
    "from spotPython.hyperparameters.values import get_one_core_model_from_X\n",
    "from spotPython.hyperparameters.values import get_default_hyperparameters_as_array\n",
    "from spotPython.spot import spot\n",
    "from spotPython.hyperparameters.values import (\n",
    "    get_var_type,\n",
    "    get_var_name,\n",
    "    get_bound_values\n",
    "    )\n",
    "\n",
    "MAX_TIME = 1\n",
    "INIT_SIZE = 5\n",
    "PREFIX=\"0000-river\"\n",
    "horizon = 30\n",
    "n_samples = 5300\n",
    "n_train = 5000\n",
    "oml_grace_period = n_train\n",
    "data_set = \"Bananas\"\n",
    "#data_set = \"ConceptDriftStream\"\n",
    "\n",
    "\n",
    "experiment_name = get_experiment_name(prefix=PREFIX)\n",
    "fun_control = fun_control_init(\n",
    "    spot_tensorboard_path=get_spot_tensorboard_path(experiment_name),\n",
    "    TENSORBOARD_CLEAN=True)\n",
    "#fun_control\n",
    "dataset_b = Bananas()\n",
    "dataset_s = synth.ConceptDriftStream(\n",
    "    seed=42,\n",
    "    position=(n_samples // 2),\n",
    "    width=40).take(n_samples)\n",
    "# convert the dataset_s which is of type islice to a pandas DataFrame. The \n",
    "dataset_s = pd.DataFrame(dataset_s)\n",
    "dataset_s.columns = [f\"x{i}\" for i in range(1, dataset_s.shape[1])] + [\"y\"]\n",
    "dataset_s[\"y\"] = dataset_s[\"y\"].astype(int)\n",
    "dataset_s\n"
   ]
  },
  {
   "cell_type": "code",
   "execution_count": null,
   "metadata": {},
   "outputs": [],
   "source": [
    "dataset_b"
   ]
  },
  {
   "cell_type": "code",
   "execution_count": null,
   "metadata": {},
   "outputs": [],
   "source": [
    "dataset_s"
   ]
  },
  {
   "cell_type": "markdown",
   "metadata": {},
   "source": [
    "# Runs"
   ]
  },
  {
   "cell_type": "code",
   "execution_count": null,
   "metadata": {},
   "outputs": [],
   "source": [
    "from spotRiver.tuner.run import run_spot_river_experiment\n",
    "run_spot_river_experiment(MAX_TIME=1,\n",
    "    INIT_SIZE=5,\n",
    "    PREFIX=\"0000-river\",\n",
    "    horizon=1,\n",
    "    n_samples=None,\n",
    "    n_train=None,\n",
    "    oml_grace_period=None,\n",
    "    data_set=\"Phishing\")"
   ]
  },
  {
   "cell_type": "markdown",
   "metadata": {},
   "source": [
    "# SPOT"
   ]
  },
  {
   "cell_type": "code",
   "execution_count": null,
   "metadata": {},
   "outputs": [],
   "source": [
    "import numpy as np\n",
    "from math import inf\n",
    "from spotPython.fun.objectivefunctions import analytical\n",
    "from spotPython.spot import spot\n",
    "# number of initial points:\n",
    "ni = 7\n",
    "# number of points\n",
    "n = 10\n",
    "\n",
    "fun = analytical().fun_sphere\n",
    "lower = np.array([-1])\n",
    "upper = np.array([1])\n",
    "design_control={\"init_size\": ni}\n",
    "\n",
    "spot_1 = spot.Spot(fun=fun,\n",
    "            lower = lower,\n",
    "            upper= upper,\n",
    "            fun_evals = n,\n",
    "            show_progress=True,\n",
    "            design_control=design_control,)\n",
    "spot_1.run()\n"
   ]
  },
  {
   "cell_type": "code",
   "execution_count": null,
   "metadata": {},
   "outputs": [],
   "source": [
    "# Improve the following output from the vars command so that the output is nicely formatted and shown in a table: \n",
    "vars(spot_1)\n"
   ]
  },
  {
   "cell_type": "code",
   "execution_count": null,
   "metadata": {},
   "outputs": [],
   "source": [
    "import pandas as pd\n",
    "\n",
    "def vars_to_dataframe(obj):\n",
    "    return pd.DataFrame.from_records([vars(obj)])\n",
    "\n",
    "df = vars_to_dataframe(spot_1)\n",
    "df.T"
   ]
  },
  {
   "cell_type": "code",
   "execution_count": null,
   "metadata": {},
   "outputs": [],
   "source": [
    "def vars_to_dataframe(obj):\n",
    "    data = vars(obj)\n",
    "    for key, value in data.items():\n",
    "        if isinstance(value, dict):\n",
    "            data[key] = vars_to_dataframe(value)\n",
    "    return pd.DataFrame.from_records([data])\n",
    "\n",
    "df = vars_to_dataframe(spot_1)\n",
    "df_transposed = df.T\n",
    "df_transposed"
   ]
  },
  {
   "cell_type": "code",
   "execution_count": null,
   "metadata": {},
   "outputs": [],
   "source": [
    "def vars_to_dataframe(obj):\n",
    "    if hasattr(obj, '__dict__'):\n",
    "        data = vars(obj)\n",
    "        for key, value in data.items():\n",
    "            if isinstance(value, dict):\n",
    "                data[key] = vars_to_dataframe(value)\n",
    "        return pd.DataFrame.from_records([data])\n",
    "    else:\n",
    "        return pd.DataFrame({})\n",
    "\n",
    "df = vars_to_dataframe(spot_1)\n",
    "df_transposed = df.T\n",
    "df_transposed"
   ]
  },
  {
   "cell_type": "code",
   "execution_count": null,
   "metadata": {},
   "outputs": [],
   "source": [
    "def vars_to_dataframe(obj):\n",
    "    if isinstance(obj, dict):\n",
    "        data = {k: vars_to_dataframe(v) if isinstance(v, dict) else v for k, v in obj.items()}\n",
    "    elif hasattr(obj, '__dict__'):\n",
    "        data = vars_to_dataframe(vars(obj))\n",
    "    else:\n",
    "        return obj\n",
    "    return pd.Series(data)\n",
    "\n",
    "df = vars_to_dataframe(spot_1).to_frame().T\n",
    "df_transposed = df.T\n",
    "df_transposed"
   ]
  },
  {
   "cell_type": "code",
   "execution_count": null,
   "metadata": {},
   "outputs": [],
   "source": [
    "def vars_to_dataframe(obj):\n",
    "    if isinstance(obj, dict):\n",
    "        data = {k: vars_to_dataframe(v) if isinstance(v, dict) else str(v) for k, v in obj.items()}\n",
    "    elif hasattr(obj, '__dict__'):\n",
    "        data = vars_to_dataframe(vars(obj))\n",
    "    else:\n",
    "        return obj\n",
    "    return pd.Series(data)\n",
    "\n",
    "df = vars_to_dataframe(spot_1).to_frame().T\n",
    "df_transposed = df.T\n",
    "df_transposed"
   ]
  },
  {
   "cell_type": "code",
   "execution_count": null,
   "metadata": {},
   "outputs": [],
   "source": [
    "import pandas as pd\n",
    "\n",
    "def dict_to_dataframe(d):\n",
    "    for key, value in d.items():\n",
    "        if isinstance(value, dict):\n",
    "            d[key] = dict_to_dataframe(value)\n",
    "    return pd.DataFrame([d])\n",
    "\n",
    "# Example usage:\n",
    "d = {'a': 1, 'b': {'c': 2, 'd': 3}}\n",
    "df = dict_to_dataframe(d)\n",
    "print(df)"
   ]
  },
  {
   "cell_type": "code",
   "execution_count": null,
   "metadata": {},
   "outputs": [],
   "source": [
    "import numpy as np\n",
    "from math import inf\n",
    "from spotPython.fun.objectivefunctions import analytical\n",
    "from spotPython.spot import spot\n",
    "# number of initial points:\n",
    "ni = 7\n",
    "# number of points\n",
    "n = 10\n",
    "\n",
    "fun = analytical().fun_sphere\n",
    "lower = np.array([-1])\n",
    "upper = np.array([1])\n",
    "design_control={\"init_size\": ni}\n",
    "\n",
    "spot_1 = spot.Spot(fun=fun,\n",
    "            lower = lower,\n",
    "            upper= upper,\n",
    "            fun_evals = n,\n",
    "            show_progress=True,\n",
    "            design_control=design_control,)\n",
    "spot_1.run()\n",
    "spot_1.get_vars()"
   ]
  },
  {
   "cell_type": "code",
   "execution_count": null,
   "metadata": {},
   "outputs": [],
   "source": []
  }
 ],
 "metadata": {
  "kernelspec": {
   "display_name": "base",
   "language": "python",
   "name": "python3"
  },
  "language_info": {
   "codemirror_mode": {
    "name": "ipython",
    "version": 3
   },
   "file_extension": ".py",
   "mimetype": "text/x-python",
   "name": "python",
   "nbconvert_exporter": "python",
   "pygments_lexer": "ipython3",
   "version": "3.11.7"
  },
  "orig_nbformat": 4
 },
 "nbformat": 4,
 "nbformat_minor": 2
}
