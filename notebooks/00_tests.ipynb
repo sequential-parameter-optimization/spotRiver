{
 "cells": [
  {
   "cell_type": "raw",
   "metadata": {},
   "source": [
    "---\n",
    "title: \"Tests\"\n",
    "format: html\n",
    "---"
   ]
  },
  {
   "attachments": {},
   "cell_type": "markdown",
   "metadata": {},
   "source": [
    "# eval_bml"
   ]
  },
  {
   "cell_type": "code",
   "execution_count": 1,
   "metadata": {},
   "outputs": [
    {
     "name": "stdout",
     "output_type": "stream",
     "text": [
      "    RMSE   MAE  AbsDiff  Underestimation  Overestimation  MaxResidual  \\\n",
      "0    NaN   NaN      NaN              NaN             NaN          NaN   \n",
      "1   10.0  10.0     10.0              0.0            10.0         10.0   \n",
      "2   11.0  11.0     11.0              0.0            11.0         11.0   \n",
      "3   12.0  12.0     12.0              0.0            12.0         12.0   \n",
      "4   13.0  13.0     13.0              0.0            13.0         13.0   \n",
      "5   14.0  14.0     14.0              0.0            14.0         14.0   \n",
      "6   15.0  15.0     15.0              0.0            15.0         15.0   \n",
      "7   16.0  16.0     16.0              0.0            16.0         16.0   \n",
      "8   17.0  17.0     17.0              0.0            17.0         17.0   \n",
      "9   18.0  18.0     18.0              0.0            18.0         18.0   \n",
      "10  19.0  19.0     19.0              0.0            19.0         19.0   \n",
      "\n",
      "    Memory (MB)  CompTime (s)  \n",
      "0      0.130473      0.002256  \n",
      "1      0.011773      0.001210  \n",
      "2      0.006539      0.001043  \n",
      "3      0.006165      0.001079  \n",
      "4      0.006273      0.001016  \n",
      "5      0.006165      0.001007  \n",
      "6      0.006165      0.001243  \n",
      "7      0.006165      0.001067  \n",
      "8      0.006165      0.001060  \n",
      "9      0.006165      0.001060  \n",
      "10     0.006165      0.001010  \n",
      "    y  Prediction  Difference\n",
      "0  10        20.0       -10.0\n",
      "1  11        22.0       -11.0\n",
      "2  12        24.0       -12.0\n",
      "3  13        26.0       -13.0\n",
      "4  14        28.0       -14.0\n",
      "5  15        30.0       -15.0\n",
      "6  16        32.0       -16.0\n",
      "7  17        34.0       -17.0\n",
      "8  18        36.0       -18.0\n",
      "9  19        38.0       -19.0\n"
     ]
    }
   ],
   "source": [
    "import pandas as pd\n",
    "from sklearn.linear_model import LinearRegression\n",
    "from sklearn.datasets import make_regression\n",
    "from spotRiver.evaluation.eval_bml import eval_bml, eval_bml_landmark, eval_bml_window, eval_oml_landmark\n",
    "\n",
    "model = LinearRegression()\n",
    "\n",
    "X_train = list(range(10))\n",
    "y_train = [2*x for x in X_train]\n",
    "\n",
    "X_test = list(range(10, 20))\n",
    "y_test = [x for x in X_test]\n",
    "\n",
    "train = pd.DataFrame(X_train, columns=[\"x1\"])\n",
    "train[\"y\"] = y_train\n",
    "\n",
    "test = pd.DataFrame(X_test, columns=[\"x1\"])\n",
    "test[\"y\"] = y_test\n",
    "\n",
    "target_column = \"y\"\n",
    "horizon = 1\n",
    "df_eval , df_true = eval_bml (model , train , test , target_column, horizon)\n",
    "print (df_eval )\n",
    "print (df_true )"
   ]
  },
  {
   "attachments": {},
   "cell_type": "markdown",
   "metadata": {},
   "source": [
    "# eval_bml_landmark"
   ]
  },
  {
   "cell_type": "code",
   "execution_count": 2,
   "metadata": {},
   "outputs": [
    {
     "name": "stdout",
     "output_type": "stream",
     "text": [
      "     RMSE    MAE  AbsDiff  Underestimation  Overestimation  MaxResidual  \\\n",
      "0     NaN    NaN      NaN              NaN             NaN          NaN   \n",
      "1   10.00  10.00    10.00              0.0           10.00        10.00   \n",
      "2    7.36   7.36     7.36              0.0            7.36         7.36   \n",
      "3    5.45   5.45     5.45              0.0            5.45         5.45   \n",
      "4    4.04   4.04     4.04              0.0            4.04         4.04   \n",
      "5    2.97   2.97     2.97              0.0            2.97         2.97   \n",
      "6    2.14   2.14     2.14              0.0            2.14         2.14   \n",
      "7    1.50   1.50     1.50              0.0            1.50         1.50   \n",
      "8    0.99   0.99     0.99              0.0            0.99         0.99   \n",
      "9    0.59   0.59     0.59              0.0            0.59         0.59   \n",
      "10   0.26   0.26     0.26              0.0            0.26         0.26   \n",
      "\n",
      "    Memory (MB)  CompTime (s)  \n",
      "0      0.015007      0.002028  \n",
      "1      0.016939      0.003335  \n",
      "2      0.014919      0.002773  \n",
      "3      0.014924      0.002637  \n",
      "4      0.015502      0.002620  \n",
      "5      0.014996      0.002848  \n",
      "6      0.015127      0.002631  \n",
      "7      0.015102      0.002487  \n",
      "8      0.015156      0.002440  \n",
      "9      0.015463      0.002733  \n",
      "10     0.016171      0.002565  \n",
      "    y  Prediction  Difference\n",
      "0  10   20.000000  -10.000000\n",
      "1  11   18.363636   -7.363636\n",
      "2  12   17.454545   -5.454545\n",
      "3  13   17.038462   -4.038462\n",
      "4  14   16.967033   -2.967033\n",
      "5  15   17.142857   -2.142857\n",
      "6  16   17.500000   -1.500000\n",
      "7  17   17.992647   -0.992647\n",
      "8  18   18.588235   -0.588235\n",
      "9  19   19.263158   -0.263158\n"
     ]
    }
   ],
   "source": [
    "import pandas as pd\n",
    "from sklearn.linear_model import LinearRegression\n",
    "from sklearn.datasets import make_regression\n",
    "from spotRiver.evaluation.eval_bml import eval_bml_landmark\n",
    "\n",
    "model = LinearRegression()\n",
    "\n",
    "X_train = list(range(10))\n",
    "y_train = [2*x for x in X_train]\n",
    "\n",
    "X_test = list(range(10, 20))\n",
    "y_test = [x for x in X_test]\n",
    "\n",
    "train = pd.DataFrame(X_train, columns=[\"x1\"])\n",
    "train[\"y\"] = y_train\n",
    "\n",
    "test = pd.DataFrame(X_test, columns=[\"x1\"])\n",
    "test[\"y\"] = y_test\n",
    "\n",
    "target_column = \"y\"\n",
    "horizon = 1\n",
    "df_eval , df_true = eval_bml_landmark(model , train , test , target_column, horizon)\n",
    "print (df_eval )\n",
    "print (df_true )"
   ]
  },
  {
   "attachments": {},
   "cell_type": "markdown",
   "metadata": {},
   "source": [
    "# eval_bml_window"
   ]
  },
  {
   "cell_type": "code",
   "execution_count": 3,
   "metadata": {},
   "outputs": [
    {
     "name": "stdout",
     "output_type": "stream",
     "text": [
      "     RMSE    MAE  AbsDiff  Underestimation  Overestimation  MaxResidual  \\\n",
      "0     NaN    NaN      NaN              NaN             NaN          NaN   \n",
      "1   10.00  10.00    10.00             0.00           10.00        10.00   \n",
      "2    7.00   7.00     7.00             0.00            7.00         7.00   \n",
      "3    4.27   4.27     4.27             0.00            4.27         4.27   \n",
      "4    1.87   1.87     1.87             0.00            1.87         1.87   \n",
      "5    0.13   0.13     0.13             0.13            0.00         0.13   \n",
      "6    1.67   1.67     1.67             1.67            0.00         1.67   \n",
      "7    2.67   2.67     2.67             2.67            0.00         2.67   \n",
      "8    3.07   3.07     3.07             3.07            0.00         3.07   \n",
      "9    2.80   2.80     2.80             2.80            0.00         2.80   \n",
      "10   1.80   1.80     1.80             1.80            0.00         1.80   \n",
      "\n",
      "    Memory (MB)  CompTime (s)  \n",
      "0      0.013130      0.001858  \n",
      "1      0.014835      0.002759  \n",
      "2      0.012996      0.002610  \n",
      "3      0.012958      0.002641  \n",
      "4      0.012688      0.002501  \n",
      "5      0.012653      0.002454  \n",
      "6      0.012653      0.002748  \n",
      "7      0.012653      0.002705  \n",
      "8      0.012653      0.003111  \n",
      "9      0.013846      0.003501  \n",
      "10     0.012653      0.002856  \n",
      "    y  Prediction  Difference\n",
      "0  10   20.000000  -10.000000\n",
      "1  11   18.000000   -7.000000\n",
      "2  12   16.266667   -4.266667\n",
      "3  13   14.866667   -1.866667\n",
      "4  14   13.866667    0.133333\n",
      "5  15   13.333333    1.666667\n",
      "6  16   13.333333    2.666667\n",
      "7  17   13.933333    3.066667\n",
      "8  18   15.200000    2.800000\n",
      "9  19   17.200000    1.800000\n"
     ]
    }
   ],
   "source": [
    "import pandas as pd\n",
    "from sklearn.linear_model import LinearRegression\n",
    "from sklearn.datasets import make_regression\n",
    "from spotRiver.evaluation.eval_bml import eval_bml_window\n",
    "\n",
    "model = LinearRegression()\n",
    "\n",
    "X_train = list(range(10))\n",
    "y_train = [2*x for x in X_train]\n",
    "\n",
    "X_test = list(range(10, 20))\n",
    "y_test = [x for x in X_test]\n",
    "\n",
    "train = pd.DataFrame(X_train, columns=[\"x1\"])\n",
    "train[\"y\"] = y_train\n",
    "\n",
    "test = pd.DataFrame(X_test, columns=[\"x1\"])\n",
    "test[\"y\"] = y_test\n",
    "\n",
    "target_column = \"y\"\n",
    "horizon = 1\n",
    "df_eval , df_true = eval_bml_window(model , train , test , target_column, horizon)\n",
    "print (df_eval )\n",
    "print (df_true )"
   ]
  },
  {
   "cell_type": "markdown",
   "metadata": {},
   "source": [
    "# eval_oml_landmark"
   ]
  },
  {
   "cell_type": "code",
   "execution_count": 4,
   "metadata": {},
   "outputs": [
    {
     "name": "stdout",
     "output_type": "stream",
     "text": [
      "     RMSE    MAE  AbsDiff  Underestimation  Overestimation  MaxResidual  \\\n",
      "0     NaN    NaN      NaN              NaN             NaN          NaN   \n",
      "1    9.64   9.64     9.64             9.64             0.0         9.64   \n",
      "2   10.45  10.45    10.45            10.45             0.0        10.45   \n",
      "3   10.98  10.98    10.98            10.98             0.0        10.98   \n",
      "4   11.38  11.38    11.38            11.38             0.0        11.38   \n",
      "5   11.68  11.68    11.68            11.68             0.0        11.68   \n",
      "6   11.93  11.93    11.93            11.93             0.0        11.93   \n",
      "7   12.12  12.12    12.12            12.12             0.0        12.12   \n",
      "8   12.29  12.29    12.29            12.29             0.0        12.29   \n",
      "9   12.42  12.42    12.42            12.42             0.0        12.42   \n",
      "10  12.53  12.53    12.53            12.53             0.0        12.53   \n",
      "\n",
      "    Memory (MB)  CompTime (s)  \n",
      "0      0.019354      0.000197  \n",
      "1      0.007523      0.000126  \n",
      "2      0.005074      0.000150  \n",
      "3      0.005074      0.000151  \n",
      "4      0.005074      0.000140  \n",
      "5      0.005074      0.000127  \n",
      "6      0.005074      0.000160  \n",
      "7      0.005074      0.000139  \n",
      "8      0.005074      0.000136  \n",
      "9      0.005074      0.000144  \n",
      "10     0.005074      0.000119  \n",
      "    y  Prediction  Difference\n",
      "0  10    0.360000    9.640000\n",
      "1  11    0.552800   10.447200\n",
      "2  12    1.017647   10.982353\n",
      "3  13    1.622636   11.377364\n",
      "4  14    2.316610   11.683390\n",
      "5  15    3.072894   11.927106\n",
      "6  16    3.875481   12.124519\n",
      "7  17    4.713853   12.286147\n",
      "8  18    5.580642   12.419358\n",
      "9  19    6.470441   12.529559\n"
     ]
    }
   ],
   "source": [
    "import pandas as pd\n",
    "import numpy as np\n",
    "from river import linear_model\n",
    "from river import preprocessing,datasets\n",
    "model = preprocessing.StandardScaler() | linear_model.LinearRegression()\n",
    "X_train = list(range(10))\n",
    "y_train = [2*x for x in X_train]\n",
    "X_test = list(range(10, 20))\n",
    "y_test = [x for x in X_test]\n",
    "train = pd.DataFrame(X_train, columns=[\"x1\"])\n",
    "train[\"y\"] = y_train\n",
    "test = pd.DataFrame(X_test, columns=[\"x1\"])\n",
    "test[\"y\"] = y_test\n",
    "target_column = \"y\"\n",
    "horizon = 1\n",
    "df_eval, df_preds = eval_oml_landmark(model, train, test, target_column, horizon)\n",
    "print(df_eval)\n",
    "print(df_preds)"
   ]
  },
  {
   "cell_type": "code",
   "execution_count": null,
   "metadata": {},
   "outputs": [],
   "source": []
  }
 ],
 "metadata": {
  "kernelspec": {
   "display_name": "base",
   "language": "python",
   "name": "python3"
  },
  "language_info": {
   "codemirror_mode": {
    "name": "ipython",
    "version": 3
   },
   "file_extension": ".py",
   "mimetype": "text/x-python",
   "name": "python",
   "nbconvert_exporter": "python",
   "pygments_lexer": "ipython3",
   "version": "3.10.6"
  },
  "orig_nbformat": 4
 },
 "nbformat": 4,
 "nbformat_minor": 2
}
