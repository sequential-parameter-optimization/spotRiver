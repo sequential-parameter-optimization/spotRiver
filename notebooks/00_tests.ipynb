{
 "cells": [
  {
   "cell_type": "raw",
   "metadata": {},
   "source": [
    "---\n",
    "title: \"Tests\"\n",
    "format: html\n",
    "---"
   ]
  },
  {
   "attachments": {},
   "cell_type": "markdown",
   "metadata": {},
   "source": [
    "# eval_bml"
   ]
  },
  {
   "cell_type": "code",
   "execution_count": 8,
   "metadata": {},
   "outputs": [
    {
     "name": "stdout",
     "output_type": "stream",
     "text": [
      "    RMSE   MAE  AbsDiff  Underestimation  Overestimation  MaxResidual  \\\n",
      "0    NaN   NaN      NaN              NaN             NaN          NaN   \n",
      "1   10.0  10.0     10.0              0.0            10.0         10.0   \n",
      "2   11.0  11.0     11.0              0.0            11.0         11.0   \n",
      "3   12.0  12.0     12.0              0.0            12.0         12.0   \n",
      "4   13.0  13.0     13.0              0.0            13.0         13.0   \n",
      "5   14.0  14.0     14.0              0.0            14.0         14.0   \n",
      "6   15.0  15.0     15.0              0.0            15.0         15.0   \n",
      "7   16.0  16.0     16.0              0.0            16.0         16.0   \n",
      "8   17.0  17.0     17.0              0.0            17.0         17.0   \n",
      "9   18.0  18.0     18.0              0.0            18.0         18.0   \n",
      "10  19.0  19.0     19.0              0.0            19.0         19.0   \n",
      "\n",
      "    Memory (MB)  CompTime (s)  \n",
      "0      0.015654      0.002088  \n",
      "1      0.008447      0.001218  \n",
      "2      0.006271      0.001310  \n",
      "3      0.005951      0.001208  \n",
      "4      0.005951      0.001210  \n",
      "5      0.007667      0.001230  \n",
      "6      0.005951      0.001148  \n",
      "7      0.005951      0.001171  \n",
      "8      0.006269      0.001148  \n",
      "9      0.005951      0.001274  \n",
      "10     0.005951      0.001165  \n",
      "    y  Prediction  Difference\n",
      "0  10        20.0       -10.0\n",
      "1  11        22.0       -11.0\n",
      "2  12        24.0       -12.0\n",
      "3  13        26.0       -13.0\n",
      "4  14        28.0       -14.0\n",
      "5  15        30.0       -15.0\n",
      "6  16        32.0       -16.0\n",
      "7  17        34.0       -17.0\n",
      "8  18        36.0       -18.0\n",
      "9  19        38.0       -19.0\n"
     ]
    }
   ],
   "source": [
    "import pandas as pd\n",
    "from sklearn.linear_model import LinearRegression\n",
    "from sklearn.datasets import make_regression\n",
    "from spotRiver.evaluation.eval_bml import eval_bml, eval_bml_landmark, eval_bml_window, eval_oml_landmark\n",
    "\n",
    "model = LinearRegression()\n",
    "\n",
    "X_train = list(range(10))\n",
    "y_train = [2*x for x in X_train]\n",
    "\n",
    "X_test = list(range(10, 20))\n",
    "y_test = [x for x in X_test]\n",
    "\n",
    "train = pd.DataFrame(X_train, columns=[\"x1\"])\n",
    "train[\"y\"] = y_train\n",
    "\n",
    "test = pd.DataFrame(X_test, columns=[\"x1\"])\n",
    "test[\"y\"] = y_test\n",
    "\n",
    "target_column = \"y\"\n",
    "horizon = 1\n",
    "df_eval , df_true = eval_bml (model , train , test , target_column, horizon)\n",
    "print (df_eval )\n",
    "print (df_true )"
   ]
  },
  {
   "attachments": {},
   "cell_type": "markdown",
   "metadata": {},
   "source": [
    "# eval_bml_landmark"
   ]
  },
  {
   "cell_type": "code",
   "execution_count": 2,
   "metadata": {},
   "outputs": [
    {
     "name": "stdout",
     "output_type": "stream",
     "text": [
      "     RMSE    MAE  AbsDiff  Underestimation  Overestimation  MaxResidual  \\\n",
      "0     NaN    NaN      NaN              NaN             NaN          NaN   \n",
      "1   10.00  10.00    10.00              0.0           10.00        10.00   \n",
      "2    7.36   7.36     7.36              0.0            7.36         7.36   \n",
      "3    5.45   5.45     5.45              0.0            5.45         5.45   \n",
      "4    4.04   4.04     4.04              0.0            4.04         4.04   \n",
      "5    2.97   2.97     2.97              0.0            2.97         2.97   \n",
      "6    2.14   2.14     2.14              0.0            2.14         2.14   \n",
      "7    1.50   1.50     1.50              0.0            1.50         1.50   \n",
      "8    0.99   0.99     0.99              0.0            0.99         0.99   \n",
      "9    0.59   0.59     0.59              0.0            0.59         0.59   \n",
      "10   0.26   0.26     0.26              0.0            0.26         0.26   \n",
      "\n",
      "    Memory (MB)  CompTime (s)  \n",
      "0      0.015007      0.002182  \n",
      "1      0.016819      0.003284  \n",
      "2      0.015255      0.003257  \n",
      "3      0.014889      0.002774  \n",
      "4      0.015771      0.002552  \n",
      "5      0.014996      0.002598  \n",
      "6      0.015091      0.003053  \n",
      "7      0.015138      0.003017  \n",
      "8      0.015156      0.003030  \n",
      "9      0.015209      0.003190  \n",
      "10     0.015341      0.003166  \n",
      "    y  Prediction  Difference\n",
      "0  10   20.000000  -10.000000\n",
      "1  11   18.363636   -7.363636\n",
      "2  12   17.454545   -5.454545\n",
      "3  13   17.038462   -4.038462\n",
      "4  14   16.967033   -2.967033\n",
      "5  15   17.142857   -2.142857\n",
      "6  16   17.500000   -1.500000\n",
      "7  17   17.992647   -0.992647\n",
      "8  18   18.588235   -0.588235\n",
      "9  19   19.263158   -0.263158\n"
     ]
    }
   ],
   "source": [
    "import pandas as pd\n",
    "from sklearn.linear_model import LinearRegression\n",
    "from sklearn.datasets import make_regression\n",
    "from spotRiver.evaluation.eval_bml import eval_bml_landmark\n",
    "\n",
    "model = LinearRegression()\n",
    "\n",
    "X_train = list(range(10))\n",
    "y_train = [2*x for x in X_train]\n",
    "\n",
    "X_test = list(range(10, 20))\n",
    "y_test = [x for x in X_test]\n",
    "\n",
    "train = pd.DataFrame(X_train, columns=[\"x1\"])\n",
    "train[\"y\"] = y_train\n",
    "\n",
    "test = pd.DataFrame(X_test, columns=[\"x1\"])\n",
    "test[\"y\"] = y_test\n",
    "\n",
    "target_column = \"y\"\n",
    "horizon = 1\n",
    "df_eval , df_true = eval_bml_landmark(model , train , test , target_column, horizon)\n",
    "print (df_eval )\n",
    "print (df_true )"
   ]
  },
  {
   "attachments": {},
   "cell_type": "markdown",
   "metadata": {},
   "source": [
    "# eval_bml_window"
   ]
  },
  {
   "cell_type": "code",
   "execution_count": 3,
   "metadata": {},
   "outputs": [
    {
     "name": "stdout",
     "output_type": "stream",
     "text": [
      "     RMSE    MAE  AbsDiff  Underestimation  Overestimation  MaxResidual  \\\n",
      "0     NaN    NaN      NaN              NaN             NaN          NaN   \n",
      "1   10.00  10.00    10.00             0.00           10.00        10.00   \n",
      "2    7.00   7.00     7.00             0.00            7.00         7.00   \n",
      "3    4.27   4.27     4.27             0.00            4.27         4.27   \n",
      "4    1.87   1.87     1.87             0.00            1.87         1.87   \n",
      "5    0.13   0.13     0.13             0.13            0.00         0.13   \n",
      "6    1.67   1.67     1.67             1.67            0.00         1.67   \n",
      "7    2.67   2.67     2.67             2.67            0.00         2.67   \n",
      "8    3.07   3.07     3.07             3.07            0.00         3.07   \n",
      "9    2.80   2.80     2.80             2.80            0.00         2.80   \n",
      "10   1.80   1.80     1.80             1.80            0.00         1.80   \n",
      "\n",
      "    Memory (MB)  CompTime (s)  \n",
      "0      0.013130      0.001848  \n",
      "1      0.014835      0.002789  \n",
      "2      0.013047      0.002641  \n",
      "3      0.012653      0.002567  \n",
      "4      0.013927      0.003123  \n",
      "5      0.012653      0.002891  \n",
      "6      0.012836      0.002871  \n",
      "7      0.012687      0.003040  \n",
      "8      0.012653      0.002719  \n",
      "9      0.012961      0.002713  \n",
      "10     0.012653      0.002631  \n",
      "    y  Prediction  Difference\n",
      "0  10   20.000000  -10.000000\n",
      "1  11   18.000000   -7.000000\n",
      "2  12   16.266667   -4.266667\n",
      "3  13   14.866667   -1.866667\n",
      "4  14   13.866667    0.133333\n",
      "5  15   13.333333    1.666667\n",
      "6  16   13.333333    2.666667\n",
      "7  17   13.933333    3.066667\n",
      "8  18   15.200000    2.800000\n",
      "9  19   17.200000    1.800000\n"
     ]
    }
   ],
   "source": [
    "import pandas as pd\n",
    "from sklearn.linear_model import LinearRegression\n",
    "from sklearn.datasets import make_regression\n",
    "from spotRiver.evaluation.eval_bml import eval_bml_window\n",
    "\n",
    "model = LinearRegression()\n",
    "\n",
    "X_train = list(range(10))\n",
    "y_train = [2*x for x in X_train]\n",
    "\n",
    "X_test = list(range(10, 20))\n",
    "y_test = [x for x in X_test]\n",
    "\n",
    "train = pd.DataFrame(X_train, columns=[\"x1\"])\n",
    "train[\"y\"] = y_train\n",
    "\n",
    "test = pd.DataFrame(X_test, columns=[\"x1\"])\n",
    "test[\"y\"] = y_test\n",
    "\n",
    "target_column = \"y\"\n",
    "horizon = 1\n",
    "df_eval , df_true = eval_bml_window(model , train , test , target_column, horizon)\n",
    "print (df_eval )\n",
    "print (df_true )"
   ]
  },
  {
   "cell_type": "markdown",
   "metadata": {},
   "source": [
    "# eval_oml_landmark"
   ]
  },
  {
   "cell_type": "code",
   "execution_count": 7,
   "metadata": {},
   "outputs": [
    {
     "name": "stdout",
     "output_type": "stream",
     "text": [
      "     RMSE    MAE  AbsDiff  Underestimation  Overestimation  MaxResidual  \\\n",
      "0     NaN    NaN      NaN              NaN             NaN          NaN   \n",
      "1    8.29   8.29     8.29             8.29             0.0         8.29   \n",
      "2    9.13   9.13     9.13             9.13             0.0         9.13   \n",
      "3    9.72   9.72     9.72             9.72             0.0         9.72   \n",
      "4   10.19  10.19    10.19            10.19             0.0        10.19   \n",
      "5   10.56  10.56    10.56            10.56             0.0        10.56   \n",
      "6   10.88  10.88    10.88            10.88             0.0        10.88   \n",
      "7   11.15  11.15    11.15            11.15             0.0        11.15   \n",
      "8   11.38  11.38    11.38            11.38             0.0        11.38   \n",
      "9   11.58  11.58    11.58            11.58             0.0        11.58   \n",
      "10  11.75  11.75    11.75            11.75             0.0        11.75   \n",
      "\n",
      "    Memory (MB)  CompTime (s)  \n",
      "0      0.013793      0.001493  \n",
      "1      0.008041      0.000507  \n",
      "2      0.007565      0.000480  \n",
      "3      0.007601      0.000592  \n",
      "4      0.007404      0.000460  \n",
      "5      0.007404      0.000539  \n",
      "6      0.007404      0.000452  \n",
      "7      0.007404      0.000434  \n",
      "8      0.007404      0.000432  \n",
      "9      0.007404      0.000467  \n",
      "10     0.007404      0.000398  \n",
      "    y  Prediction  Difference\n",
      "0  10    1.707281    8.292719\n",
      "1  11    1.873135    9.126865\n",
      "2  12    2.279234    9.720766\n",
      "3  13    2.814444   10.185556\n",
      "4  14    3.435197   10.564803\n",
      "5  15    4.118363   10.881637\n",
      "6  16    4.849757   11.150243\n",
      "7  17    5.619826   11.380174\n",
      "8  18    6.421700   11.578300\n",
      "9  19    7.250202   11.749798\n"
     ]
    }
   ],
   "source": [
    "import pandas as pd\n",
    "import numpy as np\n",
    "from river import linear_model\n",
    "from river import preprocessing,datasets\n",
    "model = preprocessing.StandardScaler() | linear_model.LinearRegression()\n",
    "X_train = list(range(10))\n",
    "y_train = [2*x for x in X_train]\n",
    "X_test = list(range(10, 20))\n",
    "y_test = [x for x in X_test]\n",
    "train = pd.DataFrame(X_train, columns=[\"x1\"])\n",
    "train[\"y\"] = y_train\n",
    "test = pd.DataFrame(X_test, columns=[\"x1\"])\n",
    "test[\"y\"] = y_test\n",
    "target_column = \"y\"\n",
    "horizon = 1\n",
    "df_eval, df_preds = eval_oml_landmark(model, train, test, target_column, horizon)\n",
    "print(df_eval)\n",
    "print(df_preds)"
   ]
  },
  {
   "cell_type": "code",
   "execution_count": null,
   "metadata": {},
   "outputs": [],
   "source": []
  }
 ],
 "metadata": {
  "kernelspec": {
   "display_name": "base",
   "language": "python",
   "name": "python3"
  },
  "language_info": {
   "codemirror_mode": {
    "name": "ipython",
    "version": 3
   },
   "file_extension": ".py",
   "mimetype": "text/x-python",
   "name": "python",
   "nbconvert_exporter": "python",
   "pygments_lexer": "ipython3",
   "version": "3.10.6"
  },
  "orig_nbformat": 4
 },
 "nbformat": 4,
 "nbformat_minor": 2
}
