{
 "cells": [
  {
   "cell_type": "raw",
   "metadata": {},
   "source": [
    "---\n",
    "title: \"Tests\"\n",
    "format: html\n",
    "---"
   ]
  },
  {
   "attachments": {},
   "cell_type": "markdown",
   "metadata": {},
   "source": [
    "# eval_bml"
   ]
  },
  {
   "cell_type": "code",
   "execution_count": 3,
   "metadata": {},
   "outputs": [
    {
     "name": "stdout",
     "output_type": "stream",
     "text": [
      "    RMSE   MAE  AbsDiff  Underestimation  Overestimation  MaxResidual  \\\n",
      "0    NaN   NaN      NaN              NaN             NaN          NaN   \n",
      "1   10.0  10.0     10.0              0.0            10.0         10.0   \n",
      "2   11.0  11.0     11.0              0.0            11.0         11.0   \n",
      "3   12.0  12.0     12.0              0.0            12.0         12.0   \n",
      "4   13.0  13.0     13.0              0.0            13.0         13.0   \n",
      "5   14.0  14.0     14.0              0.0            14.0         14.0   \n",
      "6   15.0  15.0     15.0              0.0            15.0         15.0   \n",
      "7   16.0  16.0     16.0              0.0            16.0         16.0   \n",
      "8   17.0  17.0     17.0              0.0            17.0         17.0   \n",
      "9   18.0  18.0     18.0              0.0            18.0         18.0   \n",
      "10  19.0  19.0     19.0              0.0            19.0         19.0   \n",
      "\n",
      "    Memory (MB)  CompTime (s)  \n",
      "0      0.129618      0.007355  \n",
      "1      0.011773      0.001289  \n",
      "2      0.006700      0.001167  \n",
      "3      0.006111      0.001237  \n",
      "4      0.005951      0.001271  \n",
      "5      0.005951      0.001143  \n",
      "6      0.005951      0.001053  \n",
      "7      0.005951      0.001048  \n",
      "8      0.005951      0.001306  \n",
      "9      0.005951      0.001254  \n",
      "10     0.005951      0.001152  \n",
      "    y  Prediction  Difference\n",
      "0  10        20.0       -10.0\n",
      "1  11        22.0       -11.0\n",
      "2  12        24.0       -12.0\n",
      "3  13        26.0       -13.0\n",
      "4  14        28.0       -14.0\n",
      "5  15        30.0       -15.0\n",
      "6  16        32.0       -16.0\n",
      "7  17        34.0       -17.0\n",
      "8  18        36.0       -18.0\n",
      "9  19        38.0       -19.0\n"
     ]
    }
   ],
   "source": [
    "import pandas as pd\n",
    "from sklearn.linear_model import LinearRegression\n",
    "from spotRiver.evaluation.eval_bml import eval_bml_horizon, eval_bml_landmark, eval_bml_window, eval_oml_horizon\n",
    "\n",
    "model = LinearRegression()\n",
    "\n",
    "X_train = list(range(10))\n",
    "y_train = [2*x for x in X_train]\n",
    "\n",
    "X_test = list(range(10, 20))\n",
    "y_test = [x for x in X_test]\n",
    "\n",
    "train = pd.DataFrame(X_train, columns=[\"x1\"])\n",
    "train[\"y\"] = y_train\n",
    "\n",
    "test = pd.DataFrame(X_test, columns=[\"x1\"])\n",
    "test[\"y\"] = y_test\n",
    "\n",
    "target_column = \"y\"\n",
    "horizon = 1\n",
    "df_eval , df_true = eval_bml_horizon(model , train , test , target_column, horizon)\n",
    "print (df_eval )\n",
    "print (df_true )"
   ]
  },
  {
   "attachments": {},
   "cell_type": "markdown",
   "metadata": {},
   "source": [
    "# eval_bml_landmark"
   ]
  },
  {
   "cell_type": "code",
   "execution_count": 4,
   "metadata": {},
   "outputs": [
    {
     "name": "stdout",
     "output_type": "stream",
     "text": [
      "     RMSE    MAE  AbsDiff  Underestimation  Overestimation  MaxResidual  \\\n",
      "0     NaN    NaN      NaN              NaN             NaN          NaN   \n",
      "1   10.00  10.00    10.00              0.0           10.00        10.00   \n",
      "2    7.36   7.36     7.36              0.0            7.36         7.36   \n",
      "3    5.45   5.45     5.45              0.0            5.45         5.45   \n",
      "4    4.04   4.04     4.04              0.0            4.04         4.04   \n",
      "5    2.97   2.97     2.97              0.0            2.97         2.97   \n",
      "6    2.14   2.14     2.14              0.0            2.14         2.14   \n",
      "7    1.50   1.50     1.50              0.0            1.50         1.50   \n",
      "8    0.99   0.99     0.99              0.0            0.99         0.99   \n",
      "9    0.59   0.59     0.59              0.0            0.59         0.59   \n",
      "10   0.26   0.26     0.26              0.0            0.26         0.26   \n",
      "\n",
      "    Memory (MB)  CompTime (s)  \n",
      "0      0.015007      0.001961  \n",
      "1      0.016619      0.003023  \n",
      "2      0.014385      0.003063  \n",
      "3      0.014390      0.002661  \n",
      "4      0.014820      0.003314  \n",
      "5      0.015026      0.003101  \n",
      "6      0.014593      0.002598  \n",
      "7      0.014568      0.002555  \n",
      "8      0.014622      0.002698  \n",
      "9      0.014675      0.002519  \n",
      "10     0.015636      0.002664  \n",
      "    y  Prediction  Difference\n",
      "0  10   20.000000  -10.000000\n",
      "1  11   18.363636   -7.363636\n",
      "2  12   17.454545   -5.454545\n",
      "3  13   17.038462   -4.038462\n",
      "4  14   16.967033   -2.967033\n",
      "5  15   17.142857   -2.142857\n",
      "6  16   17.500000   -1.500000\n",
      "7  17   17.992647   -0.992647\n",
      "8  18   18.588235   -0.588235\n",
      "9  19   19.263158   -0.263158\n"
     ]
    }
   ],
   "source": [
    "import pandas as pd\n",
    "from sklearn.linear_model import LinearRegression\n",
    "from spotRiver.evaluation.eval_bml import eval_bml_landmark\n",
    "\n",
    "model = LinearRegression()\n",
    "\n",
    "X_train = list(range(10))\n",
    "y_train = [2*x for x in X_train]\n",
    "\n",
    "X_test = list(range(10, 20))\n",
    "y_test = [x for x in X_test]\n",
    "\n",
    "train = pd.DataFrame(X_train, columns=[\"x1\"])\n",
    "train[\"y\"] = y_train\n",
    "\n",
    "test = pd.DataFrame(X_test, columns=[\"x1\"])\n",
    "test[\"y\"] = y_test\n",
    "\n",
    "target_column = \"y\"\n",
    "horizon = 1\n",
    "df_eval , df_true = eval_bml_landmark(model , train , test , target_column, horizon)\n",
    "print (df_eval )\n",
    "print (df_true )"
   ]
  },
  {
   "attachments": {},
   "cell_type": "markdown",
   "metadata": {},
   "source": [
    "# eval_bml_window"
   ]
  },
  {
   "cell_type": "code",
   "execution_count": 5,
   "metadata": {},
   "outputs": [
    {
     "name": "stdout",
     "output_type": "stream",
     "text": [
      "     RMSE    MAE  AbsDiff  Underestimation  Overestimation  MaxResidual  \\\n",
      "0     NaN    NaN      NaN              NaN             NaN          NaN   \n",
      "1   10.00  10.00    10.00             0.00           10.00        10.00   \n",
      "2    7.00   7.00     7.00             0.00            7.00         7.00   \n",
      "3    4.27   4.27     4.27             0.00            4.27         4.27   \n",
      "4    1.87   1.87     1.87             0.00            1.87         1.87   \n",
      "5    0.13   0.13     0.13             0.13            0.00         0.13   \n",
      "6    1.67   1.67     1.67             1.67            0.00         1.67   \n",
      "7    2.67   2.67     2.67             2.67            0.00         2.67   \n",
      "8    3.07   3.07     3.07             3.07            0.00         3.07   \n",
      "9    2.80   2.80     2.80             2.80            0.00         2.80   \n",
      "10   1.80   1.80     1.80             1.80            0.00         1.80   \n",
      "\n",
      "    Memory (MB)  CompTime (s)  \n",
      "0      0.013130      0.001832  \n",
      "1      0.014835      0.002946  \n",
      "2      0.012655      0.003416  \n",
      "3      0.012637      0.003020  \n",
      "4      0.012367      0.003973  \n",
      "5      0.012333      0.003231  \n",
      "6      0.012333      0.003628  \n",
      "7      0.012375      0.003556  \n",
      "8      0.012283      0.003167  \n",
      "9      0.013134      0.003135  \n",
      "10     0.012333      0.003150  \n",
      "    y  Prediction  Difference\n",
      "0  10   20.000000  -10.000000\n",
      "1  11   18.000000   -7.000000\n",
      "2  12   16.266667   -4.266667\n",
      "3  13   14.866667   -1.866667\n",
      "4  14   13.866667    0.133333\n",
      "5  15   13.333333    1.666667\n",
      "6  16   13.333333    2.666667\n",
      "7  17   13.933333    3.066667\n",
      "8  18   15.200000    2.800000\n",
      "9  19   17.200000    1.800000\n"
     ]
    }
   ],
   "source": [
    "import pandas as pd\n",
    "from sklearn.linear_model import LinearRegression\n",
    "from spotRiver.evaluation.eval_bml import eval_bml_window\n",
    "\n",
    "model = LinearRegression()\n",
    "\n",
    "X_train = list(range(10))\n",
    "y_train = [2*x for x in X_train]\n",
    "\n",
    "X_test = list(range(10, 20))\n",
    "y_test = [x for x in X_test]\n",
    "\n",
    "train = pd.DataFrame(X_train, columns=[\"x1\"])\n",
    "train[\"y\"] = y_train\n",
    "\n",
    "test = pd.DataFrame(X_test, columns=[\"x1\"])\n",
    "test[\"y\"] = y_test\n",
    "\n",
    "target_column = \"y\"\n",
    "horizon = 1\n",
    "df_eval , df_true = eval_bml_window(model , train , test , target_column, horizon)\n",
    "print (df_eval )\n",
    "print (df_true )"
   ]
  },
  {
   "attachments": {},
   "cell_type": "markdown",
   "metadata": {},
   "source": [
    "# eval_oml_horizon"
   ]
  },
  {
   "cell_type": "code",
   "execution_count": 6,
   "metadata": {},
   "outputs": [
    {
     "name": "stdout",
     "output_type": "stream",
     "text": [
      "     RMSE    MAE  AbsDiff  Underestimation  Overestimation  MaxResidual  \\\n",
      "0     NaN    NaN      NaN              NaN             NaN          NaN   \n",
      "1    9.64   9.64     9.64             9.64             0.0         9.64   \n",
      "2   10.21  10.21    10.21            10.21             0.0        10.21   \n",
      "3   10.65  10.65    10.65            10.65             0.0        10.65   \n",
      "4   11.00  11.00    11.00            11.00             0.0        11.00   \n",
      "5   11.29  11.29    11.29            11.29             0.0        11.29   \n",
      "6   11.53  11.53    11.53            11.53             0.0        11.53   \n",
      "7   11.73  11.73    11.73            11.73             0.0        11.73   \n",
      "8   11.91  11.91    11.91            11.91             0.0        11.91   \n",
      "9   12.05  12.05    12.05            12.05             0.0        12.05   \n",
      "10  12.18  12.18    12.18            12.18             0.0        12.18   \n",
      "\n",
      "    Memory (MB)  CompTime (s)  \n",
      "0      0.021872      0.000293  \n",
      "1      0.005562      0.000159  \n",
      "2      0.005074      0.000156  \n",
      "3      0.005074      0.000127  \n",
      "4      0.005074      0.000124  \n",
      "5      0.005074      0.000146  \n",
      "6      0.005074      0.000144  \n",
      "7      0.005074      0.000125  \n",
      "8      0.005074      0.000118  \n",
      "9      0.005074      0.000116  \n",
      "10     0.005074      0.000116  \n",
      "    y  Prediction  Difference\n",
      "0  10    0.360000    9.640000\n",
      "1  11    0.788931   10.211069\n",
      "2  12    1.351260   10.648740\n",
      "3  13    2.000470   10.999530\n",
      "4  14    2.712052   11.287948\n",
      "5  15    3.471114   11.528886\n",
      "6  16    4.267728   11.732272\n",
      "7  17    5.094831   11.905169\n",
      "8  18    5.947156   12.052844\n",
      "9  19    6.820634   12.179366\n"
     ]
    }
   ],
   "source": [
    "import pandas as pd\n",
    "import numpy as np\n",
    "from river import linear_model\n",
    "from river import preprocessing,datasets\n",
    "model = preprocessing.StandardScaler() | linear_model.LinearRegression()\n",
    "X_train = list(range(10))\n",
    "y_train = [2*x for x in X_train]\n",
    "X_test = list(range(10, 20))\n",
    "y_test = [x for x in X_test]\n",
    "train = pd.DataFrame(X_train, columns=[\"x1\"])\n",
    "train[\"y\"] = y_train\n",
    "test = pd.DataFrame(X_test, columns=[\"x1\"])\n",
    "test[\"y\"] = y_test\n",
    "target_column = \"y\"\n",
    "horizon = 1\n",
    "df_eval, df_preds = eval_oml_horizon(model, train, test, target_column, horizon)\n",
    "print(df_eval)\n",
    "print(df_preds)"
   ]
  },
  {
   "cell_type": "code",
   "execution_count": null,
   "metadata": {},
   "outputs": [],
   "source": []
  }
 ],
 "metadata": {
  "kernelspec": {
   "display_name": "base",
   "language": "python",
   "name": "python3"
  },
  "language_info": {
   "codemirror_mode": {
    "name": "ipython",
    "version": 3
   },
   "file_extension": ".py",
   "mimetype": "text/x-python",
   "name": "python",
   "nbconvert_exporter": "python",
   "pygments_lexer": "ipython3",
   "version": "3.10.6"
  },
  "orig_nbformat": 4
 },
 "nbformat": 4,
 "nbformat_minor": 2
}
