{
 "cells": [
  {
   "cell_type": "raw",
   "metadata": {},
   "source": [
    "---\n",
    "title: \"Tests\"\n",
    "format: html\n",
    "---"
   ]
  },
  {
   "attachments": {},
   "cell_type": "markdown",
   "metadata": {},
   "source": [
    "# eval_bml"
   ]
  },
  {
   "cell_type": "code",
   "execution_count": null,
   "metadata": {},
   "outputs": [],
   "source": [
    "import pandas as pd\n",
    "from sklearn.linear_model import LinearRegression\n",
    "from spotRiver.evaluation.eval_bml import eval_bml_horizon, eval_bml_landmark, eval_bml_window, eval_oml_horizon\n",
    "\n",
    "model = LinearRegression()\n",
    "\n",
    "X_train = list(range(10))\n",
    "y_train = [2*x for x in X_train]\n",
    "\n",
    "X_test = list(range(10, 20))\n",
    "y_test = [x for x in X_test]\n",
    "\n",
    "train = pd.DataFrame(X_train, columns=[\"x1\"])\n",
    "train[\"y\"] = y_train\n",
    "\n",
    "test = pd.DataFrame(X_test, columns=[\"x1\"])\n",
    "test[\"y\"] = y_test\n",
    "\n",
    "target_column = \"y\"\n",
    "horizon = 1\n",
    "df_eval , df_true = eval_bml_horizon(model , train , test , target_column, horizon)\n",
    "print (df_eval )\n",
    "print (df_true )"
   ]
  },
  {
   "attachments": {},
   "cell_type": "markdown",
   "metadata": {},
   "source": [
    "# eval_bml_landmark"
   ]
  },
  {
   "cell_type": "code",
   "execution_count": null,
   "metadata": {},
   "outputs": [],
   "source": [
    "import pandas as pd\n",
    "from sklearn.linear_model import LinearRegression\n",
    "from spotRiver.evaluation.eval_bml import eval_bml_landmark\n",
    "\n",
    "model = LinearRegression()\n",
    "\n",
    "X_train = list(range(10))\n",
    "y_train = [2*x for x in X_train]\n",
    "\n",
    "X_test = list(range(10, 20))\n",
    "y_test = [x for x in X_test]\n",
    "\n",
    "train = pd.DataFrame(X_train, columns=[\"x1\"])\n",
    "train[\"y\"] = y_train\n",
    "\n",
    "test = pd.DataFrame(X_test, columns=[\"x1\"])\n",
    "test[\"y\"] = y_test\n",
    "\n",
    "target_column = \"y\"\n",
    "horizon = 1\n",
    "df_eval , df_true = eval_bml_landmark(model , train , test , target_column, horizon)\n",
    "print (df_eval )\n",
    "print (df_true )"
   ]
  },
  {
   "attachments": {},
   "cell_type": "markdown",
   "metadata": {},
   "source": [
    "# eval_bml_window"
   ]
  },
  {
   "cell_type": "code",
   "execution_count": null,
   "metadata": {},
   "outputs": [],
   "source": [
    "import pandas as pd\n",
    "from sklearn.linear_model import LinearRegression\n",
    "from spotRiver.evaluation.eval_bml import eval_bml_window\n",
    "\n",
    "model = LinearRegression()\n",
    "\n",
    "X_train = list(range(10))\n",
    "y_train = [2*x for x in X_train]\n",
    "\n",
    "X_test = list(range(10, 20))\n",
    "y_test = [x for x in X_test]\n",
    "\n",
    "train = pd.DataFrame(X_train, columns=[\"x1\"])\n",
    "train[\"y\"] = y_train\n",
    "\n",
    "test = pd.DataFrame(X_test, columns=[\"x1\"])\n",
    "test[\"y\"] = y_test\n",
    "\n",
    "target_column = \"y\"\n",
    "horizon = 1\n",
    "df_eval , df_true = eval_bml_window(model , train , test , target_column, horizon)\n",
    "print (df_eval )\n",
    "print (df_true )"
   ]
  },
  {
   "attachments": {},
   "cell_type": "markdown",
   "metadata": {},
   "source": [
    "# eval_oml_horizon"
   ]
  },
  {
   "cell_type": "code",
   "execution_count": null,
   "metadata": {},
   "outputs": [],
   "source": [
    "import pandas as pd\n",
    "import numpy as np\n",
    "from river import linear_model\n",
    "from river import preprocessing,datasets\n",
    "model = preprocessing.StandardScaler() | linear_model.LinearRegression()\n",
    "X_train = list(range(10))\n",
    "y_train = [2*x for x in X_train]\n",
    "X_test = list(range(10, 20))\n",
    "y_test = [x for x in X_test]\n",
    "train = pd.DataFrame(X_train, columns=[\"x1\"])\n",
    "train[\"y\"] = y_train\n",
    "test = pd.DataFrame(X_test, columns=[\"x1\"])\n",
    "test[\"y\"] = y_test\n",
    "target_column = \"y\"\n",
    "horizon = 1\n",
    "df_eval, df_preds = eval_oml_horizon(model, train, test, target_column, horizon)\n",
    "print(df_eval)\n",
    "print(df_preds)"
   ]
  },
  {
   "cell_type": "code",
   "execution_count": null,
   "metadata": {},
   "outputs": [],
   "source": [
    "from river import linear_model, datasets, preprocessing\n",
    "from spotRiver.evaluation.eval_bml import eval_oml_horizon\n",
    "from spotRiver.utils.data_conversion import convert_to_df\n",
    "model = preprocessing.StandardScaler() | linear_model.LinearRegression()\n",
    "dataset = datasets.TrumpApproval()\n",
    "target_column = \"Approve\"\n",
    "df = convert_to_df(dataset, target_column)\n",
    "train = df[:500]\n",
    "test = df[500:]\n",
    "horizon = 1\n",
    "df_eval, df_preds = eval_oml_horizon(model, train, test, target_column, horizon)"
   ]
  },
  {
   "cell_type": "code",
   "execution_count": null,
   "metadata": {},
   "outputs": [],
   "source": [
    "from spotRiver.evaluation.eval_bml import plot_bml_oml_horizon_metrics, plot_bml_oml_horizon_predictions\n",
    "plot_bml_oml_horizon_metrics(df_eval)\n",
    "plot_bml_oml_horizon_predictions(df_preds, target_column=target_column)"
   ]
  },
  {
   "cell_type": "code",
   "execution_count": null,
   "metadata": {},
   "outputs": [],
   "source": [
    "df_eval"
   ]
  },
  {
   "attachments": {},
   "cell_type": "markdown",
   "metadata": {},
   "source": [
    "# eval_oml_iter_progressive"
   ]
  },
  {
   "cell_type": "code",
   "execution_count": null,
   "metadata": {},
   "outputs": [],
   "source": [
    "from river import datasets\n",
    "from spotRiver.evaluation.eval_oml import eval_oml_iter_progressive, plot_oml_iter_progressive\n",
    "from river import metrics as river_metrics\n",
    "from river import tree as river_tree\n",
    "from river import preprocessing as river_preprocessing\n",
    "dataset = datasets.TrumpApproval()"
   ]
  },
  {
   "cell_type": "code",
   "execution_count": null,
   "metadata": {},
   "outputs": [],
   "source": [
    "model =  (river_preprocessing.StandardScaler() | river_tree.HoeffdingAdaptiveTreeRegressor(seed=1))\n",
    "\n",
    "res_num = eval_oml_iter_progressive(\n",
    "    dataset = list(dataset),\n",
    "    step = 1,\n",
    "    metric = river_metrics.MAE(),\n",
    "    models =\n",
    "    {\n",
    "        \"HATR\": model,\n",
    "    }\n",
    ")"
   ]
  },
  {
   "cell_type": "code",
   "execution_count": null,
   "metadata": {},
   "outputs": [],
   "source": [
    "plot_oml_iter_progressive(res_num)"
   ]
  },
  {
   "cell_type": "code",
   "execution_count": null,
   "metadata": {},
   "outputs": [],
   "source": [
    "import numpy as np\n",
    "np.arange(100) // 7"
   ]
  },
  {
   "cell_type": "code",
   "execution_count": null,
   "metadata": {},
   "outputs": [],
   "source": [
    "np.arange(100) % 7"
   ]
  },
  {
   "cell_type": "code",
   "execution_count": null,
   "metadata": {},
   "outputs": [],
   "source": [
    "100 % 3"
   ]
  },
  {
   "cell_type": "code",
   "execution_count": null,
   "metadata": {},
   "outputs": [],
   "source": [
    "arr = np.arange(100) // 7\n",
    "# Remove the last two entries\n",
    "rem = 100 % 7\n",
    "arr = arr[:-rem]"
   ]
  },
  {
   "cell_type": "code",
   "execution_count": null,
   "metadata": {},
   "outputs": [],
   "source": [
    "arr"
   ]
  },
  {
   "cell_type": "code",
   "execution_count": null,
   "metadata": {},
   "outputs": [],
   "source": [
    "import pandas as pd\n",
    "import numpy as np\n",
    "from river import linear_model, datasets\n",
    "from river import preprocessing\n",
    "from spotRiver.evaluation.eval_bml import eval_oml_horizon\n",
    "from spotRiver.utils.data_conversion import convert_to_df\n",
    "dataset = datasets.TrumpApproval()\n",
    "target_column = \"Approval\"\n",
    "df = convert_to_df(dataset, target_column)\n",
    "train = df[:500]\n",
    "test = df[500:]\n",
    "model = preprocessing.StandardScaler() | linear_model.LinearRegression()\n",
    "\n",
    "horizon = 10\n",
    "oml_grace_period = 10\n",
    "df_eval, df_preds = eval_oml_horizon(model, train, test, target_column, horizon, oml_grace_period)\n",
    "df_eval.head()"
   ]
  },
  {
   "cell_type": "code",
   "execution_count": null,
   "metadata": {},
   "outputs": [],
   "source": [
    "# take the mean of the MAEs of the predicted values and ignore the NaN values\n",
    "df_eval = df_eval.dropna()\n",
    "y = df_eval[\"MAE\"].mean()\n",
    "y"
   ]
  },
  {
   "cell_type": "code",
   "execution_count": null,
   "metadata": {},
   "outputs": [],
   "source": [
    "df_preds.head()"
   ]
  },
  {
   "cell_type": "code",
   "execution_count": null,
   "metadata": {},
   "outputs": [],
   "source": [
    "1_000_000 / (7*24)"
   ]
  },
  {
   "cell_type": "code",
   "execution_count": null,
   "metadata": {},
   "outputs": [],
   "source": [
    "250000/(7*24)"
   ]
  },
  {
   "attachments": {},
   "cell_type": "markdown",
   "metadata": {},
   "source": [
    "## Evaluate Model"
   ]
  },
  {
   "cell_type": "code",
   "execution_count": 1,
   "metadata": {},
   "outputs": [],
   "source": [
    "import numpy as np\n",
    "def evaluate_model(y_true: np.ndarray, y_pred: np.ndarray, memory: float, r_time: float, metric) -> dict:\n",
    "    \"\"\"\n",
    "    Evaluate a model's performance based on its predictions and ground truth values.\n",
    "\n",
    "    Parameters\n",
    "    ----------\n",
    "    y_true: Ground truth values as a numpy array.\n",
    "    y_pred: Predicted values as a numpy array.\n",
    "    memory: Memory usage in MB.\n",
    "    r_time: Computation time in seconds.\n",
    "    metric: A function that takes in two arguments (y_true and y_pred) and returns a score.\n",
    "\n",
    "    Returns\n",
    "    -------\n",
    "    A dictionary containing the evaluation results including the metric score, memory usage and computation time.\n",
    "\n",
    "    Example\n",
    "    ------\n",
    "    from sklearn.metrics import mean_squared_error\n",
    "        import numpy as np\n",
    "        y_true = np.array([1.0, 2.0, 3.0])\n",
    "        y_pred = np.array([1.1, 2.1, 2.9])\n",
    "        memory = 100\n",
    "        r_time = 0.5\n",
    "        result = evaluate_model(y_true=y_true,\n",
    "                                y_pred=y_pred,\n",
    "                                memory=memory,\n",
    "                                r_time=r_time,\n",
    "                                metric=mean_squared_error)\n",
    "        print(result)\n",
    "\n",
    "        # Output:\n",
    "        # {'Metric': 0.00666666666666671, 'Memory (MB)': 100, 'CompTime (s)': 0.5}\n",
    "    \"\"\"\n",
    "    if len(y_true) != len(y_pred):\n",
    "        raise ValueError(\"y_true and y_pred must have the same size\")\n",
    "    if (len(y_true) == 0) or (len(y_pred) == 0):\n",
    "        res_dict = {\n",
    "            \"Metric\": None,\n",
    "            \"Memory (MB)\": memory,\n",
    "            \"CompTime (s)\": r_time,\n",
    "        }\n",
    "        return res_dict\n",
    "    score = metric(y_true, y_pred)\n",
    "    res_dict = {\"Metric\": score, \"Memory (MB)\": memory, \"CompTime (s)\": r_time}\n",
    "    return res_dict"
   ]
  },
  {
   "cell_type": "code",
   "execution_count": 2,
   "metadata": {},
   "outputs": [
    {
     "name": "stdout",
     "output_type": "stream",
     "text": [
      "{'Metric': 0.010000000000000018, 'Memory (MB)': 100, 'CompTime (s)': 0.5}\n"
     ]
    }
   ],
   "source": [
    "from sklearn.metrics import mean_squared_error\n",
    "import numpy as np\n",
    "y_true = np.array([1.0, 2.0, 3.0])\n",
    "y_pred = np.array([1.1, 2.1, 2.9])\n",
    "memory = 100\n",
    "r_time = 0.5\n",
    "result = evaluate_model(y_true=y_true,\n",
    "                        y_pred=y_pred,\n",
    "                        memory=memory,\n",
    "                        r_time=r_time,\n",
    "                        metric=mean_squared_error)\n",
    "print(result)"
   ]
  },
  {
   "attachments": {},
   "cell_type": "markdown",
   "metadata": {},
   "source": [
    "## expect a ValueError:"
   ]
  },
  {
   "cell_type": "code",
   "execution_count": 3,
   "metadata": {},
   "outputs": [],
   "source": [
    "def test_evaluate_model():\n",
    "    y_true = np.array([1.0, 2.0])\n",
    "    y_pred = np.array([1.1, 2.1, 2.9])\n",
    "    memory = 100\n",
    "    r_time = 0.5\n",
    "\n",
    "    try:\n",
    "        result = evaluate_model(y_true=y_true,\n",
    "                                y_pred=y_pred,\n",
    "                                memory=memory,\n",
    "                                r_time=r_time,\n",
    "                                metric=mean_squared_error)\n",
    "    except ValueError as e:\n",
    "        assert str(e) == \"y_true and y_pred must have the same size\"\n",
    "\n",
    "test_evaluate_model()"
   ]
  },
  {
   "attachments": {},
   "cell_type": "markdown",
   "metadata": {},
   "source": [
    "# Class ResourceMonitor"
   ]
  },
  {
   "cell_type": "code",
   "execution_count": 4,
   "metadata": {},
   "outputs": [],
   "source": [
    "from typing import Optional\n",
    "import tracemalloc\n",
    "import time\n",
    "from dataclasses import dataclass\n",
    "class ResourceMonitorError(Exception):\n",
    "    pass\n",
    "\n",
    "@dataclass\n",
    "class ResourceUsage:\n",
    "    name: Optional[str]  # Description of Usage\n",
    "    r_time: float  # Measured in seconds\n",
    "    memory: float  # Measured in bytes\n",
    "\n",
    "    def __str__(self):\n",
    "        if self.name is None:\n",
    "            res = [f\"Resource usage for {self.name}:\"]\n",
    "        else:\n",
    "            res = [\"Resource usage:\"]\n",
    "        res.append(f\"  Time [s]: {self.r_time}\")\n",
    "        res.append(f\"  Memory [b]: {self.memory}\")\n",
    "        return \"\\n\".join(res)\n",
    "\n",
    "    def __repr__(self):\n",
    "        return str(self)\n",
    "\n",
    "class ResourceMonitor:\n",
    "    def __init__(self, name: Optional[str] = None):\n",
    "        self.name = name\n",
    "        self.r_time = None\n",
    "        self.memory = None\n",
    "        self.current_memory = None\n",
    "        self.peak_memory = None\n",
    "        self._start = None\n",
    "\n",
    "    def __enter__(self):\n",
    "        if tracemalloc.is_tracing():\n",
    "            raise ResourceMonitorError(\"Already tracing memory usage!\")\n",
    "        tracemalloc.start()\n",
    "        tracemalloc.reset_peak()\n",
    "        self._start = time.perf_counter_ns()\n",
    "\n",
    "    def __exit__(self, type, value, traceback):\n",
    "        self.r_time = (time.perf_counter_ns() - self._start) / 1.0e9\n",
    "        _, peak = tracemalloc.get_traced_memory()\n",
    "        self.memory = peak / (1024 * 1024)\n",
    "        tracemalloc.stop()\n",
    "\n",
    "    def result(self):\n",
    "        if self.r_time is None or self.memory is None:\n",
    "            raise ResourceMonitorError(\"No resources monitored yet.\")\n",
    "        return ResourceUsage(name=self.name, r_time=self.r_time, memory=self.memory)"
   ]
  },
  {
   "cell_type": "code",
   "execution_count": 5,
   "metadata": {},
   "outputs": [
    {
     "name": "stdout",
     "output_type": "stream",
     "text": [
      "Resource usage for None:\n",
      "  Time [s]: 3.208e-06\n",
      "  Memory [b]: 8.7738037109375e-05\n"
     ]
    }
   ],
   "source": [
    "rm = ResourceMonitor()\n",
    "with rm:\n",
    "    x = 10 ** 6\n",
    "print(rm.result())\n",
    "# Output:\n",
    "# Resource usage for None:\n",
    "#   Time [s]: 2.917e-06\n",
    "#   Memory [b]: 8.7738037109375e-05"
   ]
  },
  {
   "attachments": {},
   "cell_type": "markdown",
   "metadata": {},
   "source": [
    "# Eval_bml Horizon Default"
   ]
  },
  {
   "cell_type": "code",
   "execution_count": 6,
   "metadata": {},
   "outputs": [],
   "source": [
    "import numpy as np\n",
    "import pandas as pd\n",
    "from sklearn.metrics import mean_absolute_error\n",
    "\n",
    "def eval_bml_horizon_default(\n",
    "    model: object,\n",
    "    train: pd.DataFrame,\n",
    "    test: pd.DataFrame,\n",
    "    target_column: str,\n",
    "    horizon: int,\n",
    "    include_remainder: bool = True,\n",
    "    metric: object = None,\n",
    ") -> tuple:\n",
    "    train = train.reset_index(drop=True)\n",
    "    test = test.reset_index(drop=True)\n",
    "    series_preds = pd.Series(dtype=float)\n",
    "    series_diffs = pd.Series(dtype=float)\n",
    "    rm = ResourceMonitor()\n",
    "    with rm:\n",
    "        model.fit(train.loc[:, train.columns != target_column], train[target_column])\n",
    "    df_eval = pd.DataFrame.from_dict(\n",
    "        [evaluate_model(y_true=np.array([]), y_pred=np.array([]), memory=rm.memory, r_time=rm.r_time, metric=metric)]\n",
    "    )\n",
    "    if include_remainder is False:\n",
    "        rem = len(test) % horizon\n",
    "        if rem > 0:\n",
    "            test = test[:-rem]\n",
    "    for batch_number, batch_df in test.groupby(np.arange(len(test)) // horizon):\n",
    "        rm = ResourceMonitor()\n",
    "        with rm:\n",
    "            preds = pd.Series(model.predict(batch_df.loc[:, batch_df.columns != target_column]))\n",
    "        diffs = batch_df[target_column].values - preds\n",
    "        df_eval.loc[batch_number + 1] = pd.Series(\n",
    "            evaluate_model(\n",
    "                y_true=batch_df[target_column],\n",
    "                y_pred=preds,\n",
    "                memory=rm.memory,\n",
    "                r_time=rm.r_time,\n",
    "                metric=metric,\n",
    "            )\n",
    "        )\n",
    "        series_preds = pd.concat([series_preds, preds], ignore_index=True)\n",
    "        series_diffs = pd.concat([series_diffs, diffs], ignore_index=True)\n",
    "    df_true = pd.DataFrame(test[target_column])\n",
    "    df_true[\"Prediction\"] = series_preds\n",
    "    df_true[\"Difference\"] = series_diffs\n",
    "    return df_eval, df_true"
   ]
  },
  {
   "attachments": {},
   "cell_type": "markdown",
   "metadata": {},
   "source": [
    "# Eval BML New:"
   ]
  },
  {
   "cell_type": "code",
   "execution_count": 7,
   "metadata": {},
   "outputs": [],
   "source": [
    "def eval_bml_horizon(\n",
    "    model: object,\n",
    "    train: pd.DataFrame,\n",
    "    test: pd.DataFrame,\n",
    "    target_column: str,\n",
    "    horizon: int,\n",
    "    include_remainder: bool = True,\n",
    "    metric: object = None,\n",
    ") -> tuple:\n",
    "    # Reset index of train and test dataframes\n",
    "    train = train.reset_index(drop=True)\n",
    "    test = test.reset_index(drop=True)\n",
    "    # Initialize lists for predictions and differences\n",
    "    preds_list = []\n",
    "    diffs_list = []\n",
    "    # Fit the model on the training data\n",
    "    rm = ResourceMonitor()\n",
    "    with rm:\n",
    "        model.fit(train.loc[:, train.columns != target_column], train[target_column])\n",
    "    # Evaluate the model on empty arrays to get initial resource usage\n",
    "    df_eval = pd.DataFrame.from_dict(\n",
    "        [evaluate_model(y_true=np.array([]), y_pred=np.array([]), memory=rm.memory, r_time=rm.r_time, metric=metric)]\n",
    "    )\n",
    "    # If include_remainder is False, remove remainder rows from test dataframe\n",
    "    if include_remainder is False:\n",
    "        remainder = len(test) % horizon\n",
    "        if remainder > 0:\n",
    "            test = test[:-remainder]\n",
    "    # Evaluate the model on batches of size horizon from the test dataframe\n",
    "    for batch_number, batch_df in test.groupby(np.arange(len(test)) // horizon):\n",
    "        rm = ResourceMonitor()\n",
    "        with rm:\n",
    "            preds = model.predict(batch_df.loc[:, batch_df.columns != target_column])\n",
    "        diffs = batch_df[target_column].values - preds\n",
    "        df_eval.loc[batch_number + 1] = pd.Series(\n",
    "            evaluate_model(\n",
    "                y_true=batch_df[target_column],\n",
    "                y_pred=preds,\n",
    "                memory=rm.memory,\n",
    "                r_time=rm.r_time,\n",
    "                metric=metric,\n",
    "            )\n",
    "        )\n",
    "        # Append predictions and differences to their respective lists\n",
    "        preds_list.append(preds)\n",
    "        diffs_list.append(diffs)\n",
    "\n",
    "    # Concatenate predictions and differences lists into series\n",
    "    series_preds = pd.Series(np.concatenate(preds_list))\n",
    "    series_diffs = pd.Series(np.concatenate(diffs_list))\n",
    "\n",
    "    # Create a dataframe with true values and add columns for predictions and differences\n",
    "    df_true = pd.DataFrame(test[target_column])\n",
    "    df_true[\"Prediction\"] = series_preds\n",
    "    df_true[\"Difference\"] = series_diffs\n",
    "    return df_eval, df_true"
   ]
  },
  {
   "attachments": {},
   "cell_type": "markdown",
   "metadata": {},
   "source": [
    "# Example Regresssion"
   ]
  },
  {
   "cell_type": "code",
   "execution_count": 8,
   "metadata": {},
   "outputs": [
    {
     "name": "stdout",
     "output_type": "stream",
     "text": [
      "        Metric  Memory (MB)  CompTime (s)\n",
      "0          NaN     0.144329      0.002664\n",
      "1    67.833646     0.011371      0.001095\n",
      "2    17.643432     0.006816      0.001251\n",
      "3    54.490855     0.006317      0.001019\n",
      "4    38.651225     0.006264      0.000963\n",
      "5    59.316989     0.006264      0.000951\n",
      "6    11.565353     0.006264      0.000962\n",
      "7    31.127835     0.006264      0.000968\n",
      "8   125.788493     0.006264      0.001185\n",
      "9    89.405219     0.006264      0.000918\n",
      "10  142.924475     0.006264      0.001077\n",
      "             y  Prediction  Difference\n",
      "0  -177.011035  -66.859110 -110.151925\n",
      "1    79.563101   54.047733   25.515368\n",
      "2   -36.407803  -66.204099   29.796296\n",
      "3     1.166323   -4.324244    5.490567\n",
      "4   153.448444   45.916461  107.531982\n",
      "5     7.578101    6.128372    1.449729\n",
      "6     2.558450    2.213423    0.345027\n",
      "7   145.309552   68.352128   76.957424\n",
      "8   141.650222   59.168833   82.481389\n",
      "9    28.549833   -7.602755   36.152588\n",
      "10   29.583155   44.801239  -15.218084\n",
      "11   -9.096112   -1.183490   -7.912622\n",
      "12  -47.195605  -19.888167  -27.307438\n",
      "13   27.875124   -7.073107   34.948231\n",
      "14  111.051360   50.865109   60.186251\n",
      "15 -234.877403  -43.486667 -191.390735\n",
      "16   94.070097  -47.386761  141.456858\n",
      "17   40.298425    2.944845   37.353580\n",
      "18  197.095172   43.377492  153.717680\n",
      "19 -164.976614  -32.845344 -132.131270\n"
     ]
    }
   ],
   "source": [
    "import pandas as pd\n",
    "from sklearn.linear_model import LinearRegression\n",
    "from sklearn.datasets import make_regression\n",
    "from sklearn.metrics import mean_squared_error\n",
    "\n",
    "model = LinearRegression()\n",
    "\n",
    "# Create synthetic data for regression with 100 observations, 3 features and one target value\n",
    "X_train, y_train = make_regression(n_samples=80, n_features=3, n_targets=1)\n",
    "X_test, y_test = make_regression(n_samples=20, n_features=3, n_targets=1)\n",
    "\n",
    "# Convert the data into a pandas data frame\n",
    "train = pd.DataFrame(X_train, columns=[\"x1\", \"x2\", \"x3\"])\n",
    "train[\"y\"] = y_train\n",
    "\n",
    "test = pd.DataFrame(X_test, columns=[\"x1\", \"x2\", \"x3\"])\n",
    "test[\"y\"] = y_test\n",
    "\n",
    "target_column = \"y\"\n",
    "horizon = 2\n",
    "include_remainder = False\n",
    "metric = mean_absolute_error\n",
    "df_eval, df_true = eval_bml_horizon(model , train , test , target_column, horizon, include_remainder = include_remainder , metric=metric)\n",
    "print (df_eval )\n",
    "print (df_true )"
   ]
  },
  {
   "attachments": {},
   "cell_type": "markdown",
   "metadata": {},
   "source": [
    "# Example Classification"
   ]
  },
  {
   "cell_type": "code",
   "execution_count": 9,
   "metadata": {},
   "outputs": [
    {
     "name": "stdout",
     "output_type": "stream",
     "text": [
      "   Metric  Memory (MB)  CompTime (s)\n",
      "0     NaN     0.099700      0.004510\n",
      "1     1.0     0.009333      0.001331\n",
      "2     1.0     0.006477      0.001147\n",
      "3     1.0     0.006317      0.001109\n",
      "4     1.0     0.006317      0.001129\n",
      "5     0.5     0.006317      0.001132\n",
      "   y  Prediction  Difference\n",
      "0  1           1           0\n",
      "1  1           1           0\n",
      "2  0           0           0\n",
      "3  0           0           0\n",
      "4  0           0           0\n",
      "5  1           1           0\n",
      "6  0           0           0\n",
      "7  1           1           0\n",
      "8  1           0           1\n",
      "9  0           0           0\n"
     ]
    }
   ],
   "source": [
    "import pandas as pd\n",
    "from sklearn.linear_model import LogisticRegression\n",
    "from sklearn.datasets import make_classification\n",
    "from sklearn.metrics import accuracy_score\n",
    "\n",
    "model = LogisticRegression()\n",
    "\n",
    "# Create synthetic data for classification with 10 observations and one target value\n",
    "X_train, y_train = make_classification(n_samples=10, n_features=2, n_informative=2,\n",
    "                           n_redundant=0, n_classes=2, random_state=0)\n",
    "X_test, y_test = make_classification(n_samples=10, n_features=2, n_informative=2,\n",
    "                           n_redundant=0, n_classes=2, random_state=2)\n",
    "\n",
    "# Convert the data into a pandas data frame\n",
    "train = pd.DataFrame(X_train, columns=['Feature 1', 'Feature 2'])\n",
    "train['y'] = y_train\n",
    "test = pd.DataFrame(X_test, columns=['Feature 1', 'Feature 2'])\n",
    "test['y'] = y_test\n",
    "\n",
    "target_column = \"y\"\n",
    "horizon = 2\n",
    "include_remainder = False\n",
    "metric = accuracy_score\n",
    "df_eval, df_true = eval_bml_horizon(model , train , test , target_column, horizon, include_remainder = include_remainder , metric=metric)\n",
    "print (df_eval )\n",
    "print (df_true )"
   ]
  },
  {
   "attachments": {},
   "cell_type": "markdown",
   "metadata": {},
   "source": [
    "## 2nd example classification"
   ]
  },
  {
   "cell_type": "code",
   "execution_count": 10,
   "metadata": {},
   "outputs": [
    {
     "name": "stdout",
     "output_type": "stream",
     "text": [
      "   Metric  Memory (MB)  CompTime (s)\n",
      "0     NaN     0.301066      0.009391\n",
      "1     0.3     0.012995      0.001281\n",
      "2     0.3     0.009775      0.001222\n",
      "3     0.6     0.009775      0.001265\n",
      "4     0.2     0.009615      0.001199\n",
      "   target  Prediction  Difference\n",
      "0       1           1           0\n",
      "1       0           0           0\n",
      "2       1           0           1\n",
      "3       0           1          -1\n",
      "4       0           1          -1\n"
     ]
    }
   ],
   "source": [
    "from sklearn.datasets import make_classification\n",
    "from sklearn.tree import DecisionTreeClassifier\n",
    "from sklearn.metrics import accuracy_score\n",
    "\n",
    "# Generate synthetic data for classification\n",
    "X_train, y_train = make_classification(n_samples=1000)\n",
    "X_test, y_test = make_classification(n_samples=1000)\n",
    "\n",
    "# Convert to DataFrames and add target column\n",
    "train_df = pd.DataFrame(X_train)\n",
    "train_df['target'] = y_train\n",
    "\n",
    "test_df = pd.DataFrame(X_test)\n",
    "test_df['target'] = y_test\n",
    "\n",
    "# Initialize Decision Tree Classifier and evaluate using eval_bml_horizon function\n",
    "dtc = DecisionTreeClassifier()\n",
    "eval_results_df, true_preds_diffs_df = eval_bml_horizon(dtc, train_df,test_df,'target', 10, True, accuracy_score)\n",
    "\n",
    "# Print first 5 rows of evaluation results DataFrame\n",
    "print(eval_results_df.head())\n",
    "\n",
    "# Print first 5 rows of true values/predictions/differences DataFrame\n",
    "print(true_preds_diffs_df.head())"
   ]
  },
  {
   "attachments": {},
   "cell_type": "markdown",
   "metadata": {},
   "source": [
    "# BML Landmark"
   ]
  },
  {
   "cell_type": "code",
   "execution_count": 11,
   "metadata": {},
   "outputs": [],
   "source": [
    "from typing import Tuple, Generator\n",
    "def gen_sliding_window(\n",
    "    df: pd.DataFrame, horizon: int, include_remainder: bool = True\n",
    ") -> Generator[pd.DataFrame, None, None]:\n",
    "    i = 0\n",
    "    while True:\n",
    "        subset = df[i * horizon : (i + 1) * horizon]\n",
    "        if len(subset) == 0:\n",
    "            break\n",
    "        elif len(subset) < horizon:\n",
    "            if include_remainder:\n",
    "                yield subset\n",
    "            break\n",
    "        i += 1\n",
    "        yield subset"
   ]
  },
  {
   "cell_type": "code",
   "execution_count": 12,
   "metadata": {},
   "outputs": [],
   "source": [
    "def eval_bml_landmark(\n",
    "    model: object,\n",
    "    train: pd.DataFrame,\n",
    "    test: pd.DataFrame,\n",
    "    target_column: str,\n",
    "    horizon: int,\n",
    "    include_remainder: bool = True,\n",
    "    metric: object = None,\n",
    ") -> tuple:\n",
    "    train = train.reset_index(drop=True)\n",
    "    test = test.reset_index(drop=True)\n",
    "    series_preds = pd.Series(dtype=float)\n",
    "    series_diffs = pd.Series(dtype=float)\n",
    "    rm = ResourceMonitor()\n",
    "    with rm:\n",
    "        model.fit(train.loc[:, train.columns != target_column], train[target_column])\n",
    "    df_eval = pd.DataFrame.from_dict(\n",
    "        [evaluate_model(y_true=np.array([]), y_pred=np.array([]), memory=rm.memory, r_time=rm.r_time, metric=metric)]\n",
    "    )\n",
    "    if include_remainder is False:\n",
    "        rem = len(test) % horizon\n",
    "        if rem > 0:\n",
    "            test = test[:-rem]\n",
    "    # Landmark Evaluation\n",
    "    for i, new_df in enumerate(gen_sliding_window(test, horizon)):\n",
    "        train = pd.concat([train, new_df], ignore_index=True)\n",
    "        rm = ResourceMonitor()\n",
    "        with rm:\n",
    "            preds = pd.Series(model.predict(new_df.loc[:, new_df.columns != target_column]))\n",
    "            model.fit(train.loc[:, train.columns != target_column], train[target_column])\n",
    "\n",
    "        diffs = new_df[target_column].values - preds\n",
    "        df_eval.loc[i + 1] = pd.Series(\n",
    "            evaluate_model(\n",
    "                y_true=new_df[target_column],\n",
    "                y_pred=preds,\n",
    "                memory=rm.memory,\n",
    "                r_time=rm.r_time,\n",
    "                metric=metric,\n",
    "            )\n",
    "        )\n",
    "        series_preds = pd.concat([series_preds, preds], ignore_index=True)\n",
    "        series_diffs = pd.concat([series_diffs, diffs], ignore_index=True)\n",
    "    df_true = pd.DataFrame(test[target_column])\n",
    "    df_true[\"Prediction\"] = series_preds\n",
    "    df_true[\"Difference\"] = series_diffs\n",
    "    return df_eval, df_true"
   ]
  },
  {
   "attachments": {},
   "cell_type": "markdown",
   "metadata": {},
   "source": [
    "## Example Regression"
   ]
  },
  {
   "cell_type": "code",
   "execution_count": 13,
   "metadata": {},
   "outputs": [
    {
     "name": "stdout",
     "output_type": "stream",
     "text": [
      "        Metric  Memory (MB)  CompTime (s)\n",
      "0          NaN     0.024075      0.002236\n",
      "1    39.993083     0.025871      0.003163\n",
      "2   121.643311     0.024796      0.003685\n",
      "3    81.945331     0.023666      0.002872\n",
      "4    50.497670     0.023865      0.002668\n",
      "5    31.343907     0.024466      0.002947\n",
      "6    29.558143     0.024261      0.002890\n",
      "7    83.502909     0.024542      0.002718\n",
      "8    78.947671     0.024601      0.003397\n",
      "9    31.602816     0.024857      0.002791\n",
      "10   85.219699     0.025493      0.003023\n",
      "             y  Prediction  Difference\n",
      "0   -34.446883  -48.018612   13.571729\n",
      "1   146.715625   80.301189   66.414436\n",
      "2  -148.093768 -282.462116  134.368348\n",
      "3    38.311993  -70.606281  108.918273\n",
      "4    57.342384   55.224307    2.118077\n",
      "5  -149.422330   12.350255 -161.772585\n",
      "6  -215.876720 -135.405397  -80.471323\n",
      "7   -12.898963    7.625053  -20.524016\n",
      "8    56.222409   -0.228907   56.451316\n",
      "9   -91.124630  -84.888132   -6.236498\n",
      "10  -37.499571    6.351450  -43.851021\n",
      "11   70.771529   86.036793  -15.265264\n",
      "12  -46.321795   62.644476 -108.966270\n",
      "13  134.995209   76.955661   58.039548\n",
      "14   60.490291  133.483466  -72.993175\n",
      "15  124.904193  209.806360  -84.902167\n",
      "16  -50.884235  -47.406107   -3.478128\n",
      "17  -98.129151  -38.401648  -59.727503\n",
      "18  -59.742784  -79.850751   20.107967\n",
      "19  -58.828259 -209.159691  150.331432\n"
     ]
    }
   ],
   "source": [
    "import pandas as pd\n",
    "from sklearn.linear_model import LinearRegression\n",
    "from sklearn.datasets import make_regression\n",
    "from sklearn.metrics import mean_squared_error\n",
    "\n",
    "model = LinearRegression()\n",
    "\n",
    "# Create synthetic data for regression with 100 observations, 3 features and one target value\n",
    "X_train, y_train = make_regression(n_samples=80, n_features=3, n_targets=1)\n",
    "X_test, y_test = make_regression(n_samples=20, n_features=3, n_targets=1)\n",
    "\n",
    "# Convert the data into a pandas data frame\n",
    "train = pd.DataFrame(X_train, columns=[\"x1\", \"x2\", \"x3\"])\n",
    "train[\"y\"] = y_train\n",
    "\n",
    "test = pd.DataFrame(X_test, columns=[\"x1\", \"x2\", \"x3\"])\n",
    "test[\"y\"] = y_test\n",
    "\n",
    "target_column = \"y\"\n",
    "horizon = 2\n",
    "include_remainder = False\n",
    "metric = mean_absolute_error\n",
    "df_eval, df_true = eval_bml_landmark(model , train , test , target_column, horizon, include_remainder = include_remainder , metric=metric)\n",
    "print (df_eval )\n",
    "print (df_true )"
   ]
  },
  {
   "attachments": {},
   "cell_type": "markdown",
   "metadata": {},
   "source": [
    "## Example Classification"
   ]
  },
  {
   "cell_type": "code",
   "execution_count": 14,
   "metadata": {},
   "outputs": [
    {
     "name": "stdout",
     "output_type": "stream",
     "text": [
      "   Metric  Memory (MB)  CompTime (s)\n",
      "0     NaN     0.295241      0.011506\n",
      "1    0.54     0.325284      0.015666\n",
      "2    0.70     0.352242      0.018753\n",
      "3    0.79     0.379490      0.019190\n",
      "4    0.83     0.408167      0.017358\n",
      "   target  Prediction  Difference\n",
      "0       0           0           0\n",
      "1       0           0           0\n",
      "2       1           1           0\n",
      "3       0           1          -1\n",
      "4       0           0           0\n"
     ]
    }
   ],
   "source": [
    "from sklearn.datasets import make_classification\n",
    "from sklearn.tree import DecisionTreeClassifier\n",
    "from sklearn.metrics import accuracy_score\n",
    "\n",
    "# Generate synthetic data for classification\n",
    "X_train, y_train = make_classification(n_samples=1000)\n",
    "X_test, y_test = make_classification(n_samples=1000)\n",
    "\n",
    "# Convert to DataFrames and add target column\n",
    "train_df = pd.DataFrame(X_train)\n",
    "train_df['target'] = y_train\n",
    "\n",
    "test_df = pd.DataFrame(X_test)\n",
    "test_df['target'] = y_test\n",
    "\n",
    "# Initialize Decision Tree Classifier and evaluate using eval_bml_landmark function \n",
    "dtc = DecisionTreeClassifier()\n",
    "eval_results_df, true_preds_diffs_df = eval_bml_landmark(dtc, train_df,test_df,'target', 100, True, accuracy_score)\n",
    "\n",
    "# Print first 5 rows of evaluation results DataFrame \n",
    "print(eval_results_df.head())\n",
    "\n",
    "# Print first 5 rows of true values/predictions/differences DataFrame \n",
    "print(true_preds_diffs_df.head())"
   ]
  },
  {
   "cell_type": "markdown",
   "metadata": {},
   "source": [
    "# Eval BML Window"
   ]
  },
  {
   "cell_type": "code",
   "execution_count": 15,
   "metadata": {},
   "outputs": [],
   "source": [
    "def gen_horizon_shifted_window(df, window_size, horizon):\n",
    "    i = 0\n",
    "    while True:\n",
    "        train_window = df[i * horizon : i * horizon + window_size]\n",
    "        test_window = df[i * horizon + window_size : (i + 1) * horizon + window_size]\n",
    "        if len(test_window) == 0:\n",
    "            break\n",
    "        elif len(test_window) < horizon:\n",
    "            yield train_window, test_window\n",
    "            break\n",
    "        i += 1\n",
    "        yield train_window, test_window"
   ]
  },
  {
   "cell_type": "code",
   "execution_count": 16,
   "metadata": {},
   "outputs": [],
   "source": [
    "def eval_bml_window(\n",
    "    model: object,\n",
    "    train: pd.DataFrame,\n",
    "    test: pd.DataFrame,\n",
    "    target_column: str,\n",
    "    horizon: int,\n",
    "    include_remainder: bool = True,\n",
    "    metric: object = None,\n",
    ") -> tuple:\n",
    "    train = train.reset_index(drop=True)\n",
    "    test = test.reset_index(drop=True)\n",
    "    df_all = pd.concat([train, test], ignore_index=True)\n",
    "    series_preds = pd.Series(dtype=float)\n",
    "    series_diffs = pd.Series(dtype=float)\n",
    "    rm = ResourceMonitor()\n",
    "    with rm:\n",
    "        model.fit(train.loc[:, train.columns != target_column], train[target_column])\n",
    "    df_eval = pd.DataFrame.from_dict(\n",
    "        [evaluate_model(y_true=np.array([]), y_pred=np.array([]), memory=rm.memory, r_time=rm.r_time, metric=metric)]\n",
    "    )\n",
    "    if include_remainder is False:\n",
    "        rem = len(test) % horizon\n",
    "        if rem > 0:\n",
    "            test = test[:-rem]\n",
    "    for i, (w_train, w_test) in enumerate(gen_horizon_shifted_window(df_all, len(train), horizon)):\n",
    "        rm = ResourceMonitor()\n",
    "        with rm:\n",
    "            model.fit(w_train.loc[:, w_train.columns != target_column], w_train[target_column])\n",
    "            preds = pd.Series(model.predict(w_test.loc[:, w_test.columns != target_column]))\n",
    "\n",
    "        diffs = w_test[target_column].values - preds\n",
    "        df_eval.loc[i + 1] = pd.Series(\n",
    "            evaluate_model(\n",
    "                y_true=w_test[target_column],\n",
    "                y_pred=preds,\n",
    "                memory=rm.memory,\n",
    "                r_time=rm.r_time,\n",
    "                metric=metric,\n",
    "            )\n",
    "        )\n",
    "\n",
    "        series_preds = pd.concat([series_preds, preds], ignore_index=True)\n",
    "        series_diffs = pd.concat([series_diffs, diffs], ignore_index=True)\n",
    "\n",
    "    df_true = pd.DataFrame(test[target_column])\n",
    "    df_true[\"Prediction\"] = series_preds\n",
    "    df_true[\"Difference\"] = series_diffs\n",
    "    return df_eval, df_true"
   ]
  },
  {
   "attachments": {},
   "cell_type": "markdown",
   "metadata": {},
   "source": [
    "## Example Regression"
   ]
  },
  {
   "cell_type": "code",
   "execution_count": 17,
   "metadata": {},
   "outputs": [
    {
     "name": "stdout",
     "output_type": "stream",
     "text": [
      "        Metric  Memory (MB)  CompTime (s)\n",
      "0          NaN     0.023727      0.002267\n",
      "1    27.487904     0.023926      0.002932\n",
      "2    64.991036     0.021680      0.002741\n",
      "3    33.764241     0.021202      0.002718\n",
      "4    59.779323     0.021202      0.003144\n",
      "5    12.815860     0.021202      0.002684\n",
      "6   103.578350     0.021202      0.002823\n",
      "7    35.717621     0.021152      0.003035\n",
      "8   111.018473     0.021202      0.002985\n",
      "9   104.543203     0.021202      0.003330\n",
      "10   22.880664     0.021152      0.002783\n",
      "            y  Prediction  Difference\n",
      "0    6.792881  -27.721229   34.514110\n",
      "1   -5.322655  -25.784352   20.461697\n",
      "2   -3.421629 -121.248688  117.827059\n",
      "3    0.745922   12.900934  -12.155012\n",
      "4   -2.247334  -64.768890   62.521556\n",
      "5    2.702723    7.709648   -5.006925\n",
      "6    0.832418  -24.768982   25.601400\n",
      "7    4.102846   98.060092  -93.957245\n",
      "8   -5.223584   -9.396409    4.172825\n",
      "9   -1.497920   19.960975  -21.458894\n",
      "10  -8.454964 -131.667629  123.212666\n",
      "11   7.142640  -76.801394   83.944035\n",
      "12  -2.631874   10.287585  -12.919458\n",
      "13  -0.382366   58.133418  -58.515784\n",
      "14  -8.267398  -80.272319   72.004920\n",
      "15 -13.376585 -163.408610  150.032025\n",
      "16  -8.056434 -194.301767  186.245332\n",
      "17  -4.673854   18.167220  -22.841074\n",
      "18  -5.411069   -3.420886   -1.990183\n",
      "19  -0.193112  -43.964257   43.771145\n"
     ]
    }
   ],
   "source": [
    "import pandas as pd\n",
    "from sklearn.linear_model import LinearRegression\n",
    "from sklearn.datasets import make_regression\n",
    "from sklearn.metrics import mean_absolute_error\n",
    "\n",
    "model = LinearRegression()\n",
    "\n",
    "# Create synthetic data for regression with 100 observations, 3 features and one target value\n",
    "X_train, y_train = make_regression(n_samples=80, n_features=3, n_targets=1)\n",
    "X_test, y_test = make_regression(n_samples=20, n_features=3, n_targets=1)\n",
    "\n",
    "# Convert the data into a pandas data frame\n",
    "train = pd.DataFrame(X_train, columns=[\"x1\", \"x2\", \"x3\"])\n",
    "train[\"y\"] = y_train\n",
    "\n",
    "test = pd.DataFrame(X_test, columns=[\"x1\", \"x2\", \"x3\"])\n",
    "test[\"y\"] = y_test\n",
    "\n",
    "target_column = \"y\"\n",
    "horizon = 2\n",
    "include_remainder = False\n",
    "metric = mean_absolute_error\n",
    "df_eval, df_true = eval_bml_window(model , train , test , target_column, horizon, include_remainder = include_remainder , metric=metric)\n",
    "print (df_eval )\n",
    "print (df_true )"
   ]
  },
  {
   "attachments": {},
   "cell_type": "markdown",
   "metadata": {},
   "source": [
    "## Example Classification"
   ]
  },
  {
   "cell_type": "code",
   "execution_count": 18,
   "metadata": {},
   "outputs": [
    {
     "name": "stdout",
     "output_type": "stream",
     "text": [
      "   Metric  Memory (MB)  CompTime (s)\n",
      "0     NaN     0.294700      0.009129\n",
      "1    0.55     0.294894      0.010389\n",
      "2    0.69     0.292476      0.011158\n",
      "3    0.77     0.291972      0.011152\n",
      "4    0.82     0.291972      0.011109\n",
      "   target  Prediction  Difference\n",
      "0       0           1          -1\n",
      "1       1           0           1\n",
      "2       1           1           0\n",
      "3       1           0           1\n",
      "4       1           0           1\n"
     ]
    }
   ],
   "source": [
    "from sklearn.datasets import make_classification\n",
    "from sklearn.tree import DecisionTreeClassifier\n",
    "from sklearn.metrics import accuracy_score\n",
    "\n",
    "# Generate synthetic data for classification\n",
    "X_train, y_train = make_classification(n_samples=1000)\n",
    "X_test, y_test = make_classification(n_samples=1000)\n",
    "\n",
    "# Convert to DataFrames and add target column\n",
    "train_df = pd.DataFrame(X_train)\n",
    "train_df['target'] = y_train\n",
    "\n",
    "test_df = pd.DataFrame(X_test)\n",
    "test_df['target'] = y_test\n",
    "\n",
    "# Initialize Decision Tree Classifier and evaluate using eval_bml_landmark function \n",
    "dtc = DecisionTreeClassifier()\n",
    "eval_results_df, true_preds_diffs_df = eval_bml_window(dtc, train_df,test_df,'target', 100, True, accuracy_score)\n",
    "\n",
    "# Print first 5 rows of evaluation results DataFrame \n",
    "print(eval_results_df.head())\n",
    "\n",
    "# Print first 5 rows of true values/predictions/differences DataFrame \n",
    "print(true_preds_diffs_df.head())"
   ]
  },
  {
   "attachments": {},
   "cell_type": "markdown",
   "metadata": {},
   "source": [
    "# Eval OML Horizon"
   ]
  },
  {
   "cell_type": "code",
   "execution_count": 19,
   "metadata": {},
   "outputs": [],
   "source": [
    "from river import stream as river_stream\n",
    "def eval_oml_horizon(\n",
    "    model: object,\n",
    "    train: pd.DataFrame,\n",
    "    test: pd.DataFrame,\n",
    "    target_column: str,\n",
    "    horizon: int,\n",
    "    include_remainder: bool = True,\n",
    "    metric: object = None,\n",
    "    oml_grace_period: int = None,\n",
    ") -> Tuple[pd.DataFrame, pd.DataFrame]:\n",
    "    # Check if metric is None or null and raise ValueError if it is\n",
    "    if metric is None:\n",
    "        raise ValueError(\"The 'metric' parameter must not be None or null.\")\n",
    "    if oml_grace_period is None:\n",
    "        oml_grace_period = horizon\n",
    "    train = train.reset_index(drop=True)\n",
    "    test = test.reset_index(drop=True)\n",
    "    if include_remainder is False:\n",
    "        rem = len(test) % horizon\n",
    "        if rem > 0:\n",
    "            test = test[:-rem]\n",
    "    series_preds = pd.Series(dtype=float)\n",
    "    series_diffs = pd.Series(dtype=float)\n",
    "\n",
    "    # Initial Training on Train Data\n",
    "    # For OML, this is performed on a limited subset only (oml_grace_period).\n",
    "    train_X = train.loc[:, train.columns != target_column]\n",
    "    train_y = train[target_column]\n",
    "    train_X = train_X.tail(oml_grace_period)\n",
    "    train_y = train_y.tail(oml_grace_period)\n",
    "    rm = ResourceMonitor()\n",
    "    with rm:\n",
    "        for xi, yi in river_stream.iter_pandas(train_X, train_y):\n",
    "            # The following line returns y_pred, which is not used, therefore set to \"_\":\n",
    "            _ = model.predict_one(xi)\n",
    "            # metric = metric.update(yi, y_pred)\n",
    "            model = model.learn_one(xi, yi)\n",
    "    df_eval = pd.DataFrame.from_dict(\n",
    "        [evaluate_model(y_true=np.array([]), y_pred=np.array([]), memory=rm.memory, r_time=rm.r_time, metric=metric)]\n",
    "    )\n",
    "\n",
    "    # Test Data Evaluation\n",
    "    for i, new_df in enumerate(gen_sliding_window(test, horizon)):\n",
    "        preds = []\n",
    "        test_X = new_df.loc[:, new_df.columns != target_column]\n",
    "        test_y = new_df[target_column]\n",
    "        rm = ResourceMonitor()\n",
    "        with rm:\n",
    "            for xi, yi in river_stream.iter_pandas(test_X, test_y):\n",
    "                pred = model.predict_one(xi)\n",
    "                preds.append(pred)  # This is falsly measured with the ResourceMonitor\n",
    "                model = model.learn_one(xi, yi)\n",
    "        preds = pd.Series(preds)\n",
    "        diffs = new_df[target_column].values - preds\n",
    "        df_eval.loc[i + 1] = pd.Series(\n",
    "            evaluate_model(\n",
    "                y_true=new_df[target_column],\n",
    "                y_pred=preds,\n",
    "                memory=rm.memory,\n",
    "                r_time=rm.r_time,\n",
    "                metric=metric,\n",
    "            )\n",
    "        )\n",
    "        series_preds = pd.concat([series_preds, preds], ignore_index=True)\n",
    "        series_diffs = pd.concat([series_diffs, diffs], ignore_index=True)\n",
    "    df_true = pd.DataFrame(test[target_column])\n",
    "    df_true[\"Prediction\"] = series_preds\n",
    "    df_true[\"Difference\"] = series_diffs\n",
    "    return df_eval, df_true"
   ]
  },
  {
   "attachments": {},
   "cell_type": "markdown",
   "metadata": {},
   "source": [
    "## Example Regression"
   ]
  },
  {
   "cell_type": "code",
   "execution_count": 20,
   "metadata": {},
   "outputs": [
    {
     "data": {
      "text/html": [
       "<div>\n",
       "<style scoped>\n",
       "    .dataframe tbody tr th:only-of-type {\n",
       "        vertical-align: middle;\n",
       "    }\n",
       "\n",
       "    .dataframe tbody tr th {\n",
       "        vertical-align: top;\n",
       "    }\n",
       "\n",
       "    .dataframe thead th {\n",
       "        text-align: right;\n",
       "    }\n",
       "</style>\n",
       "<table border=\"1\" class=\"dataframe\">\n",
       "  <thead>\n",
       "    <tr style=\"text-align: right;\">\n",
       "      <th></th>\n",
       "      <th>Metric</th>\n",
       "      <th>Memory (MB)</th>\n",
       "      <th>CompTime (s)</th>\n",
       "    </tr>\n",
       "  </thead>\n",
       "  <tbody>\n",
       "    <tr>\n",
       "      <th>0</th>\n",
       "      <td>NaN</td>\n",
       "      <td>0.027605</td>\n",
       "      <td>0.000670</td>\n",
       "    </tr>\n",
       "    <tr>\n",
       "      <th>1</th>\n",
       "      <td>19.265657</td>\n",
       "      <td>0.009155</td>\n",
       "      <td>0.000982</td>\n",
       "    </tr>\n",
       "    <tr>\n",
       "      <th>2</th>\n",
       "      <td>20.021012</td>\n",
       "      <td>0.008453</td>\n",
       "      <td>0.000940</td>\n",
       "    </tr>\n",
       "  </tbody>\n",
       "</table>\n",
       "</div>"
      ],
      "text/plain": [
       "      Metric  Memory (MB)  CompTime (s)\n",
       "0        NaN     0.027605      0.000670\n",
       "1  19.265657     0.009155      0.000982\n",
       "2  20.021012     0.008453      0.000940"
      ]
     },
     "execution_count": 20,
     "metadata": {},
     "output_type": "execute_result"
    }
   ],
   "source": [
    "import pandas as pd\n",
    "import numpy as np\n",
    "from river import linear_model, preprocessing, datasets\n",
    "model = preprocessing.StandardScaler() | linear_model.LinearRegression()\n",
    "from river import datasets\n",
    "import pandas as pd\n",
    "dataset = datasets.TrumpApproval()\n",
    "data_dict = {key: [] for key in list(dataset)[0][0].keys()}\n",
    "data_dict[\"Approval\"] = []\n",
    "for x in dataset:\n",
    "    for key, value in x[0].items():\n",
    "        data_dict[key].append(value)\n",
    "    data_dict[\"Approval\"].append(x[1])\n",
    "df = pd.DataFrame(data_dict)\n",
    "df.rename(columns={'date': 'ordinal_date', 'Gallup': 'gallup', 'Ipsos': 'ipsos', 'Morning Consult': 'morning_consult', 'Rasmussen': 'rasmussen', 'YouGov': 'you_gov'}, inplace=True)\n",
    "train = df[0:499]\n",
    "test = df[500:-1]\n",
    "target_column = \"Approval\"\n",
    "horizon = 10\n",
    "oml_grace_period = 5\n",
    "include_remainder = True\n",
    "df_eval, df_preds = eval_oml_horizon(model=model,\n",
    "                                     train=train,\n",
    "                                     test=test,\n",
    "                                     target_column=target_column,\n",
    "                                     horizon=horizon,\n",
    "                                     include_remainder=include_remainder,\n",
    "                                     metric= mean_absolute_error,\n",
    "                                     oml_grace_period=oml_grace_period)\n",
    "df_eval.head(3)\n"
   ]
  },
  {
   "cell_type": "code",
   "execution_count": 21,
   "metadata": {},
   "outputs": [
    {
     "data": {
      "text/html": [
       "<div>\n",
       "<style scoped>\n",
       "    .dataframe tbody tr th:only-of-type {\n",
       "        vertical-align: middle;\n",
       "    }\n",
       "\n",
       "    .dataframe tbody tr th {\n",
       "        vertical-align: top;\n",
       "    }\n",
       "\n",
       "    .dataframe thead th {\n",
       "        text-align: right;\n",
       "    }\n",
       "</style>\n",
       "<table border=\"1\" class=\"dataframe\">\n",
       "  <thead>\n",
       "    <tr style=\"text-align: right;\">\n",
       "      <th></th>\n",
       "      <th>Approval</th>\n",
       "      <th>Prediction</th>\n",
       "      <th>Difference</th>\n",
       "    </tr>\n",
       "  </thead>\n",
       "  <tbody>\n",
       "    <tr>\n",
       "      <th>0</th>\n",
       "      <td>42.03181</td>\n",
       "      <td>18.448644</td>\n",
       "      <td>23.583166</td>\n",
       "    </tr>\n",
       "    <tr>\n",
       "      <th>1</th>\n",
       "      <td>42.03181</td>\n",
       "      <td>20.532721</td>\n",
       "      <td>21.499089</td>\n",
       "    </tr>\n",
       "    <tr>\n",
       "      <th>2</th>\n",
       "      <td>42.12241</td>\n",
       "      <td>17.559021</td>\n",
       "      <td>24.563389</td>\n",
       "    </tr>\n",
       "  </tbody>\n",
       "</table>\n",
       "</div>"
      ],
      "text/plain": [
       "   Approval  Prediction  Difference\n",
       "0  42.03181   18.448644   23.583166\n",
       "1  42.03181   20.532721   21.499089\n",
       "2  42.12241   17.559021   24.563389"
      ]
     },
     "execution_count": 21,
     "metadata": {},
     "output_type": "execute_result"
    }
   ],
   "source": [
    "df_preds.head(3)"
   ]
  },
  {
   "attachments": {},
   "cell_type": "markdown",
   "metadata": {},
   "source": [
    "## Drift"
   ]
  },
  {
   "cell_type": "code",
   "execution_count": 22,
   "metadata": {},
   "outputs": [],
   "source": [
    "horizon = 7*24\n",
    "k = 0.1\n",
    "n_total = int(k*100_000)\n",
    "p_1 = int(k*25_000)\n",
    "p_2 = int(k*50_000)\n",
    "position=(p_1, p_2)\n",
    "n_train = 1_000\n",
    "a = n_train + p_1 - 12\n",
    "b = a + 12"
   ]
  },
  {
   "cell_type": "code",
   "execution_count": 23,
   "metadata": {},
   "outputs": [],
   "source": [
    "from river.datasets import synth\n",
    "dataset = synth.FriedmanDrift(\n",
    "   drift_type='gra',\n",
    "   position=position,\n",
    "     seed=123\n",
    ")\n",
    "data_dict = {key: [] for key in list(dataset.take(1))[0][0].keys()}\n",
    "data_dict[\"y\"] = []\n",
    "for x, y in dataset.take(n_total):\n",
    "    for key, value in x.items():\n",
    "        data_dict[key].append(value)\n",
    "    data_dict[\"y\"].append(y)\n",
    "df = pd.DataFrame(data_dict)\n",
    "# Add column names x1 until x10 to the first 10 columns of the dataframe and the column name y to the last column\n",
    "df.columns = [f\"x{i}\" for i in range(1, 11)] + [\"y\"]\n",
    "train = df[:n_train]\n",
    "test = df[n_train:]\n",
    "target_column = \"y\""
   ]
  },
  {
   "cell_type": "code",
   "execution_count": 24,
   "metadata": {},
   "outputs": [],
   "source": [
    "oml_lm = preprocessing.StandardScaler()\n",
    "oml_lm |= linear_model.LinearRegression()\n",
    "\n",
    "df_eval_oml_lm, df_true_oml_lm = eval_oml_horizon(model=oml_lm, train=train, test=test, target_column=\"y\", horizon=horizon, metric=mean_absolute_error, oml_grace_period=horizon)"
   ]
  },
  {
   "cell_type": "code",
   "execution_count": 26,
   "metadata": {},
   "outputs": [
    {
     "data": {
      "text/html": [
       "<div>\n",
       "<style scoped>\n",
       "    .dataframe tbody tr th:only-of-type {\n",
       "        vertical-align: middle;\n",
       "    }\n",
       "\n",
       "    .dataframe tbody tr th {\n",
       "        vertical-align: top;\n",
       "    }\n",
       "\n",
       "    .dataframe thead th {\n",
       "        text-align: right;\n",
       "    }\n",
       "</style>\n",
       "<table border=\"1\" class=\"dataframe\">\n",
       "  <thead>\n",
       "    <tr style=\"text-align: right;\">\n",
       "      <th></th>\n",
       "      <th>Metric</th>\n",
       "      <th>Memory (MB)</th>\n",
       "      <th>CompTime (s)</th>\n",
       "    </tr>\n",
       "  </thead>\n",
       "  <tbody>\n",
       "    <tr>\n",
       "      <th>0</th>\n",
       "      <td>NaN</td>\n",
       "      <td>0.015199</td>\n",
       "      <td>0.019163</td>\n",
       "    </tr>\n",
       "    <tr>\n",
       "      <th>1</th>\n",
       "      <td>2.148333</td>\n",
       "      <td>0.014881</td>\n",
       "      <td>0.018838</td>\n",
       "    </tr>\n",
       "    <tr>\n",
       "      <th>2</th>\n",
       "      <td>2.061236</td>\n",
       "      <td>0.014067</td>\n",
       "      <td>0.018572</td>\n",
       "    </tr>\n",
       "  </tbody>\n",
       "</table>\n",
       "</div>"
      ],
      "text/plain": [
       "     Metric  Memory (MB)  CompTime (s)\n",
       "0       NaN     0.015199      0.019163\n",
       "1  2.148333     0.014881      0.018838\n",
       "2  2.061236     0.014067      0.018572"
      ]
     },
     "execution_count": 26,
     "metadata": {},
     "output_type": "execute_result"
    }
   ],
   "source": [
    "df_eval_oml_lm.head(3)"
   ]
  },
  {
   "cell_type": "code",
   "execution_count": 27,
   "metadata": {},
   "outputs": [
    {
     "data": {
      "text/html": [
       "<div>\n",
       "<style scoped>\n",
       "    .dataframe tbody tr th:only-of-type {\n",
       "        vertical-align: middle;\n",
       "    }\n",
       "\n",
       "    .dataframe tbody tr th {\n",
       "        vertical-align: top;\n",
       "    }\n",
       "\n",
       "    .dataframe thead th {\n",
       "        text-align: right;\n",
       "    }\n",
       "</style>\n",
       "<table border=\"1\" class=\"dataframe\">\n",
       "  <thead>\n",
       "    <tr style=\"text-align: right;\">\n",
       "      <th></th>\n",
       "      <th>y</th>\n",
       "      <th>Prediction</th>\n",
       "      <th>Difference</th>\n",
       "    </tr>\n",
       "  </thead>\n",
       "  <tbody>\n",
       "    <tr>\n",
       "      <th>0</th>\n",
       "      <td>9.639799</td>\n",
       "      <td>7.719836</td>\n",
       "      <td>1.919963</td>\n",
       "    </tr>\n",
       "    <tr>\n",
       "      <th>1</th>\n",
       "      <td>11.859974</td>\n",
       "      <td>13.507064</td>\n",
       "      <td>-1.647090</td>\n",
       "    </tr>\n",
       "    <tr>\n",
       "      <th>2</th>\n",
       "      <td>11.761361</td>\n",
       "      <td>10.599318</td>\n",
       "      <td>1.162043</td>\n",
       "    </tr>\n",
       "  </tbody>\n",
       "</table>\n",
       "</div>"
      ],
      "text/plain": [
       "           y  Prediction  Difference\n",
       "0   9.639799    7.719836    1.919963\n",
       "1  11.859974   13.507064   -1.647090\n",
       "2  11.761361   10.599318    1.162043"
      ]
     },
     "execution_count": 27,
     "metadata": {},
     "output_type": "execute_result"
    }
   ],
   "source": [
    "df_true_oml_lm.head(3)"
   ]
  },
  {
   "attachments": {},
   "cell_type": "markdown",
   "metadata": {},
   "source": [
    "## Example Classification"
   ]
  },
  {
   "cell_type": "code",
   "execution_count": 34,
   "metadata": {},
   "outputs": [],
   "source": [
    "from river.datasets import synth\n",
    "dataset = synth.SEA(variant=0, seed=42)\n",
    "data_dict = {key: [] for key in list(dataset.take(1))[0][0].keys()}\n",
    "data_dict[\"y\"] = []\n",
    "for x, y in dataset.take(n_total):\n",
    "    for key, value in x.items():\n",
    "        data_dict[key].append(value)\n",
    "    data_dict[\"y\"].append(y)\n",
    "df = pd.DataFrame(data_dict)\n",
    "# Add column names x1 until x10 to the first 10 columns of the dataframe and the column name y to the last column\n",
    "df.columns = [f\"x{i}\" for i in range(1, 4)] + [\"y\"]\n",
    "df = df.apply(lambda x: x.astype(int) if x.dtype == bool else x)\n",
    "train = df[:n_train]\n",
    "test = df[n_train:]\n",
    "target_column = \"y\""
   ]
  },
  {
   "cell_type": "code",
   "execution_count": 35,
   "metadata": {},
   "outputs": [
    {
     "data": {
      "text/html": [
       "<div>\n",
       "<style scoped>\n",
       "    .dataframe tbody tr th:only-of-type {\n",
       "        vertical-align: middle;\n",
       "    }\n",
       "\n",
       "    .dataframe tbody tr th {\n",
       "        vertical-align: top;\n",
       "    }\n",
       "\n",
       "    .dataframe thead th {\n",
       "        text-align: right;\n",
       "    }\n",
       "</style>\n",
       "<table border=\"1\" class=\"dataframe\">\n",
       "  <thead>\n",
       "    <tr style=\"text-align: right;\">\n",
       "      <th></th>\n",
       "      <th>x1</th>\n",
       "      <th>x2</th>\n",
       "      <th>x3</th>\n",
       "      <th>y</th>\n",
       "    </tr>\n",
       "  </thead>\n",
       "  <tbody>\n",
       "    <tr>\n",
       "      <th>0</th>\n",
       "      <td>6.394268</td>\n",
       "      <td>0.250108</td>\n",
       "      <td>2.750293</td>\n",
       "      <td>0</td>\n",
       "    </tr>\n",
       "    <tr>\n",
       "      <th>1</th>\n",
       "      <td>2.232107</td>\n",
       "      <td>7.364712</td>\n",
       "      <td>6.766995</td>\n",
       "      <td>1</td>\n",
       "    </tr>\n",
       "    <tr>\n",
       "      <th>2</th>\n",
       "      <td>8.921796</td>\n",
       "      <td>0.869388</td>\n",
       "      <td>4.219218</td>\n",
       "      <td>1</td>\n",
       "    </tr>\n",
       "  </tbody>\n",
       "</table>\n",
       "</div>"
      ],
      "text/plain": [
       "         x1        x2        x3  y\n",
       "0  6.394268  0.250108  2.750293  0\n",
       "1  2.232107  7.364712  6.766995  1\n",
       "2  8.921796  0.869388  4.219218  1"
      ]
     },
     "execution_count": 35,
     "metadata": {},
     "output_type": "execute_result"
    }
   ],
   "source": [
    "train.head(3)"
   ]
  },
  {
   "cell_type": "code",
   "execution_count": 36,
   "metadata": {},
   "outputs": [
    {
     "data": {
      "text/html": [
       "<div>\n",
       "<style scoped>\n",
       "    .dataframe tbody tr th:only-of-type {\n",
       "        vertical-align: middle;\n",
       "    }\n",
       "\n",
       "    .dataframe tbody tr th {\n",
       "        vertical-align: top;\n",
       "    }\n",
       "\n",
       "    .dataframe thead th {\n",
       "        text-align: right;\n",
       "    }\n",
       "</style>\n",
       "<table border=\"1\" class=\"dataframe\">\n",
       "  <thead>\n",
       "    <tr style=\"text-align: right;\">\n",
       "      <th></th>\n",
       "      <th>x1</th>\n",
       "      <th>x2</th>\n",
       "      <th>x3</th>\n",
       "      <th>y</th>\n",
       "    </tr>\n",
       "  </thead>\n",
       "  <tbody>\n",
       "    <tr>\n",
       "      <th>1000</th>\n",
       "      <td>8.640507</td>\n",
       "      <td>6.509696</td>\n",
       "      <td>6.871604</td>\n",
       "      <td>1</td>\n",
       "    </tr>\n",
       "    <tr>\n",
       "      <th>1001</th>\n",
       "      <td>1.626565</td>\n",
       "      <td>0.737094</td>\n",
       "      <td>8.457625</td>\n",
       "      <td>0</td>\n",
       "    </tr>\n",
       "    <tr>\n",
       "      <th>1002</th>\n",
       "      <td>2.949086</td>\n",
       "      <td>3.187169</td>\n",
       "      <td>9.516621</td>\n",
       "      <td>0</td>\n",
       "    </tr>\n",
       "  </tbody>\n",
       "</table>\n",
       "</div>"
      ],
      "text/plain": [
       "            x1        x2        x3  y\n",
       "1000  8.640507  6.509696  6.871604  1\n",
       "1001  1.626565  0.737094  8.457625  0\n",
       "1002  2.949086  3.187169  9.516621  0"
      ]
     },
     "execution_count": 36,
     "metadata": {},
     "output_type": "execute_result"
    }
   ],
   "source": [
    "test.head(3)"
   ]
  },
  {
   "cell_type": "code",
   "execution_count": 37,
   "metadata": {},
   "outputs": [],
   "source": [
    "oml_lm = preprocessing.StandardScaler()\n",
    "oml_lm |= linear_model.LogisticRegression()\n",
    "\n",
    "df_eval_oml_lm, df_true_oml_lm = eval_oml_horizon(model=oml_lm, train=train, test=test, target_column=\"y\", horizon=horizon, metric=accuracy_score, oml_grace_period=horizon)"
   ]
  },
  {
   "cell_type": "code",
   "execution_count": 38,
   "metadata": {},
   "outputs": [
    {
     "data": {
      "text/html": [
       "<div>\n",
       "<style scoped>\n",
       "    .dataframe tbody tr th:only-of-type {\n",
       "        vertical-align: middle;\n",
       "    }\n",
       "\n",
       "    .dataframe tbody tr th {\n",
       "        vertical-align: top;\n",
       "    }\n",
       "\n",
       "    .dataframe thead th {\n",
       "        text-align: right;\n",
       "    }\n",
       "</style>\n",
       "<table border=\"1\" class=\"dataframe\">\n",
       "  <thead>\n",
       "    <tr style=\"text-align: right;\">\n",
       "      <th></th>\n",
       "      <th>Metric</th>\n",
       "      <th>Memory (MB)</th>\n",
       "      <th>CompTime (s)</th>\n",
       "    </tr>\n",
       "  </thead>\n",
       "  <tbody>\n",
       "    <tr>\n",
       "      <th>0</th>\n",
       "      <td>NaN</td>\n",
       "      <td>0.014008</td>\n",
       "      <td>0.010726</td>\n",
       "    </tr>\n",
       "    <tr>\n",
       "      <th>1</th>\n",
       "      <td>0.964286</td>\n",
       "      <td>0.011119</td>\n",
       "      <td>0.009905</td>\n",
       "    </tr>\n",
       "    <tr>\n",
       "      <th>2</th>\n",
       "      <td>0.988095</td>\n",
       "      <td>0.008796</td>\n",
       "      <td>0.010258</td>\n",
       "    </tr>\n",
       "  </tbody>\n",
       "</table>\n",
       "</div>"
      ],
      "text/plain": [
       "     Metric  Memory (MB)  CompTime (s)\n",
       "0       NaN     0.014008      0.010726\n",
       "1  0.964286     0.011119      0.009905\n",
       "2  0.988095     0.008796      0.010258"
      ]
     },
     "execution_count": 38,
     "metadata": {},
     "output_type": "execute_result"
    }
   ],
   "source": [
    "df_eval_oml_lm.head(3)"
   ]
  },
  {
   "attachments": {},
   "cell_type": "markdown",
   "metadata": {},
   "source": [
    "# Plots"
   ]
  },
  {
   "cell_type": "code",
   "execution_count": 50,
   "metadata": {},
   "outputs": [],
   "source": [
    "import copy\n",
    "import matplotlib.pyplot as plt\n",
    "def plot_bml_oml_horizon_metrics(\n",
    "    df_eval: list[pd.DataFrame] = None,\n",
    "    df_labels: list = None,\n",
    "    log_x=False,\n",
    "    log_y=False,\n",
    "    cumulative=True,\n",
    "    grid=True,\n",
    "    fig_width=16,\n",
    "    fig_height=5,\n",
    "    metric=None,\n",
    "    **kwargs,\n",
    ") -> None:\n",
    "    # Check if input dataframes are provided\n",
    "    if df_eval is not None:\n",
    "        df_list = copy.deepcopy(df_eval)\n",
    "        # Convert single dataframe input to a list if needed\n",
    "        if df_list.__class__ != list:\n",
    "            df_list = [df_list]\n",
    "        # Define metric names and titles\n",
    "        metric_name = metric.__class__.__name__\n",
    "        metrics = [\"Metric\", \"CompTime (s)\", \"Memory (MB)\"]\n",
    "        titles = [metric_name, \"Computation time (s)\", \"Memory (MB)\"]\n",
    "        # Create subplots with shared x-axis\n",
    "        fig, axes = plt.subplots(3, figsize=(fig_width, fig_height), constrained_layout=True, sharex=True)\n",
    "        # Loop over each dataframe in input list\n",
    "        for j, df in enumerate(df_list):\n",
    "            if cumulative:\n",
    "                # df.MAE = np.cumsum(df.MAE) / range(1, (1 + df.MAE.size))\n",
    "                df[\"Metric\"] = np.cumsum(df[\"Metric\"]) / range(1, (1 + df[\"Metric\"].size))\n",
    "                df[\"CompTime (s)\"] = np.cumsum(df[\"CompTime (s)\"])  # / range(1, (1 + df[\"CompTime (s)\"].size))\n",
    "                # df[\"Memory (MB)\"] = np.cumsum(df[\"Memory (MB)\"]) / range(1, (1 + df[\"Memory (MB)\"].size))\n",
    "            # Loop over each metric\n",
    "            for i in range(3):\n",
    "                # Assign label based on input or default value\n",
    "                if df_labels is None:\n",
    "                    label = f\"{j}\"\n",
    "                else:\n",
    "                    label = df_labels[j]\n",
    "                # Plot metric values against dataset names\n",
    "                axes[i].plot(df.index.values.tolist(), df[metrics[i]].values.tolist(), label=label, **kwargs)\n",
    "                # Set title and legend\n",
    "                axes[i].set_title(titles[i])\n",
    "                axes[i].legend(loc=\"upper right\")\n",
    "                axes[i].grid(grid)\n",
    "                # Set logarithmic scales if specified\n",
    "                if log_x:\n",
    "                    axes[i].set_xscale(\"log\")\n",
    "                if log_y:\n",
    "                    axes[i].set_yscale(\"log\")\n"
   ]
  },
  {
   "cell_type": "code",
   "execution_count": 51,
   "metadata": {},
   "outputs": [
    {
     "data": {
      "image/png": "[encoded data removed]",
      "text/plain": [
       "<Figure size 1600x500 with 3 Axes>"
      ]
     },
     "metadata": {},
     "output_type": "display_data"
    }
   ],
   "source": [
    "df_labels=[\"oml\"]\n",
    "plot_bml_oml_horizon_metrics(df_eval = [df_eval_oml_lm], df_labels=df_labels, cumulative=True)"
   ]
  },
  {
   "cell_type": "code",
   "execution_count": 59,
   "metadata": {},
   "outputs": [
    {
     "data": {
      "text/html": [
       "<div>\n",
       "<style scoped>\n",
       "    .dataframe tbody tr th:only-of-type {\n",
       "        vertical-align: middle;\n",
       "    }\n",
       "\n",
       "    .dataframe tbody tr th {\n",
       "        vertical-align: top;\n",
       "    }\n",
       "\n",
       "    .dataframe thead th {\n",
       "        text-align: right;\n",
       "    }\n",
       "</style>\n",
       "<table border=\"1\" class=\"dataframe\">\n",
       "  <thead>\n",
       "    <tr style=\"text-align: right;\">\n",
       "      <th></th>\n",
       "      <th>y</th>\n",
       "      <th>Prediction</th>\n",
       "      <th>Difference</th>\n",
       "    </tr>\n",
       "  </thead>\n",
       "  <tbody>\n",
       "    <tr>\n",
       "      <th>0</th>\n",
       "      <td>1</td>\n",
       "      <td>1</td>\n",
       "      <td>0</td>\n",
       "    </tr>\n",
       "    <tr>\n",
       "      <th>1</th>\n",
       "      <td>0</td>\n",
       "      <td>0</td>\n",
       "      <td>0</td>\n",
       "    </tr>\n",
       "    <tr>\n",
       "      <th>2</th>\n",
       "      <td>0</td>\n",
       "      <td>0</td>\n",
       "      <td>0</td>\n",
       "    </tr>\n",
       "  </tbody>\n",
       "</table>\n",
       "</div>"
      ],
      "text/plain": [
       "   y  Prediction  Difference\n",
       "0  1           1           0\n",
       "1  0           0           0\n",
       "2  0           0           0"
      ]
     },
     "execution_count": 59,
     "metadata": {},
     "output_type": "execute_result"
    }
   ],
   "source": [
    "df_true_oml_lm = df_true_oml_lm.apply(lambda x: x.astype(int) if x.dtype == bool else x)\n",
    "df_true_oml_lm.head(3)"
   ]
  },
  {
   "cell_type": "code",
   "execution_count": 60,
   "metadata": {},
   "outputs": [],
   "source": [
    "def plot_bml_oml_horizon_predictions(\n",
    "df_true: list[pd.DataFrame] = None,\n",
    "df_labels: list = None,\n",
    "target_column: str = \"Actual\",\n",
    "log_x=False,\n",
    "log_y=False,\n",
    "skip_first_n=0,\n",
    "grid=True,\n",
    "fig_width=16,\n",
    "fig_height=5,\n",
    "**kwargs,\n",
    ") -> None:\n",
    "    if df_true is not None:\n",
    "        df_plot = copy.deepcopy(df_true)\n",
    "    if df_plot.__class__ != list:\n",
    "        df_plot = [df_plot]\n",
    "    # plot actual vs predicted values\n",
    "    plt.figure(figsize=(fig_width, fig_height))\n",
    "    for j, df in enumerate(df_plot):\n",
    "        # Assign label based on input or default value\n",
    "        if df_labels is None:\n",
    "            label = f\"{j}\"\n",
    "        else:\n",
    "            label = df_labels[j]\n",
    "        # skip first n values\n",
    "        df[\"Prediction\"][range(skip_first_n)] = np.nan\n",
    "        plt.plot(df.index, df[\"Prediction\"], label=label, **kwargs)\n",
    "    # Plot the actual value only once:\n",
    "    plt.plot(df_plot[0].index, df_plot[0][target_column], label=\"Actual\", **kwargs)\n",
    "    plt.title(\"Actual vs Prediction\")\n",
    "    if log_x:\n",
    "        plt.xscale(\"log\")\n",
    "    if log_y:\n",
    "        plt.yscale(\"log\")\n",
    "    plt.grid(grid)\n",
    "    plt.legend()\n",
    "plt.show()\n"
   ]
  },
  {
   "cell_type": "code",
   "execution_count": 64,
   "metadata": {},
   "outputs": [
    {
     "data": {
      "image/png": "[encoded data removed]",
      "text/plain": [
       "<Figure size 1600x500 with 1 Axes>"
      ]
     },
     "metadata": {},
     "output_type": "display_data"
    }
   ],
   "source": [
    "plot_bml_oml_horizon_predictions(df_true = [df_true_oml_lm[0:50]], target_column=target_column,  df_labels=df_labels)"
   ]
  },
  {
   "cell_type": "code",
   "execution_count": null,
   "metadata": {},
   "outputs": [],
   "source": []
  }
 ],
 "metadata": {
  "kernelspec": {
   "display_name": "base",
   "language": "python",
   "name": "python3"
  },
  "language_info": {
   "codemirror_mode": {
    "name": "ipython",
    "version": 3
   },
   "file_extension": ".py",
   "mimetype": "text/x-python",
   "name": "python",
   "nbconvert_exporter": "python",
   "pygments_lexer": "ipython3",
   "version": "3.10.6"
  },
  "orig_nbformat": 4
 },
 "nbformat": 4,
 "nbformat_minor": 2
}
